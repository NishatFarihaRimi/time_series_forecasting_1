{
  "cells": [
    {
      "cell_type": "code",
      "execution_count": 1,
      "metadata": {
        "id": "smGtO6-M0R6B"
      },
      "outputs": [],
      "source": [
        "# Import libraries\n",
        "import pandas as pd\n",
        "import seaborn as sns\n",
        "import matplotlib.pyplot as plt"
      ]
    },
    {
      "cell_type": "markdown",
      "metadata": {
        "id": "2BILmnm62Gbc"
      },
      "source": [
        "# Load data"
      ]
    },
    {
      "cell_type": "code",
      "execution_count": null,
      "metadata": {
        "colab": {
          "base_uri": "https://localhost:8080/"
        },
        "id": "_ofzZ0Jr1-K6",
        "outputId": "57e2403b-20e5-4d3e-c1c6-84da9dccbc82"
      },
      "outputs": [
        {
          "name": "stdout",
          "output_type": "stream",
          "text": [
            "Drive already mounted at /content/drive; to attempt to forcibly remount, call drive.mount(\"/content/drive\", force_remount=True).\n"
          ]
        }
      ],
      "source": [
        "#from google.colab import drive\n",
        "#drive.mount('/content/drive')"
      ]
    },
    {
      "cell_type": "code",
      "execution_count": 2,
      "metadata": {
        "id": "G6SeFglC10hO"
      },
      "outputs": [],
      "source": [
        "# Load the CSV files into pandas DataFrames\n",
        "df_stores = pd.read_csv('Data/stores.csv')\n",
        "df_items = pd.read_csv('Data/items.csv')\n",
        "df_transactions = pd.read_csv('Data/transactions.csv')\n",
        "df_oil = pd.read_csv('Data/oil.csv')\n",
        "df_holidays_events = pd.read_csv('Data/holidays_events.csv')\n",
        "\n",
        "# Note: train file is very large.\n",
        "# To make sure we fit RAM avaible on Google-Colab, we will load only part of the file\n",
        "#nrows=2e6: This argument tells Pandas to read only the first 2 million rows of the CSV file.\n",
        "df_train = pd.read_csv('Data/train.csv', nrows=2e6)"
      ]
    },
    {
      "cell_type": "code",
      "execution_count": null,
      "metadata": {
        "colab": {
          "base_uri": "https://localhost:8080/",
          "height": 206
        },
        "id": "G0nmdqOc3FUn",
        "outputId": "23d15d13-5883-4df7-8b1b-7699fa158728"
      },
      "outputs": [
        {
          "data": {
            "text/html": [
              "<div>\n",
              "<style scoped>\n",
              "    .dataframe tbody tr th:only-of-type {\n",
              "        vertical-align: middle;\n",
              "    }\n",
              "\n",
              "    .dataframe tbody tr th {\n",
              "        vertical-align: top;\n",
              "    }\n",
              "\n",
              "    .dataframe thead th {\n",
              "        text-align: right;\n",
              "    }\n",
              "</style>\n",
              "<table border=\"1\" class=\"dataframe\">\n",
              "  <thead>\n",
              "    <tr style=\"text-align: right;\">\n",
              "      <th></th>\n",
              "      <th>store_nbr</th>\n",
              "      <th>city</th>\n",
              "      <th>state</th>\n",
              "      <th>type</th>\n",
              "      <th>cluster</th>\n",
              "    </tr>\n",
              "  </thead>\n",
              "  <tbody>\n",
              "    <tr>\n",
              "      <th>0</th>\n",
              "      <td>1</td>\n",
              "      <td>Quito</td>\n",
              "      <td>Pichincha</td>\n",
              "      <td>D</td>\n",
              "      <td>13</td>\n",
              "    </tr>\n",
              "    <tr>\n",
              "      <th>1</th>\n",
              "      <td>2</td>\n",
              "      <td>Quito</td>\n",
              "      <td>Pichincha</td>\n",
              "      <td>D</td>\n",
              "      <td>13</td>\n",
              "    </tr>\n",
              "    <tr>\n",
              "      <th>2</th>\n",
              "      <td>3</td>\n",
              "      <td>Quito</td>\n",
              "      <td>Pichincha</td>\n",
              "      <td>D</td>\n",
              "      <td>8</td>\n",
              "    </tr>\n",
              "    <tr>\n",
              "      <th>3</th>\n",
              "      <td>4</td>\n",
              "      <td>Quito</td>\n",
              "      <td>Pichincha</td>\n",
              "      <td>D</td>\n",
              "      <td>9</td>\n",
              "    </tr>\n",
              "    <tr>\n",
              "      <th>4</th>\n",
              "      <td>5</td>\n",
              "      <td>Santo Domingo</td>\n",
              "      <td>Santo Domingo de los Tsachilas</td>\n",
              "      <td>D</td>\n",
              "      <td>4</td>\n",
              "    </tr>\n",
              "  </tbody>\n",
              "</table>\n",
              "</div>"
            ],
            "text/plain": [
              "   store_nbr           city                           state type  cluster\n",
              "0          1          Quito                       Pichincha    D       13\n",
              "1          2          Quito                       Pichincha    D       13\n",
              "2          3          Quito                       Pichincha    D        8\n",
              "3          4          Quito                       Pichincha    D        9\n",
              "4          5  Santo Domingo  Santo Domingo de los Tsachilas    D        4"
            ]
          },
          "execution_count": 3,
          "metadata": {},
          "output_type": "execute_result"
        }
      ],
      "source": [
        "#store_nbr:\tUnique store number/ID\n",
        "#city: The city where the store is located.\n",
        "#state:\tThe state within the country\n",
        "#type:\tStore type/category — probably a label indicating store format or size.\n",
        "#cluster:\tStore cluster number — groups stores by similarity\n",
        "\n",
        "df_stores.head()"
      ]
    },
    {
      "cell_type": "code",
      "execution_count": null,
      "metadata": {},
      "outputs": [],
      "source": [
        "#Store Clusters (cluster): Number of unique store clusters.\n",
        "print(\"Total cluster(store types): \",df_stores['cluster'].nunique())\n",
        "\n",
        "#Geographic Spread: Number of unique states and cities.\n",
        "print(\"Total number of states: \",df_stores['state'].nunique())\n",
        "print(\"Total number of cities: \",df_stores['city'].nunique())\n",
        "\n",
        "#Store Type Distribution: Frequency of store types\n",
        "df_stores['type'].value_counts()"
      ]
    },
    {
      "cell_type": "code",
      "execution_count": 16,
      "metadata": {
        "colab": {
          "base_uri": "https://localhost:8080/",
          "height": 703
        },
        "id": "KkQdWIhEEK69",
        "outputId": "4119769b-829d-4ff0-8105-e36ad953be1b"
      },
      "outputs": [
        {
          "name": "stdout",
          "output_type": "stream",
          "text": [
            "Total store number:  54\n",
            "state\n",
            "Pichincha                         19\n",
            "Guayas                            11\n",
            "Azuay                              3\n",
            "Manabi                             3\n",
            "Santo Domingo de los Tsachilas     3\n",
            "Cotopaxi                           2\n",
            "El Oro                             2\n",
            "Los Rios                           2\n",
            "Tungurahua                         2\n",
            "Bolivar                            1\n",
            "Chimborazo                         1\n",
            "Esmeraldas                         1\n",
            "Imbabura                           1\n",
            "Loja                               1\n",
            "Pastaza                            1\n",
            "Santa Elena                        1\n",
            "Name: store_nbr, dtype: int64\n"
          ]
        },
        {
          "data": {
            "image/png": "[encoded data removed]",
            "text/plain": [
              "<Figure size 1200x600 with 1 Axes>"
            ]
          },
          "metadata": {},
          "output_type": "display_data"
        }
      ],
      "source": [
        "#Plot the number of stores per state\n",
        "\n",
        "# Count number of stores in each state\n",
        "store_counts = df_stores.groupby('state')['store_nbr'].nunique().sort_values(ascending=False)\n",
        "print('Total store number: ',store_counts.sum())\n",
        "print(store_counts)\n",
        "\n",
        "\n",
        "\n",
        "\n",
        "store_counts.plot(kind='bar', figsize=(12, 6), title='Number of Stores by State')\n",
        "plt.xlabel('State')\n",
        "plt.ylabel('Number of Stores')\n",
        "plt.xticks(rotation=45)\n",
        "plt.grid(True)\n",
        "plt.tight_layout()\n",
        "plt.show()"
      ]
    },
    {
      "cell_type": "code",
      "execution_count": 5,
      "metadata": {
        "colab": {
          "base_uri": "https://localhost:8080/",
          "height": 206
        },
        "id": "HTLZyQTy3K4Y",
        "outputId": "7e366eab-ae02-446d-e4e0-6c87036cac3f"
      },
      "outputs": [
        {
          "data": {
            "text/html": [
              "<div>\n",
              "<style scoped>\n",
              "    .dataframe tbody tr th:only-of-type {\n",
              "        vertical-align: middle;\n",
              "    }\n",
              "\n",
              "    .dataframe tbody tr th {\n",
              "        vertical-align: top;\n",
              "    }\n",
              "\n",
              "    .dataframe thead th {\n",
              "        text-align: right;\n",
              "    }\n",
              "</style>\n",
              "<table border=\"1\" class=\"dataframe\">\n",
              "  <thead>\n",
              "    <tr style=\"text-align: right;\">\n",
              "      <th></th>\n",
              "      <th>item_nbr</th>\n",
              "      <th>family</th>\n",
              "      <th>class</th>\n",
              "      <th>perishable</th>\n",
              "    </tr>\n",
              "  </thead>\n",
              "  <tbody>\n",
              "    <tr>\n",
              "      <th>0</th>\n",
              "      <td>96995</td>\n",
              "      <td>GROCERY I</td>\n",
              "      <td>1093</td>\n",
              "      <td>0</td>\n",
              "    </tr>\n",
              "    <tr>\n",
              "      <th>1</th>\n",
              "      <td>99197</td>\n",
              "      <td>GROCERY I</td>\n",
              "      <td>1067</td>\n",
              "      <td>0</td>\n",
              "    </tr>\n",
              "    <tr>\n",
              "      <th>2</th>\n",
              "      <td>103501</td>\n",
              "      <td>CLEANING</td>\n",
              "      <td>3008</td>\n",
              "      <td>0</td>\n",
              "    </tr>\n",
              "    <tr>\n",
              "      <th>3</th>\n",
              "      <td>103520</td>\n",
              "      <td>GROCERY I</td>\n",
              "      <td>1028</td>\n",
              "      <td>0</td>\n",
              "    </tr>\n",
              "    <tr>\n",
              "      <th>4</th>\n",
              "      <td>103665</td>\n",
              "      <td>BREAD/BAKERY</td>\n",
              "      <td>2712</td>\n",
              "      <td>1</td>\n",
              "    </tr>\n",
              "  </tbody>\n",
              "</table>\n",
              "</div>"
            ],
            "text/plain": [
              "   item_nbr        family  class  perishable\n",
              "0     96995     GROCERY I   1093           0\n",
              "1     99197     GROCERY I   1067           0\n",
              "2    103501      CLEANING   3008           0\n",
              "3    103520     GROCERY I   1028           0\n",
              "4    103665  BREAD/BAKERY   2712           1"
            ]
          },
          "execution_count": 5,
          "metadata": {},
          "output_type": "execute_result"
        }
      ],
      "source": [
        "#product-level metadata dataset—likely part of a larger retail or sales forecasting dataset.\n",
        "#item_nbr\tA unique identifier for each product (item number).\n",
        "#family\tThe category or department the product belongs to (e.g., GROCERY I).\n",
        "#class\tA subcategory or grouping code (numeric class label).\n",
        "#perishable\tIndicates whether the item is perishable (1 = yes, 0 = no).\n",
        "\n",
        "df_items.head()"
      ]
    },
    {
      "cell_type": "code",
      "execution_count": null,
      "metadata": {
        "colab": {
          "base_uri": "https://localhost:8080/",
          "height": 692
        },
        "id": "Kj-ioSjjCXRj",
        "outputId": "382b3b09-7d91-4e38-b493-7906c4ebae6c"
      },
      "outputs": [
        {
          "name": "stdout",
          "output_type": "stream",
          "text": [
            "Unique items 4100\n"
          ]
        },
        {
          "data": {
            "text/plain": [
              "<Axes: xlabel='family'>"
            ]
          },
          "execution_count": 6,
          "metadata": {},
          "output_type": "execute_result"
        },
        {
          "data": {
            "image/png": "[encoded data removed]",
            "text/plain": [
              "<Figure size 640x480 with 1 Axes>"
            ]
          },
          "metadata": {},
          "output_type": "display_data"
        }
      ],
      "source": [
        "#Check number of unique products and families:\n",
        "print(\"Unique items\", df_items['item_nbr'].nunique())\n",
        "\n",
        "# Plot the number of items for each family\n",
        "df_items['family'].value_counts().plot(kind='bar')"
      ]
    },
    {
      "cell_type": "code",
      "execution_count": 7,
      "metadata": {
        "colab": {
          "base_uri": "https://localhost:8080/",
          "height": 206
        },
        "id": "_idZyRs33ODA",
        "outputId": "f8e8ea25-c6b0-4ed3-b466-0f9f97844e5c"
      },
      "outputs": [
        {
          "data": {
            "text/html": [
              "<div>\n",
              "<style scoped>\n",
              "    .dataframe tbody tr th:only-of-type {\n",
              "        vertical-align: middle;\n",
              "    }\n",
              "\n",
              "    .dataframe tbody tr th {\n",
              "        vertical-align: top;\n",
              "    }\n",
              "\n",
              "    .dataframe thead th {\n",
              "        text-align: right;\n",
              "    }\n",
              "</style>\n",
              "<table border=\"1\" class=\"dataframe\">\n",
              "  <thead>\n",
              "    <tr style=\"text-align: right;\">\n",
              "      <th></th>\n",
              "      <th>date</th>\n",
              "      <th>store_nbr</th>\n",
              "      <th>transactions</th>\n",
              "    </tr>\n",
              "  </thead>\n",
              "  <tbody>\n",
              "    <tr>\n",
              "      <th>0</th>\n",
              "      <td>2013-01-01</td>\n",
              "      <td>25</td>\n",
              "      <td>770</td>\n",
              "    </tr>\n",
              "    <tr>\n",
              "      <th>1</th>\n",
              "      <td>2013-01-02</td>\n",
              "      <td>1</td>\n",
              "      <td>2111</td>\n",
              "    </tr>\n",
              "    <tr>\n",
              "      <th>2</th>\n",
              "      <td>2013-01-02</td>\n",
              "      <td>2</td>\n",
              "      <td>2358</td>\n",
              "    </tr>\n",
              "    <tr>\n",
              "      <th>3</th>\n",
              "      <td>2013-01-02</td>\n",
              "      <td>3</td>\n",
              "      <td>3487</td>\n",
              "    </tr>\n",
              "    <tr>\n",
              "      <th>4</th>\n",
              "      <td>2013-01-02</td>\n",
              "      <td>4</td>\n",
              "      <td>1922</td>\n",
              "    </tr>\n",
              "  </tbody>\n",
              "</table>\n",
              "</div>"
            ],
            "text/plain": [
              "         date  store_nbr  transactions\n",
              "0  2013-01-01         25           770\n",
              "1  2013-01-02          1          2111\n",
              "2  2013-01-02          2          2358\n",
              "3  2013-01-02          3          3487\n",
              "4  2013-01-02          4          1922"
            ]
          },
          "execution_count": 7,
          "metadata": {},
          "output_type": "execute_result"
        }
      ],
      "source": [
        "#store_nbr, transactions id\n",
        "df_transactions.head()"
      ]
    },
    {
      "cell_type": "code",
      "execution_count": 17,
      "metadata": {
        "colab": {
          "base_uri": "https://localhost:8080/"
        },
        "id": "y83soJ5E7X0B",
        "outputId": "26c8176e-3fd3-4e8a-d4d0-ab952908cf04"
      },
      "outputs": [
        {
          "name": "stdout",
          "output_type": "stream",
          "text": [
            "Total store number  54\n"
          ]
        },
        {
          "data": {
            "text/plain": [
              "(Timestamp('2013-01-01 00:00:00'), Timestamp('2017-08-15 00:00:00'))"
            ]
          },
          "execution_count": 17,
          "metadata": {},
          "output_type": "execute_result"
        }
      ],
      "source": [
        "#Convert date to datetime format:\n",
        "df_transactions['date'] = pd.to_datetime(df_transactions['date'])\n",
        "\n",
        "#Unique store number and time range\n",
        "print('Total store number ', df_transactions['store_nbr'].nunique())\n",
        "df_transactions['date'].min(), df_transactions['date'].max()\n"
      ]
    },
    {
      "cell_type": "code",
      "execution_count": 18,
      "metadata": {
        "colab": {
          "base_uri": "https://localhost:8080/",
          "height": 206
        },
        "id": "t97-IF3M3SEW",
        "outputId": "d15a76c4-885a-48d4-daaf-68197c2fc426"
      },
      "outputs": [
        {
          "data": {
            "text/html": [
              "<div>\n",
              "<style scoped>\n",
              "    .dataframe tbody tr th:only-of-type {\n",
              "        vertical-align: middle;\n",
              "    }\n",
              "\n",
              "    .dataframe tbody tr th {\n",
              "        vertical-align: top;\n",
              "    }\n",
              "\n",
              "    .dataframe thead th {\n",
              "        text-align: right;\n",
              "    }\n",
              "</style>\n",
              "<table border=\"1\" class=\"dataframe\">\n",
              "  <thead>\n",
              "    <tr style=\"text-align: right;\">\n",
              "      <th></th>\n",
              "      <th>date</th>\n",
              "      <th>dcoilwtico</th>\n",
              "    </tr>\n",
              "  </thead>\n",
              "  <tbody>\n",
              "    <tr>\n",
              "      <th>0</th>\n",
              "      <td>2013-01-01</td>\n",
              "      <td>NaN</td>\n",
              "    </tr>\n",
              "    <tr>\n",
              "      <th>1</th>\n",
              "      <td>2013-01-02</td>\n",
              "      <td>93.14</td>\n",
              "    </tr>\n",
              "    <tr>\n",
              "      <th>2</th>\n",
              "      <td>2013-01-03</td>\n",
              "      <td>92.97</td>\n",
              "    </tr>\n",
              "    <tr>\n",
              "      <th>3</th>\n",
              "      <td>2013-01-04</td>\n",
              "      <td>93.12</td>\n",
              "    </tr>\n",
              "    <tr>\n",
              "      <th>4</th>\n",
              "      <td>2013-01-07</td>\n",
              "      <td>93.20</td>\n",
              "    </tr>\n",
              "  </tbody>\n",
              "</table>\n",
              "</div>"
            ],
            "text/plain": [
              "         date  dcoilwtico\n",
              "0  2013-01-01         NaN\n",
              "1  2013-01-02       93.14\n",
              "2  2013-01-03       92.97\n",
              "3  2013-01-04       93.12\n",
              "4  2013-01-07       93.20"
            ]
          },
          "execution_count": 18,
          "metadata": {},
          "output_type": "execute_result"
        }
      ],
      "source": [
        "#date\tThe date of the observation (daily frequency).\n",
        "#dcoilwtico\tDaily closing price of West Texas Intermediate (WTI) crude oil in USD.\n",
        "#Prices are measured in USD per barrel.\n",
        "\n",
        "df_oil.head()"
      ]
    },
    {
      "cell_type": "code",
      "execution_count": 19,
      "metadata": {
        "colab": {
          "base_uri": "https://localhost:8080/",
          "height": 206
        },
        "id": "k1ujHb2u4hsB",
        "outputId": "f582e52f-34de-4ccc-ac68-4441a22d3fd3"
      },
      "outputs": [
        {
          "data": {
            "text/html": [
              "<div>\n",
              "<style scoped>\n",
              "    .dataframe tbody tr th:only-of-type {\n",
              "        vertical-align: middle;\n",
              "    }\n",
              "\n",
              "    .dataframe tbody tr th {\n",
              "        vertical-align: top;\n",
              "    }\n",
              "\n",
              "    .dataframe thead th {\n",
              "        text-align: right;\n",
              "    }\n",
              "</style>\n",
              "<table border=\"1\" class=\"dataframe\">\n",
              "  <thead>\n",
              "    <tr style=\"text-align: right;\">\n",
              "      <th></th>\n",
              "      <th>date</th>\n",
              "      <th>type</th>\n",
              "      <th>locale</th>\n",
              "      <th>locale_name</th>\n",
              "      <th>description</th>\n",
              "      <th>transferred</th>\n",
              "    </tr>\n",
              "  </thead>\n",
              "  <tbody>\n",
              "    <tr>\n",
              "      <th>0</th>\n",
              "      <td>2012-03-02</td>\n",
              "      <td>Holiday</td>\n",
              "      <td>Local</td>\n",
              "      <td>Manta</td>\n",
              "      <td>Fundacion de Manta</td>\n",
              "      <td>False</td>\n",
              "    </tr>\n",
              "    <tr>\n",
              "      <th>1</th>\n",
              "      <td>2012-04-01</td>\n",
              "      <td>Holiday</td>\n",
              "      <td>Regional</td>\n",
              "      <td>Cotopaxi</td>\n",
              "      <td>Provincializacion de Cotopaxi</td>\n",
              "      <td>False</td>\n",
              "    </tr>\n",
              "    <tr>\n",
              "      <th>2</th>\n",
              "      <td>2012-04-12</td>\n",
              "      <td>Holiday</td>\n",
              "      <td>Local</td>\n",
              "      <td>Cuenca</td>\n",
              "      <td>Fundacion de Cuenca</td>\n",
              "      <td>False</td>\n",
              "    </tr>\n",
              "    <tr>\n",
              "      <th>3</th>\n",
              "      <td>2012-04-14</td>\n",
              "      <td>Holiday</td>\n",
              "      <td>Local</td>\n",
              "      <td>Libertad</td>\n",
              "      <td>Cantonizacion de Libertad</td>\n",
              "      <td>False</td>\n",
              "    </tr>\n",
              "    <tr>\n",
              "      <th>4</th>\n",
              "      <td>2012-04-21</td>\n",
              "      <td>Holiday</td>\n",
              "      <td>Local</td>\n",
              "      <td>Riobamba</td>\n",
              "      <td>Cantonizacion de Riobamba</td>\n",
              "      <td>False</td>\n",
              "    </tr>\n",
              "  </tbody>\n",
              "</table>\n",
              "</div>"
            ],
            "text/plain": [
              "         date     type    locale locale_name                    description  \\\n",
              "0  2012-03-02  Holiday     Local       Manta             Fundacion de Manta   \n",
              "1  2012-04-01  Holiday  Regional    Cotopaxi  Provincializacion de Cotopaxi   \n",
              "2  2012-04-12  Holiday     Local      Cuenca            Fundacion de Cuenca   \n",
              "3  2012-04-14  Holiday     Local    Libertad      Cantonizacion de Libertad   \n",
              "4  2012-04-21  Holiday     Local    Riobamba      Cantonizacion de Riobamba   \n",
              "\n",
              "   transferred  \n",
              "0        False  \n",
              "1        False  \n",
              "2        False  \n",
              "3        False  \n",
              "4        False  "
            ]
          },
          "execution_count": 19,
          "metadata": {},
          "output_type": "execute_result"
        }
      ],
      "source": [
        "#date:\tThe date when the event (holiday) occurs.\n",
        "#type:\tThe category of the event — here, it’s all \"Holiday\".\n",
        "#locale:\tThe geographic scope of the holiday (e.g., \"Local\", \"Regional\", \"National\").\n",
        "#locale_name:\tThe specific region name where the holiday is observed (e.g., city).\n",
        "#description:\tA brief description or name of the holiday or event.\n",
        "#transferred:(True or False) indicating if the holiday was moved to a different date.\n",
        "\n",
        "df_holidays_events.head()"
      ]
    },
    {
      "cell_type": "code",
      "execution_count": 21,
      "metadata": {
        "colab": {
          "base_uri": "https://localhost:8080/",
          "height": 206
        },
        "id": "zwHJlrBB49d3",
        "outputId": "00b09c02-bb44-44e1-8c20-c1a00ef81caa"
      },
      "outputs": [
        {
          "data": {
            "text/html": [
              "<div>\n",
              "<style scoped>\n",
              "    .dataframe tbody tr th:only-of-type {\n",
              "        vertical-align: middle;\n",
              "    }\n",
              "\n",
              "    .dataframe tbody tr th {\n",
              "        vertical-align: top;\n",
              "    }\n",
              "\n",
              "    .dataframe thead th {\n",
              "        text-align: right;\n",
              "    }\n",
              "</style>\n",
              "<table border=\"1\" class=\"dataframe\">\n",
              "  <thead>\n",
              "    <tr style=\"text-align: right;\">\n",
              "      <th></th>\n",
              "      <th>id</th>\n",
              "      <th>date</th>\n",
              "      <th>store_nbr</th>\n",
              "      <th>item_nbr</th>\n",
              "      <th>unit_sales</th>\n",
              "      <th>onpromotion</th>\n",
              "    </tr>\n",
              "  </thead>\n",
              "  <tbody>\n",
              "    <tr>\n",
              "      <th>0</th>\n",
              "      <td>0</td>\n",
              "      <td>2013-01-01</td>\n",
              "      <td>25</td>\n",
              "      <td>103665</td>\n",
              "      <td>7.0</td>\n",
              "      <td>NaN</td>\n",
              "    </tr>\n",
              "    <tr>\n",
              "      <th>1</th>\n",
              "      <td>1</td>\n",
              "      <td>2013-01-01</td>\n",
              "      <td>25</td>\n",
              "      <td>105574</td>\n",
              "      <td>1.0</td>\n",
              "      <td>NaN</td>\n",
              "    </tr>\n",
              "    <tr>\n",
              "      <th>2</th>\n",
              "      <td>2</td>\n",
              "      <td>2013-01-01</td>\n",
              "      <td>25</td>\n",
              "      <td>105575</td>\n",
              "      <td>2.0</td>\n",
              "      <td>NaN</td>\n",
              "    </tr>\n",
              "    <tr>\n",
              "      <th>3</th>\n",
              "      <td>3</td>\n",
              "      <td>2013-01-01</td>\n",
              "      <td>25</td>\n",
              "      <td>108079</td>\n",
              "      <td>1.0</td>\n",
              "      <td>NaN</td>\n",
              "    </tr>\n",
              "    <tr>\n",
              "      <th>4</th>\n",
              "      <td>4</td>\n",
              "      <td>2013-01-01</td>\n",
              "      <td>25</td>\n",
              "      <td>108701</td>\n",
              "      <td>1.0</td>\n",
              "      <td>NaN</td>\n",
              "    </tr>\n",
              "  </tbody>\n",
              "</table>\n",
              "</div>"
            ],
            "text/plain": [
              "   id        date  store_nbr  item_nbr  unit_sales  onpromotion\n",
              "0   0  2013-01-01         25    103665         7.0          NaN\n",
              "1   1  2013-01-01         25    105574         1.0          NaN\n",
              "2   2  2013-01-01         25    105575         2.0          NaN\n",
              "3   3  2013-01-01         25    108079         1.0          NaN\n",
              "4   4  2013-01-01         25    108701         1.0          NaN"
            ]
          },
          "execution_count": 21,
          "metadata": {},
          "output_type": "execute_result"
        }
      ],
      "source": [
        "#id:\tA unique identifier for each row/record.\n",
        "#date:\tThe date of the transaction (daily frequency).\n",
        "#store_nbr:\tIdentifier for the store.\n",
        "#item_nbr:\tIdentifier for the item.\n",
        "#unit_sales:\tThe number of units sold on that day.\n",
        "#onpromotion:\tWhether the item was on promotion (True/False or NaN).\n",
        "\n",
        "df_train.head()"
      ]
    },
    {
      "cell_type": "markdown",
      "metadata": {
        "id": "6Bw5Gl7GKzKn"
      },
      "source": [
        "This is a multivariate time series dataset because: it varies by both time and store/item\n",
        "\n",
        "It is at a very granular level: \n",
        "One row = one item sold at one store on one date."
      ]
    },
    {
      "cell_type": "markdown",
      "metadata": {
        "id": "iOcy30Xy24iT"
      },
      "source": [
        "## Filter for the store number from Guayas region"
      ]
    },
    {
      "cell_type": "code",
      "execution_count": 22,
      "metadata": {
        "colab": {
          "base_uri": "https://localhost:8080/"
        },
        "id": "UuQlSXOG2_f8",
        "outputId": "21d837fd-9ab5-4778-8be7-a524b1f818cf"
      },
      "outputs": [
        {
          "data": {
            "text/plain": [
              "array([24, 26, 27, 28, 29, 30, 32, 34, 35, 36, 51])"
            ]
          },
          "execution_count": 22,
          "metadata": {},
          "output_type": "execute_result"
        }
      ],
      "source": [
        "# Select list of stores located in the 'Guayas' region\n",
        "store_ids = df_stores[df_stores['state'] == 'Guayas']['store_nbr'].unique()\n",
        "store_ids"
      ]
    },
    {
      "cell_type": "code",
      "execution_count": 37,
      "metadata": {
        "colab": {
          "base_uri": "https://localhost:8080/"
        },
        "id": "vHe5JYH3Opnr",
        "outputId": "acdd3ea4-cc98-4db4-e73c-8f5e65d70917"
      },
      "outputs": [
        {
          "name": "stderr",
          "output_type": "stream",
          "text": [
            "/var/folders/mh/fgvwq54x3dlg6k690k5t0qvh0000gn/T/ipykernel_3881/2727290866.py:8: DtypeWarning: Columns (5) have mixed types. Specify dtype option on import or set low_memory=False.\n",
            "  for chunk in pd.read_csv('Data/train.csv', chunksize=chunk_size):\n"
          ]
        }
      ],
      "source": [
        "# Initialize an empty list to hold filtered chunks\n",
        "filtered_chunks = []\n",
        "\n",
        "# Define the chunk size (number of rows per chunk)\n",
        "chunk_size = 1000000\n",
        "\n",
        "# Read the csv file in chunks\n",
        "for chunk in pd.read_csv('Data/train.csv', chunksize=chunk_size):\n",
        "\n",
        "  # Filter the chunk for the desired store IDs\n",
        "  chunk_filtered = chunk[chunk['store_nbr'].isin(store_ids)]\n",
        "  # Append the filtered chunk to the list\n",
        "  filtered_chunks.append(chunk_filtered)\n",
        "  \n",
        "  # Optional: Delete the chunk to free up memory\n",
        "  del chunk\n",
        "\n",
        "# Concatenate all the filtered chunks into a single DataFrame\n",
        "df_train = pd.concat(filtered_chunks, ignore_index=True)\n",
        "\n",
        "# Clean up to free memory\n",
        "del filtered_chunks"
      ]
    },
    {
      "cell_type": "code",
      "execution_count": 25,
      "metadata": {
        "colab": {
          "base_uri": "https://localhost:8080/",
          "height": 206
        },
        "id": "vR7IQ4zoO9CX",
        "outputId": "af95d2cc-a3e9-45de-e95f-7ad3ac5ee19a"
      },
      "outputs": [
        {
          "data": {
            "text/html": [
              "<div>\n",
              "<style scoped>\n",
              "    .dataframe tbody tr th:only-of-type {\n",
              "        vertical-align: middle;\n",
              "    }\n",
              "\n",
              "    .dataframe tbody tr th {\n",
              "        vertical-align: top;\n",
              "    }\n",
              "\n",
              "    .dataframe thead th {\n",
              "        text-align: right;\n",
              "    }\n",
              "</style>\n",
              "<table border=\"1\" class=\"dataframe\">\n",
              "  <thead>\n",
              "    <tr style=\"text-align: right;\">\n",
              "      <th></th>\n",
              "      <th>id</th>\n",
              "      <th>date</th>\n",
              "      <th>store_nbr</th>\n",
              "      <th>item_nbr</th>\n",
              "      <th>unit_sales</th>\n",
              "      <th>onpromotion</th>\n",
              "    </tr>\n",
              "  </thead>\n",
              "  <tbody>\n",
              "    <tr>\n",
              "      <th>0</th>\n",
              "      <td>18789</td>\n",
              "      <td>2013-01-02</td>\n",
              "      <td>24</td>\n",
              "      <td>103665</td>\n",
              "      <td>6.0</td>\n",
              "      <td>NaN</td>\n",
              "    </tr>\n",
              "    <tr>\n",
              "      <th>1</th>\n",
              "      <td>18790</td>\n",
              "      <td>2013-01-02</td>\n",
              "      <td>24</td>\n",
              "      <td>105574</td>\n",
              "      <td>12.0</td>\n",
              "      <td>NaN</td>\n",
              "    </tr>\n",
              "    <tr>\n",
              "      <th>2</th>\n",
              "      <td>18791</td>\n",
              "      <td>2013-01-02</td>\n",
              "      <td>24</td>\n",
              "      <td>105575</td>\n",
              "      <td>2.0</td>\n",
              "      <td>NaN</td>\n",
              "    </tr>\n",
              "    <tr>\n",
              "      <th>3</th>\n",
              "      <td>18792</td>\n",
              "      <td>2013-01-02</td>\n",
              "      <td>24</td>\n",
              "      <td>105577</td>\n",
              "      <td>1.0</td>\n",
              "      <td>NaN</td>\n",
              "    </tr>\n",
              "    <tr>\n",
              "      <th>4</th>\n",
              "      <td>18793</td>\n",
              "      <td>2013-01-02</td>\n",
              "      <td>24</td>\n",
              "      <td>105693</td>\n",
              "      <td>7.0</td>\n",
              "      <td>NaN</td>\n",
              "    </tr>\n",
              "  </tbody>\n",
              "</table>\n",
              "</div>"
            ],
            "text/plain": [
              "      id        date  store_nbr  item_nbr  unit_sales onpromotion\n",
              "0  18789  2013-01-02         24    103665         6.0         NaN\n",
              "1  18790  2013-01-02         24    105574        12.0         NaN\n",
              "2  18791  2013-01-02         24    105575         2.0         NaN\n",
              "3  18792  2013-01-02         24    105577         1.0         NaN\n",
              "4  18793  2013-01-02         24    105693         7.0         NaN"
            ]
          },
          "execution_count": 25,
          "metadata": {},
          "output_type": "execute_result"
        }
      ],
      "source": [
        "df_train.head()"
      ]
    },
    {
      "cell_type": "code",
      "execution_count": 26,
      "metadata": {
        "colab": {
          "base_uri": "https://localhost:8080/"
        },
        "id": "JE_AFVm7O6Hl",
        "outputId": "9258a30f-4f6a-4756-ecfe-913341380208"
      },
      "outputs": [
        {
          "data": {
            "text/plain": [
              "(22941656, 6)"
            ]
          },
          "execution_count": 26,
          "metadata": {},
          "output_type": "execute_result"
        }
      ],
      "source": [
        "df_train.shape"
      ]
    },
    {
      "cell_type": "markdown",
      "metadata": {
        "id": "8IcebrKGPGmY"
      },
      "source": [
        "## Filter for the condition: select top 3 families"
      ]
    },
    {
      "cell_type": "code",
      "execution_count": 40,
      "metadata": {
        "colab": {
          "base_uri": "https://localhost:8080/",
          "height": 363
        },
        "id": "OveCLKKYPM6l",
        "outputId": "171ddf08-0107-4473-db61-a50ac1cf364d"
      },
      "outputs": [
        {
          "data": {
            "text/html": [
              "<div>\n",
              "<style scoped>\n",
              "    .dataframe tbody tr th:only-of-type {\n",
              "        vertical-align: middle;\n",
              "    }\n",
              "\n",
              "    .dataframe tbody tr th {\n",
              "        vertical-align: top;\n",
              "    }\n",
              "\n",
              "    .dataframe thead th {\n",
              "        text-align: right;\n",
              "    }\n",
              "</style>\n",
              "<table border=\"1\" class=\"dataframe\">\n",
              "  <thead>\n",
              "    <tr style=\"text-align: right;\">\n",
              "      <th></th>\n",
              "      <th>family</th>\n",
              "      <th>Item Count</th>\n",
              "    </tr>\n",
              "  </thead>\n",
              "  <tbody>\n",
              "    <tr>\n",
              "      <th>0</th>\n",
              "      <td>GROCERY I</td>\n",
              "      <td>1334</td>\n",
              "    </tr>\n",
              "    <tr>\n",
              "      <th>1</th>\n",
              "      <td>BEVERAGES</td>\n",
              "      <td>613</td>\n",
              "    </tr>\n",
              "    <tr>\n",
              "      <th>2</th>\n",
              "      <td>CLEANING</td>\n",
              "      <td>446</td>\n",
              "    </tr>\n",
              "    <tr>\n",
              "      <th>3</th>\n",
              "      <td>PRODUCE</td>\n",
              "      <td>306</td>\n",
              "    </tr>\n",
              "    <tr>\n",
              "      <th>4</th>\n",
              "      <td>DAIRY</td>\n",
              "      <td>242</td>\n",
              "    </tr>\n",
              "    <tr>\n",
              "      <th>5</th>\n",
              "      <td>PERSONAL CARE</td>\n",
              "      <td>153</td>\n",
              "    </tr>\n",
              "    <tr>\n",
              "      <th>6</th>\n",
              "      <td>BREAD/BAKERY</td>\n",
              "      <td>134</td>\n",
              "    </tr>\n",
              "    <tr>\n",
              "      <th>7</th>\n",
              "      <td>HOME CARE</td>\n",
              "      <td>108</td>\n",
              "    </tr>\n",
              "    <tr>\n",
              "      <th>8</th>\n",
              "      <td>DELI</td>\n",
              "      <td>91</td>\n",
              "    </tr>\n",
              "    <tr>\n",
              "      <th>9</th>\n",
              "      <td>MEATS</td>\n",
              "      <td>84</td>\n",
              "    </tr>\n",
              "  </tbody>\n",
              "</table>\n",
              "</div>"
            ],
            "text/plain": [
              "          family  Item Count\n",
              "0      GROCERY I        1334\n",
              "1      BEVERAGES         613\n",
              "2       CLEANING         446\n",
              "3        PRODUCE         306\n",
              "4          DAIRY         242\n",
              "5  PERSONAL CARE         153\n",
              "6   BREAD/BAKERY         134\n",
              "7      HOME CARE         108\n",
              "8           DELI          91\n",
              "9          MEATS          84"
            ]
          },
          "execution_count": 40,
          "metadata": {},
          "output_type": "execute_result"
        }
      ],
      "source": [
        "# Plotting the number of items per family (for top 3 families only)\n",
        "\n",
        "# Compute the number of items per family and select the top 3 families\n",
        "items_per_family = df_items['family'].value_counts().reset_index()\n",
        "items_per_family.columns = ['family', 'Item Count']\n",
        "top_3_families = items_per_family.head(3)\n",
        "\n",
        "items_per_family.head(10)"
      ]
    },
    {
      "cell_type": "code",
      "execution_count": 41,
      "metadata": {
        "colab": {
          "base_uri": "https://localhost:8080/",
          "height": 577
        },
        "id": "yC6Zns-NPUVQ",
        "outputId": "cededa22-9638-4710-91ab-84cbe63159ea"
      },
      "outputs": [
        {
          "data": {
            "image/png": "[encoded data removed]",
            "text/plain": [
              "<Figure size 800x500 with 1 Axes>"
            ]
          },
          "metadata": {},
          "output_type": "display_data"
        }
      ],
      "source": [
        "# Plot the top 3 families\n",
        "plt.figure(figsize=(8, 5))\n",
        "plt.bar(top_3_families['family'], top_3_families['Item Count'], color ='skyblue', edgecolor ='black')\n",
        "plt.xlabel('Family', fontsize = 16)\n",
        "plt.ylabel('Number of Items', fontsize = 16)\n",
        "plt.title('Top 3 Families by number of Items', fontsize = 16, fontweight ='bold')\n",
        "plt.xticks(fontsize = 14, rotation=45)\n",
        "plt.yticks(fontsize = 14)\n",
        "plt.show()"
      ]
    },
    {
      "cell_type": "code",
      "execution_count": null,
      "metadata": {
        "colab": {
          "base_uri": "https://localhost:8080/"
        },
        "id": "57zeZsbXPcQf",
        "outputId": "f7cf6b64-3e30-431a-d22f-946a1b89decb"
      },
      "outputs": [
        {
          "data": {
            "text/plain": [
              "(14745768, 6)"
            ]
          },
          "execution_count": 42,
          "metadata": {},
          "output_type": "execute_result"
        }
      ],
      "source": [
        "# Filter train with top 3 families\n",
        "item_ids = df_items[df_items['family'].isin(top_3_families['family'].unique())]['item_nbr'].unique()\n",
        "df_train_filtered = df_train[df_train['item_nbr'].isin(item_ids)]\n",
        "df_train_filtered.shape"
      ]
    },
    {
      "cell_type": "markdown",
      "metadata": {
        "id": "AgDVm022QAW_"
      },
      "source": [
        "# Save train data filtered for Guaya state and top 3 item families"
      ]
    },
    {
      "cell_type": "code",
      "execution_count": null,
      "metadata": {
        "id": "Mkwul_8hPoSG"
      },
      "outputs": [],
      "source": [
        "# Save and download filter train\n",
        "#df_train_filtered.to_csv('train_Guayas.csv', index= False)\n",
        "#from google.colab import files\n",
        "#files.download('train_Guayas.csv')"
      ]
    },
    {
      "cell_type": "code",
      "execution_count": 51,
      "metadata": {},
      "outputs": [
        {
          "name": "stderr",
          "output_type": "stream",
          "text": [
            "/var/folders/mh/fgvwq54x3dlg6k690k5t0qvh0000gn/T/ipykernel_3881/21018796.py:4: DtypeWarning: Columns (5) have mixed types. Specify dtype option on import or set low_memory=False.\n",
            "  df_train = pd.read_csv('Data/train_Guayas.csv')\n"
          ]
        }
      ],
      "source": [
        "#Save featured data\n",
        "df_train_filtered.to_csv('Data/train_Guayas.csv', index=False)\n",
        "#Read data automatically from drive\n",
        "df_train = pd.read_csv('Data/train_Guayas.csv')"
      ]
    },
    {
      "cell_type": "code",
      "execution_count": 45,
      "metadata": {},
      "outputs": [
        {
          "data": {
            "text/html": [
              "<div>\n",
              "<style scoped>\n",
              "    .dataframe tbody tr th:only-of-type {\n",
              "        vertical-align: middle;\n",
              "    }\n",
              "\n",
              "    .dataframe tbody tr th {\n",
              "        vertical-align: top;\n",
              "    }\n",
              "\n",
              "    .dataframe thead th {\n",
              "        text-align: right;\n",
              "    }\n",
              "</style>\n",
              "<table border=\"1\" class=\"dataframe\">\n",
              "  <thead>\n",
              "    <tr style=\"text-align: right;\">\n",
              "      <th></th>\n",
              "      <th>id</th>\n",
              "      <th>date</th>\n",
              "      <th>store_nbr</th>\n",
              "      <th>item_nbr</th>\n",
              "      <th>unit_sales</th>\n",
              "      <th>onpromotion</th>\n",
              "    </tr>\n",
              "  </thead>\n",
              "  <tbody>\n",
              "    <tr>\n",
              "      <th>0</th>\n",
              "      <td>18789</td>\n",
              "      <td>2013-01-02</td>\n",
              "      <td>24</td>\n",
              "      <td>103665</td>\n",
              "      <td>6.0</td>\n",
              "      <td>NaN</td>\n",
              "    </tr>\n",
              "    <tr>\n",
              "      <th>1</th>\n",
              "      <td>18790</td>\n",
              "      <td>2013-01-02</td>\n",
              "      <td>24</td>\n",
              "      <td>105574</td>\n",
              "      <td>12.0</td>\n",
              "      <td>NaN</td>\n",
              "    </tr>\n",
              "    <tr>\n",
              "      <th>2</th>\n",
              "      <td>18791</td>\n",
              "      <td>2013-01-02</td>\n",
              "      <td>24</td>\n",
              "      <td>105575</td>\n",
              "      <td>2.0</td>\n",
              "      <td>NaN</td>\n",
              "    </tr>\n",
              "    <tr>\n",
              "      <th>3</th>\n",
              "      <td>18792</td>\n",
              "      <td>2013-01-02</td>\n",
              "      <td>24</td>\n",
              "      <td>105577</td>\n",
              "      <td>1.0</td>\n",
              "      <td>NaN</td>\n",
              "    </tr>\n",
              "    <tr>\n",
              "      <th>4</th>\n",
              "      <td>18793</td>\n",
              "      <td>2013-01-02</td>\n",
              "      <td>24</td>\n",
              "      <td>105693</td>\n",
              "      <td>7.0</td>\n",
              "      <td>NaN</td>\n",
              "    </tr>\n",
              "  </tbody>\n",
              "</table>\n",
              "</div>"
            ],
            "text/plain": [
              "      id        date  store_nbr  item_nbr  unit_sales onpromotion\n",
              "0  18789  2013-01-02         24    103665         6.0         NaN\n",
              "1  18790  2013-01-02         24    105574        12.0         NaN\n",
              "2  18791  2013-01-02         24    105575         2.0         NaN\n",
              "3  18792  2013-01-02         24    105577         1.0         NaN\n",
              "4  18793  2013-01-02         24    105693         7.0         NaN"
            ]
          },
          "execution_count": 45,
          "metadata": {},
          "output_type": "execute_result"
        }
      ],
      "source": [
        "df_train.head()"
      ]
    },
    {
      "cell_type": "code",
      "execution_count": 52,
      "metadata": {},
      "outputs": [
        {
          "data": {
            "text/plain": [
              "(14745768, 6)"
            ]
          },
          "execution_count": 52,
          "metadata": {},
          "output_type": "execute_result"
        }
      ],
      "source": [
        "df_train.shape"
      ]
    },
    {
      "cell_type": "code",
      "execution_count": 55,
      "metadata": {},
      "outputs": [
        {
          "name": "stdout",
          "output_type": "stream",
          "text": [
            "Total store number  11\n",
            "Total item number  2323\n"
          ]
        }
      ],
      "source": [
        "print('Total store number ', df_train['store_nbr'].nunique())\n",
        "print('Total item number ', df_train['item_nbr'].nunique())"
      ]
    }
  ],
  "metadata": {
    "colab": {
      "provenance": []
    },
    "kernelspec": {
      "display_name": "base",
      "language": "python",
      "name": "python3"
    },
    "language_info": {
      "codemirror_mode": {
        "name": "ipython",
        "version": 3
      },
      "file_extension": ".py",
      "mimetype": "text/x-python",
      "name": "python",
      "nbconvert_exporter": "python",
      "pygments_lexer": "ipython3",
      "version": "3.12.7"
    }
  },
  "nbformat": 4,
  "nbformat_minor": 0
}
