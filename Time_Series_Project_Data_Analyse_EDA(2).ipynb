{
  "cells": [
    {
      "cell_type": "markdown",
      "metadata": {},
      "source": [
        "The objective is to predict future sales of items in Favorita grocery stores across different regions of Ecuador. So that Reliable predictions can be helpful to optimize inventory management, prevent stockouts, and improve promotion strategies.\n",
        "\n",
        "create a forecasting model for each product in each store in the region \"Guayas\" for January-March 2014, including March."
      ]
    },
    {
      "cell_type": "code",
      "execution_count": 77,
      "metadata": {
        "ExecuteTime": {
          "end_time": "2025-05-03T09:48:17.207353Z",
          "start_time": "2025-05-03T09:48:17.205536Z"
        },
        "id": "GuwPDeEkH35L"
      },
      "outputs": [],
      "source": [
        "# Import libraries\n",
        "import pandas as pd\n",
        "from matplotlib import pyplot as plt\n",
        "import seaborn as sns\n",
        "import numpy as np"
      ]
    },
    {
      "cell_type": "markdown",
      "metadata": {
        "id": "SAnM1nSKhIyX"
      },
      "source": [
        "# Load Data"
      ]
    },
    {
      "cell_type": "code",
      "execution_count": 78,
      "metadata": {
        "colab": {
          "base_uri": "https://localhost:8080/"
        },
        "id": "TwCSn6rfhHcE",
        "outputId": "21044cca-e41a-472d-c1b6-1abb667286b1"
      },
      "outputs": [],
      "source": [
        "#from google.colab import drive\n",
        "#drive.mount('/content/drive')"
      ]
    },
    {
      "cell_type": "code",
      "execution_count": 79,
      "metadata": {
        "ExecuteTime": {
          "end_time": "2025-05-03T09:48:17.610412Z",
          "start_time": "2025-05-03T09:48:17.211112Z"
        },
        "colab": {
          "base_uri": "https://localhost:8080/"
        },
        "id": "pHWPOjeoh0iU",
        "outputId": "9632ef7c-4f12-4e86-935d-b96c302d0855"
      },
      "outputs": [
        {
          "name": "stderr",
          "output_type": "stream",
          "text": [
            "/var/folders/mh/fgvwq54x3dlg6k690k5t0qvh0000gn/T/ipykernel_4273/3445521968.py:9: DtypeWarning: Columns (5) have mixed types. Specify dtype option on import or set low_memory=False.\n",
            "  df_train = pd.read_csv('Data/train_Guayas.csv')\n"
          ]
        }
      ],
      "source": [
        "# Load the CSV files into pandas DataFrames\n",
        "df_stores = pd.read_csv('Data/stores.csv')\n",
        "df_items = pd.read_csv('Data/items.csv')\n",
        "df_transactions = pd.read_csv('Data/transactions.csv')\n",
        "df_oil = pd.read_csv('Data/oil.csv')\n",
        "df_holidays_events = pd.read_csv('Data/holidays_events.csv')\n",
        "\n",
        "# filtered train\n",
        "df_train = pd.read_csv('Data/train_Guayas.csv')"
      ]
    },
    {
      "cell_type": "code",
      "execution_count": 136,
      "metadata": {},
      "outputs": [
        {
          "data": {
            "text/plain": [
              "id                   0\n",
              "date                 0\n",
              "store_nbr            0\n",
              "item_nbr             0\n",
              "unit_sales           0\n",
              "onpromotion    2747275\n",
              "dtype: int64"
            ]
          },
          "execution_count": 136,
          "metadata": {},
          "output_type": "execute_result"
        }
      ],
      "source": [
        "df_train.isna().sum()"
      ]
    },
    {
      "cell_type": "markdown",
      "metadata": {
        "id": "vh45WxhOglAK"
      },
      "source": [
        "## Stores"
      ]
    },
    {
      "cell_type": "markdown",
      "metadata": {
        "id": "fYfRXDAPEM1O"
      },
      "source": [
        "### Data Overview"
      ]
    },
    {
      "cell_type": "code",
      "execution_count": 80,
      "metadata": {
        "colab": {
          "base_uri": "https://localhost:8080/",
          "height": 581
        },
        "id": "RXlJvPBrc7H2",
        "outputId": "1c2cd973-ca0e-465d-c562-d3ad8caff1a6"
      },
      "outputs": [
        {
          "name": "stdout",
          "output_type": "stream",
          "text": [
            "<class 'pandas.core.frame.DataFrame'>\n",
            "RangeIndex: 54 entries, 0 to 53\n",
            "Data columns (total 5 columns):\n",
            " #   Column     Non-Null Count  Dtype \n",
            "---  ------     --------------  ----- \n",
            " 0   store_nbr  54 non-null     int64 \n",
            " 1   city       54 non-null     object\n",
            " 2   state      54 non-null     object\n",
            " 3   type       54 non-null     object\n",
            " 4   cluster    54 non-null     int64 \n",
            "dtypes: int64(2), object(3)\n",
            "memory usage: 2.2+ KB\n",
            "None\n",
            "\n",
            " unique values \n",
            " store_nbr    54\n",
            "city         22\n",
            "state        16\n",
            "type          5\n",
            "cluster      17\n",
            "dtype: int64\n"
          ]
        },
        {
          "data": {
            "text/html": [
              "<div>\n",
              "<style scoped>\n",
              "    .dataframe tbody tr th:only-of-type {\n",
              "        vertical-align: middle;\n",
              "    }\n",
              "\n",
              "    .dataframe tbody tr th {\n",
              "        vertical-align: top;\n",
              "    }\n",
              "\n",
              "    .dataframe thead th {\n",
              "        text-align: right;\n",
              "    }\n",
              "</style>\n",
              "<table border=\"1\" class=\"dataframe\">\n",
              "  <thead>\n",
              "    <tr style=\"text-align: right;\">\n",
              "      <th></th>\n",
              "      <th>store_nbr</th>\n",
              "      <th>city</th>\n",
              "      <th>state</th>\n",
              "      <th>type</th>\n",
              "      <th>cluster</th>\n",
              "    </tr>\n",
              "  </thead>\n",
              "  <tbody>\n",
              "    <tr>\n",
              "      <th>0</th>\n",
              "      <td>1</td>\n",
              "      <td>Quito</td>\n",
              "      <td>Pichincha</td>\n",
              "      <td>D</td>\n",
              "      <td>13</td>\n",
              "    </tr>\n",
              "    <tr>\n",
              "      <th>1</th>\n",
              "      <td>2</td>\n",
              "      <td>Quito</td>\n",
              "      <td>Pichincha</td>\n",
              "      <td>D</td>\n",
              "      <td>13</td>\n",
              "    </tr>\n",
              "    <tr>\n",
              "      <th>2</th>\n",
              "      <td>3</td>\n",
              "      <td>Quito</td>\n",
              "      <td>Pichincha</td>\n",
              "      <td>D</td>\n",
              "      <td>8</td>\n",
              "    </tr>\n",
              "    <tr>\n",
              "      <th>3</th>\n",
              "      <td>4</td>\n",
              "      <td>Quito</td>\n",
              "      <td>Pichincha</td>\n",
              "      <td>D</td>\n",
              "      <td>9</td>\n",
              "    </tr>\n",
              "    <tr>\n",
              "      <th>4</th>\n",
              "      <td>5</td>\n",
              "      <td>Santo Domingo</td>\n",
              "      <td>Santo Domingo de los Tsachilas</td>\n",
              "      <td>D</td>\n",
              "      <td>4</td>\n",
              "    </tr>\n",
              "  </tbody>\n",
              "</table>\n",
              "</div>"
            ],
            "text/plain": [
              "   store_nbr           city                           state type  cluster\n",
              "0          1          Quito                       Pichincha    D       13\n",
              "1          2          Quito                       Pichincha    D       13\n",
              "2          3          Quito                       Pichincha    D        8\n",
              "3          4          Quito                       Pichincha    D        9\n",
              "4          5  Santo Domingo  Santo Domingo de los Tsachilas    D        4"
            ]
          },
          "execution_count": 80,
          "metadata": {},
          "output_type": "execute_result"
        }
      ],
      "source": [
        "# df_stores shape is 54 rows and 5 columns\n",
        "#No null is found from the info\n",
        "print(df_stores.info())\n",
        "print('\\n unique values \\n', df_stores.nunique())\n",
        "df_stores.head(5)"
      ]
    },
    {
      "cell_type": "markdown",
      "metadata": {
        "id": "ce9RY4fmE4KD"
      },
      "source": [
        "### Focus on Guayas State"
      ]
    },
    {
      "cell_type": "code",
      "execution_count": 81,
      "metadata": {
        "colab": {
          "base_uri": "https://localhost:8080/",
          "height": 412
        },
        "id": "cPE5vEzkgGW0",
        "outputId": "365de753-77cf-4c51-8ca1-fec2cf16ba2e"
      },
      "outputs": [
        {
          "name": "stdout",
          "output_type": "stream",
          "text": [
            "Store shape is  (11, 5)\n"
          ]
        },
        {
          "data": {
            "text/html": [
              "<div>\n",
              "<style scoped>\n",
              "    .dataframe tbody tr th:only-of-type {\n",
              "        vertical-align: middle;\n",
              "    }\n",
              "\n",
              "    .dataframe tbody tr th {\n",
              "        vertical-align: top;\n",
              "    }\n",
              "\n",
              "    .dataframe thead th {\n",
              "        text-align: right;\n",
              "    }\n",
              "</style>\n",
              "<table border=\"1\" class=\"dataframe\">\n",
              "  <thead>\n",
              "    <tr style=\"text-align: right;\">\n",
              "      <th></th>\n",
              "      <th>store_nbr</th>\n",
              "      <th>city</th>\n",
              "      <th>state</th>\n",
              "      <th>type</th>\n",
              "      <th>cluster</th>\n",
              "    </tr>\n",
              "  </thead>\n",
              "  <tbody>\n",
              "    <tr>\n",
              "      <th>23</th>\n",
              "      <td>24</td>\n",
              "      <td>Guayaquil</td>\n",
              "      <td>Guayas</td>\n",
              "      <td>D</td>\n",
              "      <td>1</td>\n",
              "    </tr>\n",
              "    <tr>\n",
              "      <th>25</th>\n",
              "      <td>26</td>\n",
              "      <td>Guayaquil</td>\n",
              "      <td>Guayas</td>\n",
              "      <td>D</td>\n",
              "      <td>10</td>\n",
              "    </tr>\n",
              "    <tr>\n",
              "      <th>26</th>\n",
              "      <td>27</td>\n",
              "      <td>Daule</td>\n",
              "      <td>Guayas</td>\n",
              "      <td>D</td>\n",
              "      <td>1</td>\n",
              "    </tr>\n",
              "    <tr>\n",
              "      <th>27</th>\n",
              "      <td>28</td>\n",
              "      <td>Guayaquil</td>\n",
              "      <td>Guayas</td>\n",
              "      <td>E</td>\n",
              "      <td>10</td>\n",
              "    </tr>\n",
              "    <tr>\n",
              "      <th>28</th>\n",
              "      <td>29</td>\n",
              "      <td>Guayaquil</td>\n",
              "      <td>Guayas</td>\n",
              "      <td>E</td>\n",
              "      <td>10</td>\n",
              "    </tr>\n",
              "    <tr>\n",
              "      <th>29</th>\n",
              "      <td>30</td>\n",
              "      <td>Guayaquil</td>\n",
              "      <td>Guayas</td>\n",
              "      <td>C</td>\n",
              "      <td>3</td>\n",
              "    </tr>\n",
              "    <tr>\n",
              "      <th>31</th>\n",
              "      <td>32</td>\n",
              "      <td>Guayaquil</td>\n",
              "      <td>Guayas</td>\n",
              "      <td>C</td>\n",
              "      <td>3</td>\n",
              "    </tr>\n",
              "    <tr>\n",
              "      <th>33</th>\n",
              "      <td>34</td>\n",
              "      <td>Guayaquil</td>\n",
              "      <td>Guayas</td>\n",
              "      <td>B</td>\n",
              "      <td>6</td>\n",
              "    </tr>\n",
              "    <tr>\n",
              "      <th>34</th>\n",
              "      <td>35</td>\n",
              "      <td>Playas</td>\n",
              "      <td>Guayas</td>\n",
              "      <td>C</td>\n",
              "      <td>3</td>\n",
              "    </tr>\n",
              "    <tr>\n",
              "      <th>35</th>\n",
              "      <td>36</td>\n",
              "      <td>Libertad</td>\n",
              "      <td>Guayas</td>\n",
              "      <td>E</td>\n",
              "      <td>10</td>\n",
              "    </tr>\n",
              "    <tr>\n",
              "      <th>50</th>\n",
              "      <td>51</td>\n",
              "      <td>Guayaquil</td>\n",
              "      <td>Guayas</td>\n",
              "      <td>A</td>\n",
              "      <td>17</td>\n",
              "    </tr>\n",
              "  </tbody>\n",
              "</table>\n",
              "</div>"
            ],
            "text/plain": [
              "    store_nbr       city   state type  cluster\n",
              "23         24  Guayaquil  Guayas    D        1\n",
              "25         26  Guayaquil  Guayas    D       10\n",
              "26         27      Daule  Guayas    D        1\n",
              "27         28  Guayaquil  Guayas    E       10\n",
              "28         29  Guayaquil  Guayas    E       10\n",
              "29         30  Guayaquil  Guayas    C        3\n",
              "31         32  Guayaquil  Guayas    C        3\n",
              "33         34  Guayaquil  Guayas    B        6\n",
              "34         35     Playas  Guayas    C        3\n",
              "35         36   Libertad  Guayas    E       10\n",
              "50         51  Guayaquil  Guayas    A       17"
            ]
          },
          "execution_count": 81,
          "metadata": {},
          "output_type": "execute_result"
        }
      ],
      "source": [
        "#Filtered stores located in the Guayas state\n",
        "df_store_Guayas= df_stores[df_stores['state']=='Guayas']\n",
        "print('Store shape is ', df_store_Guayas.shape)\n",
        "df_store_Guayas"
      ]
    },
    {
      "cell_type": "code",
      "execution_count": 82,
      "metadata": {
        "colab": {
          "base_uri": "https://localhost:8080/"
        },
        "id": "NK-4XBPsgQVC",
        "outputId": "2738a02d-1f48-4f13-d416-9c7c854c0145"
      },
      "outputs": [
        {
          "name": "stdout",
          "output_type": "stream",
          "text": [
            "Total number of store in Guayas\n",
            " 11\n",
            "Store number in Guayas  [24, 26, 27, 28, 29, 30, 32, 34, 35, 36, 51]\n"
          ]
        }
      ],
      "source": [
        "#Extracted store numbers (store_nbr) for use in downstream tasks like sales or location-based filtering\n",
        "store_nbr_list_guayas = df_store_Guayas['store_nbr'].tolist()\n",
        "print('Total number of store in Guayas\\n', len(store_nbr_list_guayas))\n",
        "print('Store number in Guayas ', store_nbr_list_guayas)"
      ]
    },
    {
      "cell_type": "markdown",
      "metadata": {
        "id": "tvT2PydkhJTf"
      },
      "source": [
        "## Items"
      ]
    },
    {
      "cell_type": "code",
      "execution_count": 83,
      "metadata": {
        "colab": {
          "base_uri": "https://localhost:8080/"
        },
        "id": "uINsbBkPZpvS",
        "outputId": "6288f442-d8fa-4478-efb8-7d4ee631b656"
      },
      "outputs": [
        {
          "name": "stdout",
          "output_type": "stream",
          "text": [
            "<class 'pandas.core.frame.DataFrame'>\n",
            "RangeIndex: 4100 entries, 0 to 4099\n",
            "Data columns (total 4 columns):\n",
            " #   Column      Non-Null Count  Dtype \n",
            "---  ------      --------------  ----- \n",
            " 0   item_nbr    4100 non-null   int64 \n",
            " 1   family      4100 non-null   object\n",
            " 2   class       4100 non-null   int64 \n",
            " 3   perishable  4100 non-null   int64 \n",
            "dtypes: int64(3), object(1)\n",
            "memory usage: 128.3+ KB\n",
            "None\n"
          ]
        },
        {
          "data": {
            "text/html": [
              "<div>\n",
              "<style scoped>\n",
              "    .dataframe tbody tr th:only-of-type {\n",
              "        vertical-align: middle;\n",
              "    }\n",
              "\n",
              "    .dataframe tbody tr th {\n",
              "        vertical-align: top;\n",
              "    }\n",
              "\n",
              "    .dataframe thead th {\n",
              "        text-align: right;\n",
              "    }\n",
              "</style>\n",
              "<table border=\"1\" class=\"dataframe\">\n",
              "  <thead>\n",
              "    <tr style=\"text-align: right;\">\n",
              "      <th></th>\n",
              "      <th>item_nbr</th>\n",
              "      <th>family</th>\n",
              "      <th>class</th>\n",
              "      <th>perishable</th>\n",
              "    </tr>\n",
              "  </thead>\n",
              "  <tbody>\n",
              "    <tr>\n",
              "      <th>0</th>\n",
              "      <td>96995</td>\n",
              "      <td>GROCERY I</td>\n",
              "      <td>1093</td>\n",
              "      <td>0</td>\n",
              "    </tr>\n",
              "    <tr>\n",
              "      <th>1</th>\n",
              "      <td>99197</td>\n",
              "      <td>GROCERY I</td>\n",
              "      <td>1067</td>\n",
              "      <td>0</td>\n",
              "    </tr>\n",
              "    <tr>\n",
              "      <th>2</th>\n",
              "      <td>103501</td>\n",
              "      <td>CLEANING</td>\n",
              "      <td>3008</td>\n",
              "      <td>0</td>\n",
              "    </tr>\n",
              "    <tr>\n",
              "      <th>3</th>\n",
              "      <td>103520</td>\n",
              "      <td>GROCERY I</td>\n",
              "      <td>1028</td>\n",
              "      <td>0</td>\n",
              "    </tr>\n",
              "    <tr>\n",
              "      <th>4</th>\n",
              "      <td>103665</td>\n",
              "      <td>BREAD/BAKERY</td>\n",
              "      <td>2712</td>\n",
              "      <td>1</td>\n",
              "    </tr>\n",
              "  </tbody>\n",
              "</table>\n",
              "</div>"
            ],
            "text/plain": [
              "   item_nbr        family  class  perishable\n",
              "0     96995     GROCERY I   1093           0\n",
              "1     99197     GROCERY I   1067           0\n",
              "2    103501      CLEANING   3008           0\n",
              "3    103520     GROCERY I   1028           0\n",
              "4    103665  BREAD/BAKERY   2712           1"
            ]
          },
          "execution_count": 83,
          "metadata": {},
          "output_type": "execute_result"
        }
      ],
      "source": [
        "# NO null from the info check\n",
        "print(df_items.info())\n",
        "#print('\\n unique values \\n', df_items.nunique())\n",
        "df_items.head(5)"
      ]
    },
    {
      "cell_type": "code",
      "execution_count": 84,
      "metadata": {
        "colab": {
          "base_uri": "https://localhost:8080/"
        },
        "id": "eteDFrGOdM46",
        "outputId": "f2c6becb-a4bb-4f93-a4a2-13219e7d12d6"
      },
      "outputs": [
        {
          "data": {
            "text/html": [
              "<div>\n",
              "<style scoped>\n",
              "    .dataframe tbody tr th:only-of-type {\n",
              "        vertical-align: middle;\n",
              "    }\n",
              "\n",
              "    .dataframe tbody tr th {\n",
              "        vertical-align: top;\n",
              "    }\n",
              "\n",
              "    .dataframe thead th {\n",
              "        text-align: right;\n",
              "    }\n",
              "</style>\n",
              "<table border=\"1\" class=\"dataframe\">\n",
              "  <thead>\n",
              "    <tr style=\"text-align: right;\">\n",
              "      <th></th>\n",
              "      <th>family</th>\n",
              "      <th>Item Count</th>\n",
              "    </tr>\n",
              "  </thead>\n",
              "  <tbody>\n",
              "    <tr>\n",
              "      <th>0</th>\n",
              "      <td>GROCERY I</td>\n",
              "      <td>1334</td>\n",
              "    </tr>\n",
              "    <tr>\n",
              "      <th>1</th>\n",
              "      <td>BEVERAGES</td>\n",
              "      <td>613</td>\n",
              "    </tr>\n",
              "    <tr>\n",
              "      <th>2</th>\n",
              "      <td>CLEANING</td>\n",
              "      <td>446</td>\n",
              "    </tr>\n",
              "  </tbody>\n",
              "</table>\n",
              "</div>"
            ],
            "text/plain": [
              "      family  Item Count\n",
              "0  GROCERY I        1334\n",
              "1  BEVERAGES         613\n",
              "2   CLEANING         446"
            ]
          },
          "execution_count": 84,
          "metadata": {},
          "output_type": "execute_result"
        }
      ],
      "source": [
        "## Filter items to include only relevant product from top 3 families\n",
        "# Compute the number of items per family and select the top 3 families\n",
        "items_per_family = df_items['family'].value_counts().reset_index()\n",
        "items_per_family.columns = ['family', 'Item Count']\n",
        "top_3_families = items_per_family.head(3)\n",
        "top_3_families\n",
        "\n"
      ]
    },
    {
      "cell_type": "code",
      "execution_count": 85,
      "metadata": {},
      "outputs": [
        {
          "data": {
            "text/html": [
              "<div>\n",
              "<style scoped>\n",
              "    .dataframe tbody tr th:only-of-type {\n",
              "        vertical-align: middle;\n",
              "    }\n",
              "\n",
              "    .dataframe tbody tr th {\n",
              "        vertical-align: top;\n",
              "    }\n",
              "\n",
              "    .dataframe thead th {\n",
              "        text-align: right;\n",
              "    }\n",
              "</style>\n",
              "<table border=\"1\" class=\"dataframe\">\n",
              "  <thead>\n",
              "    <tr style=\"text-align: right;\">\n",
              "      <th></th>\n",
              "      <th>item_nbr</th>\n",
              "      <th>family</th>\n",
              "      <th>class</th>\n",
              "      <th>perishable</th>\n",
              "    </tr>\n",
              "  </thead>\n",
              "  <tbody>\n",
              "    <tr>\n",
              "      <th>0</th>\n",
              "      <td>96995</td>\n",
              "      <td>GROCERY I</td>\n",
              "      <td>1093</td>\n",
              "      <td>0</td>\n",
              "    </tr>\n",
              "    <tr>\n",
              "      <th>1</th>\n",
              "      <td>99197</td>\n",
              "      <td>GROCERY I</td>\n",
              "      <td>1067</td>\n",
              "      <td>0</td>\n",
              "    </tr>\n",
              "    <tr>\n",
              "      <th>2</th>\n",
              "      <td>103501</td>\n",
              "      <td>CLEANING</td>\n",
              "      <td>3008</td>\n",
              "      <td>0</td>\n",
              "    </tr>\n",
              "    <tr>\n",
              "      <th>3</th>\n",
              "      <td>103520</td>\n",
              "      <td>GROCERY I</td>\n",
              "      <td>1028</td>\n",
              "      <td>0</td>\n",
              "    </tr>\n",
              "    <tr>\n",
              "      <th>5</th>\n",
              "      <td>105574</td>\n",
              "      <td>GROCERY I</td>\n",
              "      <td>1045</td>\n",
              "      <td>0</td>\n",
              "    </tr>\n",
              "    <tr>\n",
              "      <th>...</th>\n",
              "      <td>...</td>\n",
              "      <td>...</td>\n",
              "      <td>...</td>\n",
              "      <td>...</td>\n",
              "    </tr>\n",
              "    <tr>\n",
              "      <th>4094</th>\n",
              "      <td>2132163</td>\n",
              "      <td>GROCERY I</td>\n",
              "      <td>1040</td>\n",
              "      <td>0</td>\n",
              "    </tr>\n",
              "    <tr>\n",
              "      <th>4095</th>\n",
              "      <td>2132318</td>\n",
              "      <td>GROCERY I</td>\n",
              "      <td>1002</td>\n",
              "      <td>0</td>\n",
              "    </tr>\n",
              "    <tr>\n",
              "      <th>4096</th>\n",
              "      <td>2132945</td>\n",
              "      <td>GROCERY I</td>\n",
              "      <td>1026</td>\n",
              "      <td>0</td>\n",
              "    </tr>\n",
              "    <tr>\n",
              "      <th>4097</th>\n",
              "      <td>2132957</td>\n",
              "      <td>GROCERY I</td>\n",
              "      <td>1068</td>\n",
              "      <td>0</td>\n",
              "    </tr>\n",
              "    <tr>\n",
              "      <th>4098</th>\n",
              "      <td>2134058</td>\n",
              "      <td>BEVERAGES</td>\n",
              "      <td>1124</td>\n",
              "      <td>0</td>\n",
              "    </tr>\n",
              "  </tbody>\n",
              "</table>\n",
              "<p>2393 rows × 4 columns</p>\n",
              "</div>"
            ],
            "text/plain": [
              "      item_nbr     family  class  perishable\n",
              "0        96995  GROCERY I   1093           0\n",
              "1        99197  GROCERY I   1067           0\n",
              "2       103501   CLEANING   3008           0\n",
              "3       103520  GROCERY I   1028           0\n",
              "5       105574  GROCERY I   1045           0\n",
              "...        ...        ...    ...         ...\n",
              "4094   2132163  GROCERY I   1040           0\n",
              "4095   2132318  GROCERY I   1002           0\n",
              "4096   2132945  GROCERY I   1026           0\n",
              "4097   2132957  GROCERY I   1068           0\n",
              "4098   2134058  BEVERAGES   1124           0\n",
              "\n",
              "[2393 rows x 4 columns]"
            ]
          },
          "execution_count": 85,
          "metadata": {},
          "output_type": "execute_result"
        }
      ],
      "source": [
        "filtered_df_items = df_items[df_items['family'].isin(top_3_families['family'])]\n",
        "filtered_df_items"
      ]
    },
    {
      "cell_type": "code",
      "execution_count": 86,
      "metadata": {
        "colab": {
          "base_uri": "https://localhost:8080/"
        },
        "id": "OIUXqkDKdXwk",
        "outputId": "b8238034-0e00-4335-9269-7a8161029c6d"
      },
      "outputs": [],
      "source": [
        "# Visualize the distribution of perishability within selected product families\n",
        "\n",
        "#print(filtered_df_items['perishable'].value_counts())\n",
        "#filtered_df_items['perishable'].value_counts().plot(kind='bar')"
      ]
    },
    {
      "cell_type": "markdown",
      "metadata": {
        "id": "AxN1illEgsC7"
      },
      "source": [
        "## Transactions"
      ]
    },
    {
      "cell_type": "markdown",
      "metadata": {
        "id": "2FlCVOQdBdLy"
      },
      "source": [
        "### Data overview"
      ]
    },
    {
      "cell_type": "code",
      "execution_count": 87,
      "metadata": {
        "colab": {
          "base_uri": "https://localhost:8080/"
        },
        "id": "7_a_dpD4gl1P",
        "outputId": "a4375e18-536f-46d5-9e86-01ab779f2701"
      },
      "outputs": [
        {
          "name": "stdout",
          "output_type": "stream",
          "text": [
            "<class 'pandas.core.frame.DataFrame'>\n",
            "RangeIndex: 83488 entries, 0 to 83487\n",
            "Data columns (total 3 columns):\n",
            " #   Column        Non-Null Count  Dtype \n",
            "---  ------        --------------  ----- \n",
            " 0   date          83488 non-null  object\n",
            " 1   store_nbr     83488 non-null  int64 \n",
            " 2   transactions  83488 non-null  int64 \n",
            "dtypes: int64(2), object(1)\n",
            "memory usage: 1.9+ MB\n",
            "None\n",
            "\n",
            " unique value number \n",
            " date            1682\n",
            "store_nbr         54\n",
            "transactions    4993\n",
            "dtype: int64\n"
          ]
        },
        {
          "data": {
            "text/html": [
              "<div>\n",
              "<style scoped>\n",
              "    .dataframe tbody tr th:only-of-type {\n",
              "        vertical-align: middle;\n",
              "    }\n",
              "\n",
              "    .dataframe tbody tr th {\n",
              "        vertical-align: top;\n",
              "    }\n",
              "\n",
              "    .dataframe thead th {\n",
              "        text-align: right;\n",
              "    }\n",
              "</style>\n",
              "<table border=\"1\" class=\"dataframe\">\n",
              "  <thead>\n",
              "    <tr style=\"text-align: right;\">\n",
              "      <th></th>\n",
              "      <th>date</th>\n",
              "      <th>store_nbr</th>\n",
              "      <th>transactions</th>\n",
              "    </tr>\n",
              "  </thead>\n",
              "  <tbody>\n",
              "    <tr>\n",
              "      <th>0</th>\n",
              "      <td>2013-01-01</td>\n",
              "      <td>25</td>\n",
              "      <td>770</td>\n",
              "    </tr>\n",
              "    <tr>\n",
              "      <th>1</th>\n",
              "      <td>2013-01-02</td>\n",
              "      <td>1</td>\n",
              "      <td>2111</td>\n",
              "    </tr>\n",
              "    <tr>\n",
              "      <th>2</th>\n",
              "      <td>2013-01-02</td>\n",
              "      <td>2</td>\n",
              "      <td>2358</td>\n",
              "    </tr>\n",
              "    <tr>\n",
              "      <th>3</th>\n",
              "      <td>2013-01-02</td>\n",
              "      <td>3</td>\n",
              "      <td>3487</td>\n",
              "    </tr>\n",
              "    <tr>\n",
              "      <th>4</th>\n",
              "      <td>2013-01-02</td>\n",
              "      <td>4</td>\n",
              "      <td>1922</td>\n",
              "    </tr>\n",
              "  </tbody>\n",
              "</table>\n",
              "</div>"
            ],
            "text/plain": [
              "         date  store_nbr  transactions\n",
              "0  2013-01-01         25           770\n",
              "1  2013-01-02          1          2111\n",
              "2  2013-01-02          2          2358\n",
              "3  2013-01-02          3          3487\n",
              "4  2013-01-02          4          1922"
            ]
          },
          "execution_count": 87,
          "metadata": {},
          "output_type": "execute_result"
        }
      ],
      "source": [
        "# df_transactions shape is 83488 rows and 3 columns\n",
        "#No null is found from the info\n",
        "\n",
        "print(df_transactions.info())\n",
        "print('\\n unique value number \\n', df_transactions.nunique())\n",
        "df_transactions.head(5)\n"
      ]
    },
    {
      "cell_type": "code",
      "execution_count": 88,
      "metadata": {
        "colab": {
          "base_uri": "https://localhost:8080/"
        },
        "id": "YlhlB-2tkusP",
        "outputId": "a4b3c276-e49d-46d6-864b-cf605a2fc5e4"
      },
      "outputs": [
        {
          "data": {
            "text/plain": [
              "(Timestamp('2013-01-01 00:00:00'), Timestamp('2017-08-15 00:00:00'))"
            ]
          },
          "execution_count": 88,
          "metadata": {},
          "output_type": "execute_result"
        }
      ],
      "source": [
        "#Convert date to datetime format:\n",
        "df_transactions['date'] = pd.to_datetime(df_transactions['date'])\n",
        "df_transactions['date'].min(), df_transactions['date'].max()\n",
        "#print(df_transactions['store_nbr'].nunique())\n"
      ]
    },
    {
      "cell_type": "markdown",
      "metadata": {
        "id": "t7DaHa2WBoBU"
      },
      "source": [
        "### Filter transactions for stores in Guayas\n"
      ]
    },
    {
      "cell_type": "code",
      "execution_count": 89,
      "metadata": {
        "colab": {
          "base_uri": "https://localhost:8080/"
        },
        "id": "qmMywWqlhw01",
        "outputId": "6bbcd51e-0db6-48f6-fce9-f384cf9100b4"
      },
      "outputs": [
        {
          "name": "stderr",
          "output_type": "stream",
          "text": [
            "/var/folders/mh/fgvwq54x3dlg6k690k5t0qvh0000gn/T/ipykernel_4273/2040464096.py:2: SettingWithCopyWarning: \n",
            "A value is trying to be set on a copy of a slice from a DataFrame.\n",
            "Try using .loc[row_indexer,col_indexer] = value instead\n",
            "\n",
            "See the caveats in the documentation: https://pandas.pydata.org/pandas-docs/stable/user_guide/indexing.html#returning-a-view-versus-a-copy\n",
            "  df_transactions_guayas['date'] = pd.to_datetime(df_transactions_guayas['date'])\n"
          ]
        },
        {
          "data": {
            "text/html": [
              "<div>\n",
              "<style scoped>\n",
              "    .dataframe tbody tr th:only-of-type {\n",
              "        vertical-align: middle;\n",
              "    }\n",
              "\n",
              "    .dataframe tbody tr th {\n",
              "        vertical-align: top;\n",
              "    }\n",
              "\n",
              "    .dataframe thead th {\n",
              "        text-align: right;\n",
              "    }\n",
              "</style>\n",
              "<table border=\"1\" class=\"dataframe\">\n",
              "  <thead>\n",
              "    <tr style=\"text-align: right;\">\n",
              "      <th></th>\n",
              "      <th>date</th>\n",
              "      <th>store_nbr</th>\n",
              "      <th>transactions</th>\n",
              "    </tr>\n",
              "  </thead>\n",
              "  <tbody>\n",
              "    <tr>\n",
              "      <th>21</th>\n",
              "      <td>2013-01-02</td>\n",
              "      <td>24</td>\n",
              "      <td>2605</td>\n",
              "    </tr>\n",
              "    <tr>\n",
              "      <th>23</th>\n",
              "      <td>2013-01-02</td>\n",
              "      <td>26</td>\n",
              "      <td>1008</td>\n",
              "    </tr>\n",
              "    <tr>\n",
              "      <th>24</th>\n",
              "      <td>2013-01-02</td>\n",
              "      <td>27</td>\n",
              "      <td>1386</td>\n",
              "    </tr>\n",
              "    <tr>\n",
              "      <th>25</th>\n",
              "      <td>2013-01-02</td>\n",
              "      <td>28</td>\n",
              "      <td>950</td>\n",
              "    </tr>\n",
              "    <tr>\n",
              "      <th>26</th>\n",
              "      <td>2013-01-02</td>\n",
              "      <td>30</td>\n",
              "      <td>708</td>\n",
              "    </tr>\n",
              "    <tr>\n",
              "      <th>...</th>\n",
              "      <td>...</td>\n",
              "      <td>...</td>\n",
              "      <td>...</td>\n",
              "    </tr>\n",
              "    <tr>\n",
              "      <th>83465</th>\n",
              "      <td>2017-08-15</td>\n",
              "      <td>32</td>\n",
              "      <td>615</td>\n",
              "    </tr>\n",
              "    <tr>\n",
              "      <th>83467</th>\n",
              "      <td>2017-08-15</td>\n",
              "      <td>34</td>\n",
              "      <td>2007</td>\n",
              "    </tr>\n",
              "    <tr>\n",
              "      <th>83468</th>\n",
              "      <td>2017-08-15</td>\n",
              "      <td>35</td>\n",
              "      <td>612</td>\n",
              "    </tr>\n",
              "    <tr>\n",
              "      <th>83469</th>\n",
              "      <td>2017-08-15</td>\n",
              "      <td>36</td>\n",
              "      <td>1192</td>\n",
              "    </tr>\n",
              "    <tr>\n",
              "      <th>83484</th>\n",
              "      <td>2017-08-15</td>\n",
              "      <td>51</td>\n",
              "      <td>1573</td>\n",
              "    </tr>\n",
              "  </tbody>\n",
              "</table>\n",
              "<p>17397 rows × 3 columns</p>\n",
              "</div>"
            ],
            "text/plain": [
              "            date  store_nbr  transactions\n",
              "21    2013-01-02         24          2605\n",
              "23    2013-01-02         26          1008\n",
              "24    2013-01-02         27          1386\n",
              "25    2013-01-02         28           950\n",
              "26    2013-01-02         30           708\n",
              "...          ...        ...           ...\n",
              "83465 2017-08-15         32           615\n",
              "83467 2017-08-15         34          2007\n",
              "83468 2017-08-15         35           612\n",
              "83469 2017-08-15         36          1192\n",
              "83484 2017-08-15         51          1573\n",
              "\n",
              "[17397 rows x 3 columns]"
            ]
          },
          "execution_count": 89,
          "metadata": {},
          "output_type": "execute_result"
        }
      ],
      "source": [
        "df_transactions_guayas = df_transactions[df_transactions['store_nbr'].isin(store_nbr_list_guayas)]\n",
        "df_transactions_guayas['date'] = pd.to_datetime(df_transactions_guayas['date'])\n",
        "df_transactions_guayas"
      ]
    },
    {
      "cell_type": "code",
      "execution_count": 90,
      "metadata": {
        "colab": {
          "base_uri": "https://localhost:8080/"
        },
        "id": "gNBOsdSak0eH",
        "outputId": "4d0c45f7-a51f-47a5-f01d-ad296ee6b48c"
      },
      "outputs": [
        {
          "data": {
            "text/plain": [
              "<Axes: title={'center': 'Total Transactions Across All Stores'}, xlabel='date'>"
            ]
          },
          "execution_count": 90,
          "metadata": {},
          "output_type": "execute_result"
        },
        {
          "data": {
            "image/png": "[encoded data removed]",
            "text/plain": [
              "<Figure size 640x480 with 1 Axes>"
            ]
          },
          "metadata": {},
          "output_type": "display_data"
        }
      ],
      "source": [
        "#Set multi-index if needed (date + store):\n",
        "df_transactions_guayas.set_index(['date', 'store_nbr'], inplace=True)\n",
        "\n",
        "## Plot total transactions over time\n",
        "df_transactions_guayas.groupby('date')['transactions'].sum().plot(title='Total Transactions Across All Stores')"
      ]
    },
    {
      "cell_type": "markdown",
      "metadata": {},
      "source": [
        "High sale spikes during year end fpr each year. "
      ]
    },
    {
      "cell_type": "code",
      "execution_count": 91,
      "metadata": {
        "colab": {
          "base_uri": "https://localhost:8080/"
        },
        "id": "kktl_9neh7iQ",
        "outputId": "52d4266c-9f15-459f-89e3-879b1716f5bb"
      },
      "outputs": [
        {
          "data": {
            "text/html": [
              "<div>\n",
              "<style scoped>\n",
              "    .dataframe tbody tr th:only-of-type {\n",
              "        vertical-align: middle;\n",
              "    }\n",
              "\n",
              "    .dataframe tbody tr th {\n",
              "        vertical-align: top;\n",
              "    }\n",
              "\n",
              "    .dataframe thead th {\n",
              "        text-align: right;\n",
              "    }\n",
              "</style>\n",
              "<table border=\"1\" class=\"dataframe\">\n",
              "  <thead>\n",
              "    <tr style=\"text-align: right;\">\n",
              "      <th></th>\n",
              "      <th>store_nbr</th>\n",
              "      <th>total_transactions</th>\n",
              "    </tr>\n",
              "  </thead>\n",
              "  <tbody>\n",
              "    <tr>\n",
              "      <th>0</th>\n",
              "      <td>34</td>\n",
              "      <td>3864018</td>\n",
              "    </tr>\n",
              "    <tr>\n",
              "      <th>1</th>\n",
              "      <td>24</td>\n",
              "      <td>3568206</td>\n",
              "    </tr>\n",
              "    <tr>\n",
              "      <th>2</th>\n",
              "      <td>51</td>\n",
              "      <td>2873614</td>\n",
              "    </tr>\n",
              "    <tr>\n",
              "      <th>3</th>\n",
              "      <td>27</td>\n",
              "      <td>2485687</td>\n",
              "    </tr>\n",
              "    <tr>\n",
              "      <th>4</th>\n",
              "      <td>28</td>\n",
              "      <td>1957594</td>\n",
              "    </tr>\n",
              "    <tr>\n",
              "      <th>5</th>\n",
              "      <td>36</td>\n",
              "      <td>1738129</td>\n",
              "    </tr>\n",
              "    <tr>\n",
              "      <th>6</th>\n",
              "      <td>30</td>\n",
              "      <td>1171130</td>\n",
              "    </tr>\n",
              "    <tr>\n",
              "      <th>7</th>\n",
              "      <td>35</td>\n",
              "      <td>1123889</td>\n",
              "    </tr>\n",
              "    <tr>\n",
              "      <th>8</th>\n",
              "      <td>32</td>\n",
              "      <td>1065226</td>\n",
              "    </tr>\n",
              "    <tr>\n",
              "      <th>9</th>\n",
              "      <td>26</td>\n",
              "      <td>1065059</td>\n",
              "    </tr>\n",
              "    <tr>\n",
              "      <th>10</th>\n",
              "      <td>29</td>\n",
              "      <td>981448</td>\n",
              "    </tr>\n",
              "  </tbody>\n",
              "</table>\n",
              "</div>"
            ],
            "text/plain": [
              "    store_nbr  total_transactions\n",
              "0          34             3864018\n",
              "1          24             3568206\n",
              "2          51             2873614\n",
              "3          27             2485687\n",
              "4          28             1957594\n",
              "5          36             1738129\n",
              "6          30             1171130\n",
              "7          35             1123889\n",
              "8          32             1065226\n",
              "9          26             1065059\n",
              "10         29              981448"
            ]
          },
          "execution_count": 91,
          "metadata": {},
          "output_type": "execute_result"
        }
      ],
      "source": [
        "#Show total transactions for each stores in Guayas\n",
        "df_transactions_guayas.groupby('store_nbr')['transactions'].sum().sort_values(ascending=False).reset_index(name='total_transactions')"
      ]
    },
    {
      "cell_type": "markdown",
      "metadata": {
        "id": "UFmrNyF8i10G"
      },
      "source": [
        "## Oil"
      ]
    },
    {
      "cell_type": "markdown",
      "metadata": {
        "id": "A7tCRBN-BT3w"
      },
      "source": [
        "### Data overview"
      ]
    },
    {
      "cell_type": "code",
      "execution_count": 92,
      "metadata": {
        "colab": {
          "base_uri": "https://localhost:8080/"
        },
        "id": "XzKsunPFixWh",
        "outputId": "74d273dc-7da6-4ed4-cba8-75b7e39f3a91"
      },
      "outputs": [
        {
          "name": "stdout",
          "output_type": "stream",
          "text": [
            "<class 'pandas.core.frame.DataFrame'>\n",
            "RangeIndex: 1218 entries, 0 to 1217\n",
            "Data columns (total 2 columns):\n",
            " #   Column      Non-Null Count  Dtype  \n",
            "---  ------      --------------  -----  \n",
            " 0   date        1218 non-null   object \n",
            " 1   dcoilwtico  1175 non-null   float64\n",
            "dtypes: float64(1), object(1)\n",
            "memory usage: 19.2+ KB\n",
            "None\n",
            "\n",
            " Unique value \n",
            " date          1218\n",
            "dcoilwtico     998\n",
            "dtype: int64\n",
            "\n",
            " Null value\n",
            " date           0\n",
            "dcoilwtico    43\n",
            "dtype: int64\n"
          ]
        },
        {
          "data": {
            "text/html": [
              "<div>\n",
              "<style scoped>\n",
              "    .dataframe tbody tr th:only-of-type {\n",
              "        vertical-align: middle;\n",
              "    }\n",
              "\n",
              "    .dataframe tbody tr th {\n",
              "        vertical-align: top;\n",
              "    }\n",
              "\n",
              "    .dataframe thead th {\n",
              "        text-align: right;\n",
              "    }\n",
              "</style>\n",
              "<table border=\"1\" class=\"dataframe\">\n",
              "  <thead>\n",
              "    <tr style=\"text-align: right;\">\n",
              "      <th></th>\n",
              "      <th>date</th>\n",
              "      <th>dcoilwtico</th>\n",
              "    </tr>\n",
              "  </thead>\n",
              "  <tbody>\n",
              "    <tr>\n",
              "      <th>0</th>\n",
              "      <td>2013-01-01</td>\n",
              "      <td>NaN</td>\n",
              "    </tr>\n",
              "    <tr>\n",
              "      <th>1</th>\n",
              "      <td>2013-01-02</td>\n",
              "      <td>93.14</td>\n",
              "    </tr>\n",
              "    <tr>\n",
              "      <th>2</th>\n",
              "      <td>2013-01-03</td>\n",
              "      <td>92.97</td>\n",
              "    </tr>\n",
              "    <tr>\n",
              "      <th>3</th>\n",
              "      <td>2013-01-04</td>\n",
              "      <td>93.12</td>\n",
              "    </tr>\n",
              "    <tr>\n",
              "      <th>4</th>\n",
              "      <td>2013-01-07</td>\n",
              "      <td>93.20</td>\n",
              "    </tr>\n",
              "  </tbody>\n",
              "</table>\n",
              "</div>"
            ],
            "text/plain": [
              "         date  dcoilwtico\n",
              "0  2013-01-01         NaN\n",
              "1  2013-01-02       93.14\n",
              "2  2013-01-03       92.97\n",
              "3  2013-01-04       93.12\n",
              "4  2013-01-07       93.20"
            ]
          },
          "execution_count": 92,
          "metadata": {},
          "output_type": "execute_result"
        }
      ],
      "source": [
        "# df_oil contains 1218 rows and 2 columns\n",
        "#No null is found from the info\n",
        "print(df_oil.info())\n",
        "print('\\n Unique value \\n', df_oil.nunique())\n",
        "print('\\n Null value\\n',df_oil.isnull().sum())\n",
        "df_oil.head(5)"
      ]
    },
    {
      "cell_type": "code",
      "execution_count": 93,
      "metadata": {
        "colab": {
          "base_uri": "https://localhost:8080/"
        },
        "id": "gpynjy6gjUHI",
        "outputId": "f9d8f792-e7a6-42dc-f859-af823ea9693e"
      },
      "outputs": [
        {
          "name": "stdout",
          "output_type": "stream",
          "text": [
            "The date range for oil is  2013-01-01 to 2017-08-31\n",
            "1218\n"
          ]
        }
      ],
      "source": [
        "#calculate the date range in the dataset spans covering daily oil prices.\n",
        "print('The date range for oil is ',df_oil['date'].min(), 'to', df_oil['date'].max())\n",
        "print(len(df_oil['date'].unique()))"
      ]
    },
    {
      "cell_type": "code",
      "execution_count": 94,
      "metadata": {
        "colab": {
          "base_uri": "https://localhost:8080/"
        },
        "id": "1w-ZrCUplJ7s",
        "outputId": "823f25d0-730b-4490-cfb8-d704701b87a5"
      },
      "outputs": [
        {
          "data": {
            "image/png": "[encoded data removed]",
            "text/plain": [
              "<Figure size 1000x600 with 1 Axes>"
            ]
          },
          "metadata": {},
          "output_type": "display_data"
        }
      ],
      "source": [
        "#Visualize the trend in oil prices over time.\n",
        "\n",
        "df_oil['date'] = pd.to_datetime(df_oil['date'])\n",
        "\n",
        "# Create the plot\n",
        "plt.figure(figsize=(10, 6))\n",
        "plt.plot(df_oil['date'], df_oil['dcoilwtico'])\n",
        "plt.xlabel('Date')\n",
        "plt.ylabel('dcoilwtico')\n",
        "plt.title('Date vs. dcoilwtico')\n",
        "plt.grid(True)\n",
        "plt.show()\n"
      ]
    },
    {
      "cell_type": "markdown",
      "metadata": {
        "id": "JjB49j2Fi63m"
      },
      "source": [
        "## Holiday Events"
      ]
    },
    {
      "cell_type": "markdown",
      "metadata": {
        "id": "t2nhlI8C_Dgo"
      },
      "source": [
        "### Data Overview"
      ]
    },
    {
      "cell_type": "code",
      "execution_count": 95,
      "metadata": {
        "colab": {
          "base_uri": "https://localhost:8080/",
          "height": 671
        },
        "id": "gHmZsk9wlmIA",
        "outputId": "b879292f-e973-4fe1-d09d-830466fdf2ff"
      },
      "outputs": [
        {
          "name": "stdout",
          "output_type": "stream",
          "text": [
            "<class 'pandas.core.frame.DataFrame'>\n",
            "RangeIndex: 350 entries, 0 to 349\n",
            "Data columns (total 6 columns):\n",
            " #   Column       Non-Null Count  Dtype \n",
            "---  ------       --------------  ----- \n",
            " 0   date         350 non-null    object\n",
            " 1   type         350 non-null    object\n",
            " 2   locale       350 non-null    object\n",
            " 3   locale_name  350 non-null    object\n",
            " 4   description  350 non-null    object\n",
            " 5   transferred  350 non-null    bool  \n",
            "dtypes: bool(1), object(5)\n",
            "memory usage: 14.1+ KB\n",
            "None\n",
            "\n",
            " Unique values \n",
            " date           312\n",
            "type             6\n",
            "locale           3\n",
            "locale_name     24\n",
            "description    103\n",
            "transferred      2\n",
            "dtype: int64\n",
            "\n",
            " Duplicate values \n",
            " 0\n"
          ]
        },
        {
          "data": {
            "text/html": [
              "<div>\n",
              "<style scoped>\n",
              "    .dataframe tbody tr th:only-of-type {\n",
              "        vertical-align: middle;\n",
              "    }\n",
              "\n",
              "    .dataframe tbody tr th {\n",
              "        vertical-align: top;\n",
              "    }\n",
              "\n",
              "    .dataframe thead th {\n",
              "        text-align: right;\n",
              "    }\n",
              "</style>\n",
              "<table border=\"1\" class=\"dataframe\">\n",
              "  <thead>\n",
              "    <tr style=\"text-align: right;\">\n",
              "      <th></th>\n",
              "      <th>date</th>\n",
              "      <th>type</th>\n",
              "      <th>locale</th>\n",
              "      <th>locale_name</th>\n",
              "      <th>description</th>\n",
              "      <th>transferred</th>\n",
              "    </tr>\n",
              "  </thead>\n",
              "  <tbody>\n",
              "    <tr>\n",
              "      <th>0</th>\n",
              "      <td>2012-03-02</td>\n",
              "      <td>Holiday</td>\n",
              "      <td>Local</td>\n",
              "      <td>Manta</td>\n",
              "      <td>Fundacion de Manta</td>\n",
              "      <td>False</td>\n",
              "    </tr>\n",
              "    <tr>\n",
              "      <th>1</th>\n",
              "      <td>2012-04-01</td>\n",
              "      <td>Holiday</td>\n",
              "      <td>Regional</td>\n",
              "      <td>Cotopaxi</td>\n",
              "      <td>Provincializacion de Cotopaxi</td>\n",
              "      <td>False</td>\n",
              "    </tr>\n",
              "    <tr>\n",
              "      <th>2</th>\n",
              "      <td>2012-04-12</td>\n",
              "      <td>Holiday</td>\n",
              "      <td>Local</td>\n",
              "      <td>Cuenca</td>\n",
              "      <td>Fundacion de Cuenca</td>\n",
              "      <td>False</td>\n",
              "    </tr>\n",
              "    <tr>\n",
              "      <th>3</th>\n",
              "      <td>2012-04-14</td>\n",
              "      <td>Holiday</td>\n",
              "      <td>Local</td>\n",
              "      <td>Libertad</td>\n",
              "      <td>Cantonizacion de Libertad</td>\n",
              "      <td>False</td>\n",
              "    </tr>\n",
              "    <tr>\n",
              "      <th>4</th>\n",
              "      <td>2012-04-21</td>\n",
              "      <td>Holiday</td>\n",
              "      <td>Local</td>\n",
              "      <td>Riobamba</td>\n",
              "      <td>Cantonizacion de Riobamba</td>\n",
              "      <td>False</td>\n",
              "    </tr>\n",
              "  </tbody>\n",
              "</table>\n",
              "</div>"
            ],
            "text/plain": [
              "         date     type    locale locale_name                    description  \\\n",
              "0  2012-03-02  Holiday     Local       Manta             Fundacion de Manta   \n",
              "1  2012-04-01  Holiday  Regional    Cotopaxi  Provincializacion de Cotopaxi   \n",
              "2  2012-04-12  Holiday     Local      Cuenca            Fundacion de Cuenca   \n",
              "3  2012-04-14  Holiday     Local    Libertad      Cantonizacion de Libertad   \n",
              "4  2012-04-21  Holiday     Local    Riobamba      Cantonizacion de Riobamba   \n",
              "\n",
              "   transferred  \n",
              "0        False  \n",
              "1        False  \n",
              "2        False  \n",
              "3        False  \n",
              "4        False  "
            ]
          },
          "execution_count": 95,
          "metadata": {},
          "output_type": "execute_result"
        }
      ],
      "source": [
        "# df_transactions shape is 350 rows and 6 columns\n",
        "#No null is found from the info\n",
        "\n",
        "print(df_holidays_events.info())\n",
        "print('\\n Unique values \\n', df_holidays_events.nunique())\n",
        "print('\\n Duplicate values \\n', df_holidays_events.duplicated().sum())\n",
        "df_holidays_events.head(5)"
      ]
    },
    {
      "cell_type": "code",
      "execution_count": 96,
      "metadata": {
        "colab": {
          "base_uri": "https://localhost:8080/"
        },
        "id": "8LeTlfQ-mJmf",
        "outputId": "6cff1f42-a3f0-4e35-ff45-9580a494831a"
      },
      "outputs": [
        {
          "name": "stdout",
          "output_type": "stream",
          "text": [
            "\n",
            " Unique locale names \n",
            " locale_name\n",
            "Ecuador                           174\n",
            "Quito                              13\n",
            "Riobamba                           12\n",
            "Guaranda                           12\n",
            "Latacunga                          12\n",
            "Ambato                             12\n",
            "Guayaquil                          11\n",
            "Cuenca                              7\n",
            "Ibarra                              7\n",
            "Salinas                             6\n",
            "Loja                                6\n",
            "Santa Elena                         6\n",
            "Santo Domingo de los Tsachilas      6\n",
            "Quevedo                             6\n",
            "Manta                               6\n",
            "Esmeraldas                          6\n",
            "Cotopaxi                            6\n",
            "El Carmen                           6\n",
            "Santo Domingo                       6\n",
            "Machala                             6\n",
            "Imbabura                            6\n",
            "Puyo                                6\n",
            "Libertad                            6\n",
            "Cayambe                             6\n",
            "Name: count, dtype: int64\n"
          ]
        }
      ],
      "source": [
        "print('\\n Unique locale names \\n', df_holidays_events['locale_name'].value_counts())"
      ]
    },
    {
      "cell_type": "code",
      "execution_count": 97,
      "metadata": {},
      "outputs": [
        {
          "name": "stdout",
          "output_type": "stream",
          "text": [
            "\n",
            " Unique locale values \n",
            " locale\n",
            "National    174\n",
            "Local       152\n",
            "Regional     24\n",
            "Name: count, dtype: int64\n"
          ]
        }
      ],
      "source": [
        "print('\\n Unique locale values \\n', df_holidays_events['locale'].value_counts())"
      ]
    },
    {
      "cell_type": "code",
      "execution_count": 98,
      "metadata": {},
      "outputs": [
        {
          "name": "stdout",
          "output_type": "stream",
          "text": [
            "\n",
            " Unique type values \n",
            " type\n",
            "Holiday       221\n",
            "Event          56\n",
            "Additional     51\n",
            "Transfer       12\n",
            "Bridge          5\n",
            "Work Day        5\n",
            "Name: count, dtype: int64\n"
          ]
        }
      ],
      "source": [
        "print('\\n Unique type values \\n', df_holidays_events['type'].value_counts())"
      ]
    },
    {
      "cell_type": "markdown",
      "metadata": {
        "id": "XiHGddST_L7M"
      },
      "source": [
        "### Data Exploration\n",
        "\n",
        "Examined unique values in key columns like locale, locale_name, and type"
      ]
    },
    {
      "cell_type": "code",
      "execution_count": 99,
      "metadata": {
        "colab": {
          "base_uri": "https://localhost:8080/",
          "height": 424
        },
        "id": "QHsFy9iQmy_Y",
        "outputId": "dc91228b-bfae-4e4e-d0c9-b209275e87e9"
      },
      "outputs": [
        {
          "data": {
            "text/html": [
              "<div>\n",
              "<style scoped>\n",
              "    .dataframe tbody tr th:only-of-type {\n",
              "        vertical-align: middle;\n",
              "    }\n",
              "\n",
              "    .dataframe tbody tr th {\n",
              "        vertical-align: top;\n",
              "    }\n",
              "\n",
              "    .dataframe thead th {\n",
              "        text-align: right;\n",
              "    }\n",
              "</style>\n",
              "<table border=\"1\" class=\"dataframe\">\n",
              "  <thead>\n",
              "    <tr style=\"text-align: right;\">\n",
              "      <th></th>\n",
              "      <th>date</th>\n",
              "      <th>type</th>\n",
              "      <th>locale</th>\n",
              "      <th>locale_name</th>\n",
              "      <th>description</th>\n",
              "      <th>transferred</th>\n",
              "    </tr>\n",
              "  </thead>\n",
              "  <tbody>\n",
              "    <tr>\n",
              "      <th>0</th>\n",
              "      <td>2012-03-02</td>\n",
              "      <td>Holiday</td>\n",
              "      <td>Local</td>\n",
              "      <td>Manta</td>\n",
              "      <td>Fundacion de Manta</td>\n",
              "      <td>False</td>\n",
              "    </tr>\n",
              "    <tr>\n",
              "      <th>2</th>\n",
              "      <td>2012-04-12</td>\n",
              "      <td>Holiday</td>\n",
              "      <td>Local</td>\n",
              "      <td>Cuenca</td>\n",
              "      <td>Fundacion de Cuenca</td>\n",
              "      <td>False</td>\n",
              "    </tr>\n",
              "    <tr>\n",
              "      <th>3</th>\n",
              "      <td>2012-04-14</td>\n",
              "      <td>Holiday</td>\n",
              "      <td>Local</td>\n",
              "      <td>Libertad</td>\n",
              "      <td>Cantonizacion de Libertad</td>\n",
              "      <td>False</td>\n",
              "    </tr>\n",
              "    <tr>\n",
              "      <th>4</th>\n",
              "      <td>2012-04-21</td>\n",
              "      <td>Holiday</td>\n",
              "      <td>Local</td>\n",
              "      <td>Riobamba</td>\n",
              "      <td>Cantonizacion de Riobamba</td>\n",
              "      <td>False</td>\n",
              "    </tr>\n",
              "    <tr>\n",
              "      <th>5</th>\n",
              "      <td>2012-05-12</td>\n",
              "      <td>Holiday</td>\n",
              "      <td>Local</td>\n",
              "      <td>Puyo</td>\n",
              "      <td>Cantonizacion del Puyo</td>\n",
              "      <td>False</td>\n",
              "    </tr>\n",
              "    <tr>\n",
              "      <th>...</th>\n",
              "      <td>...</td>\n",
              "      <td>...</td>\n",
              "      <td>...</td>\n",
              "      <td>...</td>\n",
              "      <td>...</td>\n",
              "      <td>...</td>\n",
              "    </tr>\n",
              "    <tr>\n",
              "      <th>339</th>\n",
              "      <td>2017-12-05</td>\n",
              "      <td>Additional</td>\n",
              "      <td>Local</td>\n",
              "      <td>Quito</td>\n",
              "      <td>Fundacion de Quito-1</td>\n",
              "      <td>False</td>\n",
              "    </tr>\n",
              "    <tr>\n",
              "      <th>340</th>\n",
              "      <td>2017-12-06</td>\n",
              "      <td>Holiday</td>\n",
              "      <td>Local</td>\n",
              "      <td>Quito</td>\n",
              "      <td>Fundacion de Quito</td>\n",
              "      <td>True</td>\n",
              "    </tr>\n",
              "    <tr>\n",
              "      <th>341</th>\n",
              "      <td>2017-12-08</td>\n",
              "      <td>Holiday</td>\n",
              "      <td>Local</td>\n",
              "      <td>Loja</td>\n",
              "      <td>Fundacion de Loja</td>\n",
              "      <td>False</td>\n",
              "    </tr>\n",
              "    <tr>\n",
              "      <th>342</th>\n",
              "      <td>2017-12-08</td>\n",
              "      <td>Transfer</td>\n",
              "      <td>Local</td>\n",
              "      <td>Quito</td>\n",
              "      <td>Traslado Fundacion de Quito</td>\n",
              "      <td>False</td>\n",
              "    </tr>\n",
              "    <tr>\n",
              "      <th>344</th>\n",
              "      <td>2017-12-22</td>\n",
              "      <td>Holiday</td>\n",
              "      <td>Local</td>\n",
              "      <td>Salinas</td>\n",
              "      <td>Cantonizacion de Salinas</td>\n",
              "      <td>False</td>\n",
              "    </tr>\n",
              "  </tbody>\n",
              "</table>\n",
              "<p>152 rows × 6 columns</p>\n",
              "</div>"
            ],
            "text/plain": [
              "           date        type locale locale_name                  description  \\\n",
              "0    2012-03-02     Holiday  Local       Manta           Fundacion de Manta   \n",
              "2    2012-04-12     Holiday  Local      Cuenca          Fundacion de Cuenca   \n",
              "3    2012-04-14     Holiday  Local    Libertad    Cantonizacion de Libertad   \n",
              "4    2012-04-21     Holiday  Local    Riobamba    Cantonizacion de Riobamba   \n",
              "5    2012-05-12     Holiday  Local        Puyo       Cantonizacion del Puyo   \n",
              "..          ...         ...    ...         ...                          ...   \n",
              "339  2017-12-05  Additional  Local       Quito         Fundacion de Quito-1   \n",
              "340  2017-12-06     Holiday  Local       Quito           Fundacion de Quito   \n",
              "341  2017-12-08     Holiday  Local        Loja            Fundacion de Loja   \n",
              "342  2017-12-08    Transfer  Local       Quito  Traslado Fundacion de Quito   \n",
              "344  2017-12-22     Holiday  Local     Salinas     Cantonizacion de Salinas   \n",
              "\n",
              "     transferred  \n",
              "0          False  \n",
              "2          False  \n",
              "3          False  \n",
              "4          False  \n",
              "5          False  \n",
              "..           ...  \n",
              "339        False  \n",
              "340         True  \n",
              "341        False  \n",
              "342        False  \n",
              "344        False  \n",
              "\n",
              "[152 rows x 6 columns]"
            ]
          },
          "execution_count": 99,
          "metadata": {},
          "output_type": "execute_result"
        }
      ],
      "source": [
        "#df_holidays_events[df_holidays_events['type']=='Event']\n",
        "#df_holidays_events[df_holidays_events['locale']=='Regional']\n",
        "df_holidays_events[df_holidays_events['locale']=='Local']\n"
      ]
    },
    {
      "cell_type": "code",
      "execution_count": 100,
      "metadata": {
        "colab": {
          "base_uri": "https://localhost:8080/",
          "height": 477
        },
        "id": "tC6iKlFfm6ql",
        "outputId": "36c7c4e3-3125-44f3-c97e-ed8117f5e2e1"
      },
      "outputs": [
        {
          "name": "stdout",
          "output_type": "stream",
          "text": [
            "locale_name\n",
            "Ecuador    174\n",
            "Name: count, dtype: int64\n"
          ]
        },
        {
          "data": {
            "text/html": [
              "<div>\n",
              "<style scoped>\n",
              "    .dataframe tbody tr th:only-of-type {\n",
              "        vertical-align: middle;\n",
              "    }\n",
              "\n",
              "    .dataframe tbody tr th {\n",
              "        vertical-align: top;\n",
              "    }\n",
              "\n",
              "    .dataframe thead th {\n",
              "        text-align: right;\n",
              "    }\n",
              "</style>\n",
              "<table border=\"1\" class=\"dataframe\">\n",
              "  <thead>\n",
              "    <tr style=\"text-align: right;\">\n",
              "      <th></th>\n",
              "      <th>date</th>\n",
              "      <th>type</th>\n",
              "      <th>locale</th>\n",
              "      <th>locale_name</th>\n",
              "      <th>description</th>\n",
              "      <th>transferred</th>\n",
              "    </tr>\n",
              "  </thead>\n",
              "  <tbody>\n",
              "    <tr>\n",
              "      <th>14</th>\n",
              "      <td>2012-08-10</td>\n",
              "      <td>Holiday</td>\n",
              "      <td>National</td>\n",
              "      <td>Ecuador</td>\n",
              "      <td>Primer Grito de Independencia</td>\n",
              "      <td>False</td>\n",
              "    </tr>\n",
              "    <tr>\n",
              "      <th>19</th>\n",
              "      <td>2012-10-09</td>\n",
              "      <td>Holiday</td>\n",
              "      <td>National</td>\n",
              "      <td>Ecuador</td>\n",
              "      <td>Independencia de Guayaquil</td>\n",
              "      <td>True</td>\n",
              "    </tr>\n",
              "    <tr>\n",
              "      <th>20</th>\n",
              "      <td>2012-10-12</td>\n",
              "      <td>Transfer</td>\n",
              "      <td>National</td>\n",
              "      <td>Ecuador</td>\n",
              "      <td>Traslado Independencia de Guayaquil</td>\n",
              "      <td>False</td>\n",
              "    </tr>\n",
              "    <tr>\n",
              "      <th>21</th>\n",
              "      <td>2012-11-02</td>\n",
              "      <td>Holiday</td>\n",
              "      <td>National</td>\n",
              "      <td>Ecuador</td>\n",
              "      <td>Dia de Difuntos</td>\n",
              "      <td>False</td>\n",
              "    </tr>\n",
              "    <tr>\n",
              "      <th>22</th>\n",
              "      <td>2012-11-03</td>\n",
              "      <td>Holiday</td>\n",
              "      <td>National</td>\n",
              "      <td>Ecuador</td>\n",
              "      <td>Independencia de Cuenca</td>\n",
              "      <td>False</td>\n",
              "    </tr>\n",
              "    <tr>\n",
              "      <th>...</th>\n",
              "      <td>...</td>\n",
              "      <td>...</td>\n",
              "      <td>...</td>\n",
              "      <td>...</td>\n",
              "      <td>...</td>\n",
              "      <td>...</td>\n",
              "    </tr>\n",
              "    <tr>\n",
              "      <th>345</th>\n",
              "      <td>2017-12-22</td>\n",
              "      <td>Additional</td>\n",
              "      <td>National</td>\n",
              "      <td>Ecuador</td>\n",
              "      <td>Navidad-3</td>\n",
              "      <td>False</td>\n",
              "    </tr>\n",
              "    <tr>\n",
              "      <th>346</th>\n",
              "      <td>2017-12-23</td>\n",
              "      <td>Additional</td>\n",
              "      <td>National</td>\n",
              "      <td>Ecuador</td>\n",
              "      <td>Navidad-2</td>\n",
              "      <td>False</td>\n",
              "    </tr>\n",
              "    <tr>\n",
              "      <th>347</th>\n",
              "      <td>2017-12-24</td>\n",
              "      <td>Additional</td>\n",
              "      <td>National</td>\n",
              "      <td>Ecuador</td>\n",
              "      <td>Navidad-1</td>\n",
              "      <td>False</td>\n",
              "    </tr>\n",
              "    <tr>\n",
              "      <th>348</th>\n",
              "      <td>2017-12-25</td>\n",
              "      <td>Holiday</td>\n",
              "      <td>National</td>\n",
              "      <td>Ecuador</td>\n",
              "      <td>Navidad</td>\n",
              "      <td>False</td>\n",
              "    </tr>\n",
              "    <tr>\n",
              "      <th>349</th>\n",
              "      <td>2017-12-26</td>\n",
              "      <td>Additional</td>\n",
              "      <td>National</td>\n",
              "      <td>Ecuador</td>\n",
              "      <td>Navidad+1</td>\n",
              "      <td>False</td>\n",
              "    </tr>\n",
              "  </tbody>\n",
              "</table>\n",
              "<p>174 rows × 6 columns</p>\n",
              "</div>"
            ],
            "text/plain": [
              "           date        type    locale locale_name  \\\n",
              "14   2012-08-10     Holiday  National     Ecuador   \n",
              "19   2012-10-09     Holiday  National     Ecuador   \n",
              "20   2012-10-12    Transfer  National     Ecuador   \n",
              "21   2012-11-02     Holiday  National     Ecuador   \n",
              "22   2012-11-03     Holiday  National     Ecuador   \n",
              "..          ...         ...       ...         ...   \n",
              "345  2017-12-22  Additional  National     Ecuador   \n",
              "346  2017-12-23  Additional  National     Ecuador   \n",
              "347  2017-12-24  Additional  National     Ecuador   \n",
              "348  2017-12-25     Holiday  National     Ecuador   \n",
              "349  2017-12-26  Additional  National     Ecuador   \n",
              "\n",
              "                             description  transferred  \n",
              "14         Primer Grito de Independencia        False  \n",
              "19            Independencia de Guayaquil         True  \n",
              "20   Traslado Independencia de Guayaquil        False  \n",
              "21                       Dia de Difuntos        False  \n",
              "22               Independencia de Cuenca        False  \n",
              "..                                   ...          ...  \n",
              "345                            Navidad-3        False  \n",
              "346                            Navidad-2        False  \n",
              "347                            Navidad-1        False  \n",
              "348                              Navidad        False  \n",
              "349                            Navidad+1        False  \n",
              "\n",
              "[174 rows x 6 columns]"
            ]
          },
          "execution_count": 100,
          "metadata": {},
          "output_type": "execute_result"
        }
      ],
      "source": [
        "national= df_holidays_events[df_holidays_events['locale']=='National']\n",
        "print(national['locale_name'].value_counts())\n",
        "national"
      ]
    },
    {
      "cell_type": "code",
      "execution_count": 101,
      "metadata": {
        "colab": {
          "base_uri": "https://localhost:8080/",
          "height": 424
        },
        "id": "x7zcuosKniq8",
        "outputId": "ec61164c-2fa2-4dd7-dfbe-f6cc852efbbe"
      },
      "outputs": [
        {
          "data": {
            "text/html": [
              "<div>\n",
              "<style scoped>\n",
              "    .dataframe tbody tr th:only-of-type {\n",
              "        vertical-align: middle;\n",
              "    }\n",
              "\n",
              "    .dataframe tbody tr th {\n",
              "        vertical-align: top;\n",
              "    }\n",
              "\n",
              "    .dataframe thead th {\n",
              "        text-align: right;\n",
              "    }\n",
              "</style>\n",
              "<table border=\"1\" class=\"dataframe\">\n",
              "  <thead>\n",
              "    <tr style=\"text-align: right;\">\n",
              "      <th></th>\n",
              "      <th>date</th>\n",
              "      <th>type</th>\n",
              "      <th>locale</th>\n",
              "      <th>locale_name</th>\n",
              "      <th>description</th>\n",
              "      <th>transferred</th>\n",
              "    </tr>\n",
              "  </thead>\n",
              "  <tbody>\n",
              "    <tr>\n",
              "      <th>0</th>\n",
              "      <td>2012-03-02</td>\n",
              "      <td>Holiday</td>\n",
              "      <td>Local</td>\n",
              "      <td>Manta</td>\n",
              "      <td>Fundacion de Manta</td>\n",
              "      <td>False</td>\n",
              "    </tr>\n",
              "    <tr>\n",
              "      <th>2</th>\n",
              "      <td>2012-04-12</td>\n",
              "      <td>Holiday</td>\n",
              "      <td>Local</td>\n",
              "      <td>Cuenca</td>\n",
              "      <td>Fundacion de Cuenca</td>\n",
              "      <td>False</td>\n",
              "    </tr>\n",
              "    <tr>\n",
              "      <th>3</th>\n",
              "      <td>2012-04-14</td>\n",
              "      <td>Holiday</td>\n",
              "      <td>Local</td>\n",
              "      <td>Libertad</td>\n",
              "      <td>Cantonizacion de Libertad</td>\n",
              "      <td>False</td>\n",
              "    </tr>\n",
              "    <tr>\n",
              "      <th>4</th>\n",
              "      <td>2012-04-21</td>\n",
              "      <td>Holiday</td>\n",
              "      <td>Local</td>\n",
              "      <td>Riobamba</td>\n",
              "      <td>Cantonizacion de Riobamba</td>\n",
              "      <td>False</td>\n",
              "    </tr>\n",
              "    <tr>\n",
              "      <th>5</th>\n",
              "      <td>2012-05-12</td>\n",
              "      <td>Holiday</td>\n",
              "      <td>Local</td>\n",
              "      <td>Puyo</td>\n",
              "      <td>Cantonizacion del Puyo</td>\n",
              "      <td>False</td>\n",
              "    </tr>\n",
              "    <tr>\n",
              "      <th>...</th>\n",
              "      <td>...</td>\n",
              "      <td>...</td>\n",
              "      <td>...</td>\n",
              "      <td>...</td>\n",
              "      <td>...</td>\n",
              "      <td>...</td>\n",
              "    </tr>\n",
              "    <tr>\n",
              "      <th>345</th>\n",
              "      <td>2017-12-22</td>\n",
              "      <td>Additional</td>\n",
              "      <td>National</td>\n",
              "      <td>Ecuador</td>\n",
              "      <td>Navidad-3</td>\n",
              "      <td>False</td>\n",
              "    </tr>\n",
              "    <tr>\n",
              "      <th>346</th>\n",
              "      <td>2017-12-23</td>\n",
              "      <td>Additional</td>\n",
              "      <td>National</td>\n",
              "      <td>Ecuador</td>\n",
              "      <td>Navidad-2</td>\n",
              "      <td>False</td>\n",
              "    </tr>\n",
              "    <tr>\n",
              "      <th>347</th>\n",
              "      <td>2017-12-24</td>\n",
              "      <td>Additional</td>\n",
              "      <td>National</td>\n",
              "      <td>Ecuador</td>\n",
              "      <td>Navidad-1</td>\n",
              "      <td>False</td>\n",
              "    </tr>\n",
              "    <tr>\n",
              "      <th>348</th>\n",
              "      <td>2017-12-25</td>\n",
              "      <td>Holiday</td>\n",
              "      <td>National</td>\n",
              "      <td>Ecuador</td>\n",
              "      <td>Navidad</td>\n",
              "      <td>False</td>\n",
              "    </tr>\n",
              "    <tr>\n",
              "      <th>349</th>\n",
              "      <td>2017-12-26</td>\n",
              "      <td>Additional</td>\n",
              "      <td>National</td>\n",
              "      <td>Ecuador</td>\n",
              "      <td>Navidad+1</td>\n",
              "      <td>False</td>\n",
              "    </tr>\n",
              "  </tbody>\n",
              "</table>\n",
              "<p>326 rows × 6 columns</p>\n",
              "</div>"
            ],
            "text/plain": [
              "           date        type    locale locale_name                description  \\\n",
              "0    2012-03-02     Holiday     Local       Manta         Fundacion de Manta   \n",
              "2    2012-04-12     Holiday     Local      Cuenca        Fundacion de Cuenca   \n",
              "3    2012-04-14     Holiday     Local    Libertad  Cantonizacion de Libertad   \n",
              "4    2012-04-21     Holiday     Local    Riobamba  Cantonizacion de Riobamba   \n",
              "5    2012-05-12     Holiday     Local        Puyo     Cantonizacion del Puyo   \n",
              "..          ...         ...       ...         ...                        ...   \n",
              "345  2017-12-22  Additional  National     Ecuador                  Navidad-3   \n",
              "346  2017-12-23  Additional  National     Ecuador                  Navidad-2   \n",
              "347  2017-12-24  Additional  National     Ecuador                  Navidad-1   \n",
              "348  2017-12-25     Holiday  National     Ecuador                    Navidad   \n",
              "349  2017-12-26  Additional  National     Ecuador                  Navidad+1   \n",
              "\n",
              "     transferred  \n",
              "0          False  \n",
              "2          False  \n",
              "3          False  \n",
              "4          False  \n",
              "5          False  \n",
              "..           ...  \n",
              "345        False  \n",
              "346        False  \n",
              "347        False  \n",
              "348        False  \n",
              "349        False  \n",
              "\n",
              "[326 rows x 6 columns]"
            ]
          },
          "execution_count": 101,
          "metadata": {},
          "output_type": "execute_result"
        }
      ],
      "source": [
        "local_filtered = df_holidays_events[df_holidays_events['locale'].isin(['Local', 'National'])]\n",
        "local_filtered"
      ]
    },
    {
      "cell_type": "code",
      "execution_count": 102,
      "metadata": {
        "colab": {
          "base_uri": "https://localhost:8080/",
          "height": 497
        },
        "id": "YNydULjfn7XW",
        "outputId": "6770ad4f-3160-40c0-cd2c-c4159490c0ff"
      },
      "outputs": [
        {
          "name": "stdout",
          "output_type": "stream",
          "text": [
            "transferred\n",
            "False    338\n",
            "True      12\n",
            "Name: count, dtype: int64\n"
          ]
        },
        {
          "data": {
            "text/html": [
              "<div>\n",
              "<style scoped>\n",
              "    .dataframe tbody tr th:only-of-type {\n",
              "        vertical-align: middle;\n",
              "    }\n",
              "\n",
              "    .dataframe tbody tr th {\n",
              "        vertical-align: top;\n",
              "    }\n",
              "\n",
              "    .dataframe thead th {\n",
              "        text-align: right;\n",
              "    }\n",
              "</style>\n",
              "<table border=\"1\" class=\"dataframe\">\n",
              "  <thead>\n",
              "    <tr style=\"text-align: right;\">\n",
              "      <th></th>\n",
              "      <th>date</th>\n",
              "      <th>type</th>\n",
              "      <th>locale</th>\n",
              "      <th>locale_name</th>\n",
              "      <th>description</th>\n",
              "      <th>transferred</th>\n",
              "    </tr>\n",
              "  </thead>\n",
              "  <tbody>\n",
              "    <tr>\n",
              "      <th>19</th>\n",
              "      <td>2012-10-09</td>\n",
              "      <td>Holiday</td>\n",
              "      <td>National</td>\n",
              "      <td>Ecuador</td>\n",
              "      <td>Independencia de Guayaquil</td>\n",
              "      <td>True</td>\n",
              "    </tr>\n",
              "    <tr>\n",
              "      <th>72</th>\n",
              "      <td>2013-10-09</td>\n",
              "      <td>Holiday</td>\n",
              "      <td>National</td>\n",
              "      <td>Ecuador</td>\n",
              "      <td>Independencia de Guayaquil</td>\n",
              "      <td>True</td>\n",
              "    </tr>\n",
              "    <tr>\n",
              "      <th>135</th>\n",
              "      <td>2014-10-09</td>\n",
              "      <td>Holiday</td>\n",
              "      <td>National</td>\n",
              "      <td>Ecuador</td>\n",
              "      <td>Independencia de Guayaquil</td>\n",
              "      <td>True</td>\n",
              "    </tr>\n",
              "    <tr>\n",
              "      <th>255</th>\n",
              "      <td>2016-05-24</td>\n",
              "      <td>Holiday</td>\n",
              "      <td>National</td>\n",
              "      <td>Ecuador</td>\n",
              "      <td>Batalla de Pichincha</td>\n",
              "      <td>True</td>\n",
              "    </tr>\n",
              "    <tr>\n",
              "      <th>266</th>\n",
              "      <td>2016-07-25</td>\n",
              "      <td>Holiday</td>\n",
              "      <td>Local</td>\n",
              "      <td>Guayaquil</td>\n",
              "      <td>Fundacion de Guayaquil</td>\n",
              "      <td>True</td>\n",
              "    </tr>\n",
              "    <tr>\n",
              "      <th>268</th>\n",
              "      <td>2016-08-10</td>\n",
              "      <td>Holiday</td>\n",
              "      <td>National</td>\n",
              "      <td>Ecuador</td>\n",
              "      <td>Primer Grito de Independencia</td>\n",
              "      <td>True</td>\n",
              "    </tr>\n",
              "    <tr>\n",
              "      <th>297</th>\n",
              "      <td>2017-01-01</td>\n",
              "      <td>Holiday</td>\n",
              "      <td>National</td>\n",
              "      <td>Ecuador</td>\n",
              "      <td>Primer dia del ano</td>\n",
              "      <td>True</td>\n",
              "    </tr>\n",
              "    <tr>\n",
              "      <th>303</th>\n",
              "      <td>2017-04-12</td>\n",
              "      <td>Holiday</td>\n",
              "      <td>Local</td>\n",
              "      <td>Cuenca</td>\n",
              "      <td>Fundacion de Cuenca</td>\n",
              "      <td>True</td>\n",
              "    </tr>\n",
              "    <tr>\n",
              "      <th>312</th>\n",
              "      <td>2017-05-24</td>\n",
              "      <td>Holiday</td>\n",
              "      <td>National</td>\n",
              "      <td>Ecuador</td>\n",
              "      <td>Batalla de Pichincha</td>\n",
              "      <td>True</td>\n",
              "    </tr>\n",
              "    <tr>\n",
              "      <th>324</th>\n",
              "      <td>2017-08-10</td>\n",
              "      <td>Holiday</td>\n",
              "      <td>National</td>\n",
              "      <td>Ecuador</td>\n",
              "      <td>Primer Grito de Independencia</td>\n",
              "      <td>True</td>\n",
              "    </tr>\n",
              "    <tr>\n",
              "      <th>328</th>\n",
              "      <td>2017-09-28</td>\n",
              "      <td>Holiday</td>\n",
              "      <td>Local</td>\n",
              "      <td>Ibarra</td>\n",
              "      <td>Fundacion de Ibarra</td>\n",
              "      <td>True</td>\n",
              "    </tr>\n",
              "    <tr>\n",
              "      <th>340</th>\n",
              "      <td>2017-12-06</td>\n",
              "      <td>Holiday</td>\n",
              "      <td>Local</td>\n",
              "      <td>Quito</td>\n",
              "      <td>Fundacion de Quito</td>\n",
              "      <td>True</td>\n",
              "    </tr>\n",
              "  </tbody>\n",
              "</table>\n",
              "</div>"
            ],
            "text/plain": [
              "           date     type    locale locale_name                    description  \\\n",
              "19   2012-10-09  Holiday  National     Ecuador     Independencia de Guayaquil   \n",
              "72   2013-10-09  Holiday  National     Ecuador     Independencia de Guayaquil   \n",
              "135  2014-10-09  Holiday  National     Ecuador     Independencia de Guayaquil   \n",
              "255  2016-05-24  Holiday  National     Ecuador           Batalla de Pichincha   \n",
              "266  2016-07-25  Holiday     Local   Guayaquil         Fundacion de Guayaquil   \n",
              "268  2016-08-10  Holiday  National     Ecuador  Primer Grito de Independencia   \n",
              "297  2017-01-01  Holiday  National     Ecuador             Primer dia del ano   \n",
              "303  2017-04-12  Holiday     Local      Cuenca            Fundacion de Cuenca   \n",
              "312  2017-05-24  Holiday  National     Ecuador           Batalla de Pichincha   \n",
              "324  2017-08-10  Holiday  National     Ecuador  Primer Grito de Independencia   \n",
              "328  2017-09-28  Holiday     Local      Ibarra            Fundacion de Ibarra   \n",
              "340  2017-12-06  Holiday     Local       Quito             Fundacion de Quito   \n",
              "\n",
              "     transferred  \n",
              "19          True  \n",
              "72          True  \n",
              "135         True  \n",
              "255         True  \n",
              "266         True  \n",
              "268         True  \n",
              "297         True  \n",
              "303         True  \n",
              "312         True  \n",
              "324         True  \n",
              "328         True  \n",
              "340         True  "
            ]
          },
          "execution_count": 102,
          "metadata": {},
          "output_type": "execute_result"
        }
      ],
      "source": [
        "#Filtering transferred holidays\n",
        "print(df_holidays_events['transferred'].value_counts())\n",
        "df_holidays_events[df_holidays_events['transferred']==True]"
      ]
    },
    {
      "cell_type": "code",
      "execution_count": 103,
      "metadata": {
        "colab": {
          "base_uri": "https://localhost:8080/",
          "height": 426
        },
        "id": "CdnWSAGGoELV",
        "outputId": "df7eeed0-20a5-4119-fcd7-876aa66a131a"
      },
      "outputs": [
        {
          "data": {
            "text/html": [
              "<div>\n",
              "<style scoped>\n",
              "    .dataframe tbody tr th:only-of-type {\n",
              "        vertical-align: middle;\n",
              "    }\n",
              "\n",
              "    .dataframe tbody tr th {\n",
              "        vertical-align: top;\n",
              "    }\n",
              "\n",
              "    .dataframe thead th {\n",
              "        text-align: right;\n",
              "    }\n",
              "</style>\n",
              "<table border=\"1\" class=\"dataframe\">\n",
              "  <thead>\n",
              "    <tr style=\"text-align: right;\">\n",
              "      <th></th>\n",
              "      <th>date</th>\n",
              "      <th>type</th>\n",
              "      <th>locale</th>\n",
              "      <th>locale_name</th>\n",
              "      <th>description</th>\n",
              "      <th>transferred</th>\n",
              "    </tr>\n",
              "  </thead>\n",
              "  <tbody>\n",
              "    <tr>\n",
              "      <th>20</th>\n",
              "      <td>2012-10-12</td>\n",
              "      <td>Transfer</td>\n",
              "      <td>National</td>\n",
              "      <td>Ecuador</td>\n",
              "      <td>Traslado Independencia de Guayaquil</td>\n",
              "      <td>False</td>\n",
              "    </tr>\n",
              "    <tr>\n",
              "      <th>73</th>\n",
              "      <td>2013-10-11</td>\n",
              "      <td>Transfer</td>\n",
              "      <td>National</td>\n",
              "      <td>Ecuador</td>\n",
              "      <td>Traslado Independencia de Guayaquil</td>\n",
              "      <td>False</td>\n",
              "    </tr>\n",
              "    <tr>\n",
              "      <th>136</th>\n",
              "      <td>2014-10-10</td>\n",
              "      <td>Transfer</td>\n",
              "      <td>National</td>\n",
              "      <td>Ecuador</td>\n",
              "      <td>Traslado Independencia de Guayaquil</td>\n",
              "      <td>False</td>\n",
              "    </tr>\n",
              "    <tr>\n",
              "      <th>256</th>\n",
              "      <td>2016-05-27</td>\n",
              "      <td>Transfer</td>\n",
              "      <td>National</td>\n",
              "      <td>Ecuador</td>\n",
              "      <td>Traslado Batalla de Pichincha</td>\n",
              "      <td>False</td>\n",
              "    </tr>\n",
              "    <tr>\n",
              "      <th>265</th>\n",
              "      <td>2016-07-24</td>\n",
              "      <td>Transfer</td>\n",
              "      <td>Local</td>\n",
              "      <td>Guayaquil</td>\n",
              "      <td>Traslado Fundacion de Guayaquil</td>\n",
              "      <td>False</td>\n",
              "    </tr>\n",
              "    <tr>\n",
              "      <th>269</th>\n",
              "      <td>2016-08-12</td>\n",
              "      <td>Transfer</td>\n",
              "      <td>National</td>\n",
              "      <td>Ecuador</td>\n",
              "      <td>Traslado Primer Grito de Independencia</td>\n",
              "      <td>False</td>\n",
              "    </tr>\n",
              "    <tr>\n",
              "      <th>298</th>\n",
              "      <td>2017-01-02</td>\n",
              "      <td>Transfer</td>\n",
              "      <td>National</td>\n",
              "      <td>Ecuador</td>\n",
              "      <td>Traslado Primer dia del ano</td>\n",
              "      <td>False</td>\n",
              "    </tr>\n",
              "    <tr>\n",
              "      <th>304</th>\n",
              "      <td>2017-04-13</td>\n",
              "      <td>Transfer</td>\n",
              "      <td>Local</td>\n",
              "      <td>Cuenca</td>\n",
              "      <td>Fundacion de Cuenca</td>\n",
              "      <td>False</td>\n",
              "    </tr>\n",
              "    <tr>\n",
              "      <th>313</th>\n",
              "      <td>2017-05-26</td>\n",
              "      <td>Transfer</td>\n",
              "      <td>National</td>\n",
              "      <td>Ecuador</td>\n",
              "      <td>Traslado Batalla de Pichincha</td>\n",
              "      <td>False</td>\n",
              "    </tr>\n",
              "    <tr>\n",
              "      <th>325</th>\n",
              "      <td>2017-08-11</td>\n",
              "      <td>Transfer</td>\n",
              "      <td>National</td>\n",
              "      <td>Ecuador</td>\n",
              "      <td>Traslado Primer Grito de Independencia</td>\n",
              "      <td>False</td>\n",
              "    </tr>\n",
              "    <tr>\n",
              "      <th>329</th>\n",
              "      <td>2017-09-29</td>\n",
              "      <td>Transfer</td>\n",
              "      <td>Local</td>\n",
              "      <td>Ibarra</td>\n",
              "      <td>Fundacion de Ibarra</td>\n",
              "      <td>False</td>\n",
              "    </tr>\n",
              "    <tr>\n",
              "      <th>342</th>\n",
              "      <td>2017-12-08</td>\n",
              "      <td>Transfer</td>\n",
              "      <td>Local</td>\n",
              "      <td>Quito</td>\n",
              "      <td>Traslado Fundacion de Quito</td>\n",
              "      <td>False</td>\n",
              "    </tr>\n",
              "  </tbody>\n",
              "</table>\n",
              "</div>"
            ],
            "text/plain": [
              "           date      type    locale locale_name  \\\n",
              "20   2012-10-12  Transfer  National     Ecuador   \n",
              "73   2013-10-11  Transfer  National     Ecuador   \n",
              "136  2014-10-10  Transfer  National     Ecuador   \n",
              "256  2016-05-27  Transfer  National     Ecuador   \n",
              "265  2016-07-24  Transfer     Local   Guayaquil   \n",
              "269  2016-08-12  Transfer  National     Ecuador   \n",
              "298  2017-01-02  Transfer  National     Ecuador   \n",
              "304  2017-04-13  Transfer     Local      Cuenca   \n",
              "313  2017-05-26  Transfer  National     Ecuador   \n",
              "325  2017-08-11  Transfer  National     Ecuador   \n",
              "329  2017-09-29  Transfer     Local      Ibarra   \n",
              "342  2017-12-08  Transfer     Local       Quito   \n",
              "\n",
              "                                description  transferred  \n",
              "20      Traslado Independencia de Guayaquil        False  \n",
              "73      Traslado Independencia de Guayaquil        False  \n",
              "136     Traslado Independencia de Guayaquil        False  \n",
              "256           Traslado Batalla de Pichincha        False  \n",
              "265         Traslado Fundacion de Guayaquil        False  \n",
              "269  Traslado Primer Grito de Independencia        False  \n",
              "298             Traslado Primer dia del ano        False  \n",
              "304                     Fundacion de Cuenca        False  \n",
              "313           Traslado Batalla de Pichincha        False  \n",
              "325  Traslado Primer Grito de Independencia        False  \n",
              "329                     Fundacion de Ibarra        False  \n",
              "342             Traslado Fundacion de Quito        False  "
            ]
          },
          "execution_count": 103,
          "metadata": {},
          "output_type": "execute_result"
        }
      ],
      "source": [
        "df_holidays_events[df_holidays_events['type']=='Transfer']"
      ]
    },
    {
      "cell_type": "code",
      "execution_count": 104,
      "metadata": {
        "colab": {
          "base_uri": "https://localhost:8080/",
          "height": 206
        },
        "id": "SvETRLLvoKZw",
        "outputId": "b5f2919a-e346-47f3-f9bc-1c3383f1cc7f"
      },
      "outputs": [
        {
          "data": {
            "text/html": [
              "<div>\n",
              "<style scoped>\n",
              "    .dataframe tbody tr th:only-of-type {\n",
              "        vertical-align: middle;\n",
              "    }\n",
              "\n",
              "    .dataframe tbody tr th {\n",
              "        vertical-align: top;\n",
              "    }\n",
              "\n",
              "    .dataframe thead th {\n",
              "        text-align: right;\n",
              "    }\n",
              "</style>\n",
              "<table border=\"1\" class=\"dataframe\">\n",
              "  <thead>\n",
              "    <tr style=\"text-align: right;\">\n",
              "      <th></th>\n",
              "      <th>date</th>\n",
              "      <th>type</th>\n",
              "      <th>locale</th>\n",
              "      <th>locale_name</th>\n",
              "      <th>description</th>\n",
              "      <th>transferred</th>\n",
              "    </tr>\n",
              "  </thead>\n",
              "  <tbody>\n",
              "    <tr>\n",
              "      <th>28</th>\n",
              "      <td>2012-12-05</td>\n",
              "      <td>Additional</td>\n",
              "      <td>Local</td>\n",
              "      <td>Quito</td>\n",
              "      <td>Fundacion de Quito-1</td>\n",
              "      <td>False</td>\n",
              "    </tr>\n",
              "    <tr>\n",
              "      <th>31</th>\n",
              "      <td>2012-12-21</td>\n",
              "      <td>Additional</td>\n",
              "      <td>National</td>\n",
              "      <td>Ecuador</td>\n",
              "      <td>Navidad-4</td>\n",
              "      <td>False</td>\n",
              "    </tr>\n",
              "    <tr>\n",
              "      <th>33</th>\n",
              "      <td>2012-12-22</td>\n",
              "      <td>Additional</td>\n",
              "      <td>National</td>\n",
              "      <td>Ecuador</td>\n",
              "      <td>Navidad-3</td>\n",
              "      <td>False</td>\n",
              "    </tr>\n",
              "    <tr>\n",
              "      <th>34</th>\n",
              "      <td>2012-12-23</td>\n",
              "      <td>Additional</td>\n",
              "      <td>National</td>\n",
              "      <td>Ecuador</td>\n",
              "      <td>Navidad-2</td>\n",
              "      <td>False</td>\n",
              "    </tr>\n",
              "    <tr>\n",
              "      <th>36</th>\n",
              "      <td>2012-12-24</td>\n",
              "      <td>Additional</td>\n",
              "      <td>National</td>\n",
              "      <td>Ecuador</td>\n",
              "      <td>Navidad-1</td>\n",
              "      <td>False</td>\n",
              "    </tr>\n",
              "  </tbody>\n",
              "</table>\n",
              "</div>"
            ],
            "text/plain": [
              "          date        type    locale locale_name           description  \\\n",
              "28  2012-12-05  Additional     Local       Quito  Fundacion de Quito-1   \n",
              "31  2012-12-21  Additional  National     Ecuador             Navidad-4   \n",
              "33  2012-12-22  Additional  National     Ecuador             Navidad-3   \n",
              "34  2012-12-23  Additional  National     Ecuador             Navidad-2   \n",
              "36  2012-12-24  Additional  National     Ecuador             Navidad-1   \n",
              "\n",
              "    transferred  \n",
              "28        False  \n",
              "31        False  \n",
              "33        False  \n",
              "34        False  \n",
              "36        False  "
            ]
          },
          "execution_count": 104,
          "metadata": {},
          "output_type": "execute_result"
        }
      ],
      "source": [
        "#Filtering additional holidays\n",
        "df_holidays_events[df_holidays_events['type']=='Additional'].head(5)"
      ]
    },
    {
      "cell_type": "code",
      "execution_count": 105,
      "metadata": {
        "colab": {
          "base_uri": "https://localhost:8080/",
          "height": 363
        },
        "id": "pV45smj_orvA",
        "outputId": "16c67855-1fff-4398-f3c6-a59fecd32cf4"
      },
      "outputs": [
        {
          "data": {
            "text/html": [
              "<div>\n",
              "<style scoped>\n",
              "    .dataframe tbody tr th:only-of-type {\n",
              "        vertical-align: middle;\n",
              "    }\n",
              "\n",
              "    .dataframe tbody tr th {\n",
              "        vertical-align: top;\n",
              "    }\n",
              "\n",
              "    .dataframe thead th {\n",
              "        text-align: right;\n",
              "    }\n",
              "</style>\n",
              "<table border=\"1\" class=\"dataframe\">\n",
              "  <thead>\n",
              "    <tr style=\"text-align: right;\">\n",
              "      <th></th>\n",
              "      <th>date</th>\n",
              "      <th>type</th>\n",
              "      <th>locale</th>\n",
              "      <th>locale_name</th>\n",
              "      <th>description</th>\n",
              "      <th>transferred</th>\n",
              "    </tr>\n",
              "  </thead>\n",
              "  <tbody>\n",
              "    <tr>\n",
              "      <th>35</th>\n",
              "      <td>2012-12-24</td>\n",
              "      <td>Bridge</td>\n",
              "      <td>National</td>\n",
              "      <td>Ecuador</td>\n",
              "      <td>Puente Navidad</td>\n",
              "      <td>False</td>\n",
              "    </tr>\n",
              "    <tr>\n",
              "      <th>39</th>\n",
              "      <td>2012-12-31</td>\n",
              "      <td>Bridge</td>\n",
              "      <td>National</td>\n",
              "      <td>Ecuador</td>\n",
              "      <td>Puente Primer dia del ano</td>\n",
              "      <td>False</td>\n",
              "    </tr>\n",
              "    <tr>\n",
              "      <th>42</th>\n",
              "      <td>2013-01-05</td>\n",
              "      <td>Work Day</td>\n",
              "      <td>National</td>\n",
              "      <td>Ecuador</td>\n",
              "      <td>Recupero puente Navidad</td>\n",
              "      <td>False</td>\n",
              "    </tr>\n",
              "    <tr>\n",
              "      <th>43</th>\n",
              "      <td>2013-01-12</td>\n",
              "      <td>Work Day</td>\n",
              "      <td>National</td>\n",
              "      <td>Ecuador</td>\n",
              "      <td>Recupero puente primer dia del ano</td>\n",
              "      <td>False</td>\n",
              "    </tr>\n",
              "    <tr>\n",
              "      <th>149</th>\n",
              "      <td>2014-12-20</td>\n",
              "      <td>Work Day</td>\n",
              "      <td>National</td>\n",
              "      <td>Ecuador</td>\n",
              "      <td>Recupero Puente Navidad</td>\n",
              "      <td>False</td>\n",
              "    </tr>\n",
              "    <tr>\n",
              "      <th>156</th>\n",
              "      <td>2014-12-26</td>\n",
              "      <td>Bridge</td>\n",
              "      <td>National</td>\n",
              "      <td>Ecuador</td>\n",
              "      <td>Puente Navidad</td>\n",
              "      <td>False</td>\n",
              "    </tr>\n",
              "    <tr>\n",
              "      <th>160</th>\n",
              "      <td>2015-01-02</td>\n",
              "      <td>Bridge</td>\n",
              "      <td>National</td>\n",
              "      <td>Ecuador</td>\n",
              "      <td>Puente Primer dia del ano</td>\n",
              "      <td>False</td>\n",
              "    </tr>\n",
              "    <tr>\n",
              "      <th>161</th>\n",
              "      <td>2015-01-10</td>\n",
              "      <td>Work Day</td>\n",
              "      <td>National</td>\n",
              "      <td>Ecuador</td>\n",
              "      <td>Recupero Puente Primer dia del ano</td>\n",
              "      <td>False</td>\n",
              "    </tr>\n",
              "    <tr>\n",
              "      <th>277</th>\n",
              "      <td>2016-11-04</td>\n",
              "      <td>Bridge</td>\n",
              "      <td>National</td>\n",
              "      <td>Ecuador</td>\n",
              "      <td>Puente Dia de Difuntos</td>\n",
              "      <td>False</td>\n",
              "    </tr>\n",
              "    <tr>\n",
              "      <th>283</th>\n",
              "      <td>2016-11-12</td>\n",
              "      <td>Work Day</td>\n",
              "      <td>National</td>\n",
              "      <td>Ecuador</td>\n",
              "      <td>Recupero Puente Dia de Difuntos</td>\n",
              "      <td>False</td>\n",
              "    </tr>\n",
              "  </tbody>\n",
              "</table>\n",
              "</div>"
            ],
            "text/plain": [
              "           date      type    locale locale_name  \\\n",
              "35   2012-12-24    Bridge  National     Ecuador   \n",
              "39   2012-12-31    Bridge  National     Ecuador   \n",
              "42   2013-01-05  Work Day  National     Ecuador   \n",
              "43   2013-01-12  Work Day  National     Ecuador   \n",
              "149  2014-12-20  Work Day  National     Ecuador   \n",
              "156  2014-12-26    Bridge  National     Ecuador   \n",
              "160  2015-01-02    Bridge  National     Ecuador   \n",
              "161  2015-01-10  Work Day  National     Ecuador   \n",
              "277  2016-11-04    Bridge  National     Ecuador   \n",
              "283  2016-11-12  Work Day  National     Ecuador   \n",
              "\n",
              "                            description  transferred  \n",
              "35                       Puente Navidad        False  \n",
              "39            Puente Primer dia del ano        False  \n",
              "42              Recupero puente Navidad        False  \n",
              "43   Recupero puente primer dia del ano        False  \n",
              "149             Recupero Puente Navidad        False  \n",
              "156                      Puente Navidad        False  \n",
              "160           Puente Primer dia del ano        False  \n",
              "161  Recupero Puente Primer dia del ano        False  \n",
              "277              Puente Dia de Difuntos        False  \n",
              "283     Recupero Puente Dia de Difuntos        False  "
            ]
          },
          "execution_count": 105,
          "metadata": {},
          "output_type": "execute_result"
        }
      ],
      "source": [
        "#Filtering for Bridge and Work Day Events\n",
        "df_holidays_events[(df_holidays_events['type'] == 'Bridge') | (df_holidays_events['type'] == 'Work Day')]"
      ]
    },
    {
      "cell_type": "markdown",
      "metadata": {
        "id": "0WoSWCC1_pD8"
      },
      "source": [
        "### Feature Engineering\n",
        "\n",
        "Create two new columns called is_holiday ans is_event"
      ]
    },
    {
      "cell_type": "code",
      "execution_count": 106,
      "metadata": {
        "colab": {
          "base_uri": "https://localhost:8080/",
          "height": 424
        },
        "id": "hrQnb0QXpDUB",
        "outputId": "04274e0e-0d16-47ac-9e09-ba0670ca3810"
      },
      "outputs": [
        {
          "data": {
            "text/html": [
              "<div>\n",
              "<style scoped>\n",
              "    .dataframe tbody tr th:only-of-type {\n",
              "        vertical-align: middle;\n",
              "    }\n",
              "\n",
              "    .dataframe tbody tr th {\n",
              "        vertical-align: top;\n",
              "    }\n",
              "\n",
              "    .dataframe thead th {\n",
              "        text-align: right;\n",
              "    }\n",
              "</style>\n",
              "<table border=\"1\" class=\"dataframe\">\n",
              "  <thead>\n",
              "    <tr style=\"text-align: right;\">\n",
              "      <th></th>\n",
              "      <th>date</th>\n",
              "      <th>type</th>\n",
              "      <th>locale</th>\n",
              "      <th>locale_name</th>\n",
              "      <th>description</th>\n",
              "      <th>transferred</th>\n",
              "      <th>is_holiday</th>\n",
              "      <th>is_event</th>\n",
              "    </tr>\n",
              "  </thead>\n",
              "  <tbody>\n",
              "    <tr>\n",
              "      <th>0</th>\n",
              "      <td>2012-03-02</td>\n",
              "      <td>Holiday</td>\n",
              "      <td>Local</td>\n",
              "      <td>Manta</td>\n",
              "      <td>Fundacion de Manta</td>\n",
              "      <td>False</td>\n",
              "      <td>1</td>\n",
              "      <td>0</td>\n",
              "    </tr>\n",
              "    <tr>\n",
              "      <th>1</th>\n",
              "      <td>2012-04-01</td>\n",
              "      <td>Holiday</td>\n",
              "      <td>Regional</td>\n",
              "      <td>Cotopaxi</td>\n",
              "      <td>Provincializacion de Cotopaxi</td>\n",
              "      <td>False</td>\n",
              "      <td>1</td>\n",
              "      <td>0</td>\n",
              "    </tr>\n",
              "    <tr>\n",
              "      <th>2</th>\n",
              "      <td>2012-04-12</td>\n",
              "      <td>Holiday</td>\n",
              "      <td>Local</td>\n",
              "      <td>Cuenca</td>\n",
              "      <td>Fundacion de Cuenca</td>\n",
              "      <td>False</td>\n",
              "      <td>1</td>\n",
              "      <td>0</td>\n",
              "    </tr>\n",
              "    <tr>\n",
              "      <th>3</th>\n",
              "      <td>2012-04-14</td>\n",
              "      <td>Holiday</td>\n",
              "      <td>Local</td>\n",
              "      <td>Libertad</td>\n",
              "      <td>Cantonizacion de Libertad</td>\n",
              "      <td>False</td>\n",
              "      <td>1</td>\n",
              "      <td>0</td>\n",
              "    </tr>\n",
              "    <tr>\n",
              "      <th>4</th>\n",
              "      <td>2012-04-21</td>\n",
              "      <td>Holiday</td>\n",
              "      <td>Local</td>\n",
              "      <td>Riobamba</td>\n",
              "      <td>Cantonizacion de Riobamba</td>\n",
              "      <td>False</td>\n",
              "      <td>1</td>\n",
              "      <td>0</td>\n",
              "    </tr>\n",
              "    <tr>\n",
              "      <th>...</th>\n",
              "      <td>...</td>\n",
              "      <td>...</td>\n",
              "      <td>...</td>\n",
              "      <td>...</td>\n",
              "      <td>...</td>\n",
              "      <td>...</td>\n",
              "      <td>...</td>\n",
              "      <td>...</td>\n",
              "    </tr>\n",
              "    <tr>\n",
              "      <th>345</th>\n",
              "      <td>2017-12-22</td>\n",
              "      <td>Additional</td>\n",
              "      <td>National</td>\n",
              "      <td>Ecuador</td>\n",
              "      <td>Navidad-3</td>\n",
              "      <td>False</td>\n",
              "      <td>1</td>\n",
              "      <td>0</td>\n",
              "    </tr>\n",
              "    <tr>\n",
              "      <th>346</th>\n",
              "      <td>2017-12-23</td>\n",
              "      <td>Additional</td>\n",
              "      <td>National</td>\n",
              "      <td>Ecuador</td>\n",
              "      <td>Navidad-2</td>\n",
              "      <td>False</td>\n",
              "      <td>1</td>\n",
              "      <td>0</td>\n",
              "    </tr>\n",
              "    <tr>\n",
              "      <th>347</th>\n",
              "      <td>2017-12-24</td>\n",
              "      <td>Additional</td>\n",
              "      <td>National</td>\n",
              "      <td>Ecuador</td>\n",
              "      <td>Navidad-1</td>\n",
              "      <td>False</td>\n",
              "      <td>1</td>\n",
              "      <td>0</td>\n",
              "    </tr>\n",
              "    <tr>\n",
              "      <th>348</th>\n",
              "      <td>2017-12-25</td>\n",
              "      <td>Holiday</td>\n",
              "      <td>National</td>\n",
              "      <td>Ecuador</td>\n",
              "      <td>Navidad</td>\n",
              "      <td>False</td>\n",
              "      <td>1</td>\n",
              "      <td>0</td>\n",
              "    </tr>\n",
              "    <tr>\n",
              "      <th>349</th>\n",
              "      <td>2017-12-26</td>\n",
              "      <td>Additional</td>\n",
              "      <td>National</td>\n",
              "      <td>Ecuador</td>\n",
              "      <td>Navidad+1</td>\n",
              "      <td>False</td>\n",
              "      <td>1</td>\n",
              "      <td>0</td>\n",
              "    </tr>\n",
              "  </tbody>\n",
              "</table>\n",
              "<p>350 rows × 8 columns</p>\n",
              "</div>"
            ],
            "text/plain": [
              "           date        type    locale locale_name  \\\n",
              "0    2012-03-02     Holiday     Local       Manta   \n",
              "1    2012-04-01     Holiday  Regional    Cotopaxi   \n",
              "2    2012-04-12     Holiday     Local      Cuenca   \n",
              "3    2012-04-14     Holiday     Local    Libertad   \n",
              "4    2012-04-21     Holiday     Local    Riobamba   \n",
              "..          ...         ...       ...         ...   \n",
              "345  2017-12-22  Additional  National     Ecuador   \n",
              "346  2017-12-23  Additional  National     Ecuador   \n",
              "347  2017-12-24  Additional  National     Ecuador   \n",
              "348  2017-12-25     Holiday  National     Ecuador   \n",
              "349  2017-12-26  Additional  National     Ecuador   \n",
              "\n",
              "                       description  transferred  is_holiday  is_event  \n",
              "0               Fundacion de Manta        False           1         0  \n",
              "1    Provincializacion de Cotopaxi        False           1         0  \n",
              "2              Fundacion de Cuenca        False           1         0  \n",
              "3        Cantonizacion de Libertad        False           1         0  \n",
              "4        Cantonizacion de Riobamba        False           1         0  \n",
              "..                             ...          ...         ...       ...  \n",
              "345                      Navidad-3        False           1         0  \n",
              "346                      Navidad-2        False           1         0  \n",
              "347                      Navidad-1        False           1         0  \n",
              "348                        Navidad        False           1         0  \n",
              "349                      Navidad+1        False           1         0  \n",
              "\n",
              "[350 rows x 8 columns]"
            ]
          },
          "execution_count": 106,
          "metadata": {},
          "output_type": "execute_result"
        }
      ],
      "source": [
        "#is_holiday:Mark rows as is_holiday = 1 if: type == 'Holiday' and transferred == False OR type is one of these: 'Additional', 'Bridge', 'Transfer'\n",
        "#is_event: Checks if each row in the \"type\" column is \"Event\". If yes → returns 1. If no → returns 0\n",
        "\n",
        "df_holidays_events['is_holiday'] = np.where(\n",
        "    ((df_holidays_events['type'] == 'Holiday') & (df_holidays_events['transferred'] == False)) |\n",
        "    (df_holidays_events['type'].isin(['Additional', 'Bridge', 'Transfer'])),\n",
        "    1,\n",
        "    0\n",
        ")\n",
        "\n",
        "df_holidays_events['is_event'] = np.where(df_holidays_events['type'] == 'Event', 1, 0)\n",
        "df_holidays_events"
      ]
    },
    {
      "cell_type": "markdown",
      "metadata": {
        "id": "FKmR8haf32ls"
      },
      "source": [
        "### Analyzing Holidays in Guayas Province\n",
        "\n",
        "In this analysis, we focus on understanding the distribution of holidays in Guayas province, Ecuador."
      ]
    },
    {
      "cell_type": "code",
      "execution_count": 114,
      "metadata": {
        "colab": {
          "base_uri": "https://localhost:8080/"
        },
        "id": "zTC6nuMq6PZX",
        "outputId": "09c630ea-65d5-43e5-81fc-c373e5b41162"
      },
      "outputs": [
        {
          "data": {
            "text/plain": [
              "['Guayaquil', 'Daule', 'Playas', 'Libertad']"
            ]
          },
          "execution_count": 114,
          "metadata": {},
          "output_type": "execute_result"
        }
      ],
      "source": [
        "# Filtering City for Guayas\n",
        "city_guayas=df_store_Guayas['city'].unique().tolist()\n",
        "city_guayas"
      ]
    },
    {
      "cell_type": "code",
      "execution_count": 117,
      "metadata": {
        "colab": {
          "base_uri": "https://localhost:8080/",
          "height": 424
        },
        "id": "OFheu6qt6RNW",
        "outputId": "678454c3-b4e1-41d0-dac3-aa9af0b313b0"
      },
      "outputs": [
        {
          "data": {
            "text/html": [
              "<div>\n",
              "<style scoped>\n",
              "    .dataframe tbody tr th:only-of-type {\n",
              "        vertical-align: middle;\n",
              "    }\n",
              "\n",
              "    .dataframe tbody tr th {\n",
              "        vertical-align: top;\n",
              "    }\n",
              "\n",
              "    .dataframe thead th {\n",
              "        text-align: right;\n",
              "    }\n",
              "</style>\n",
              "<table border=\"1\" class=\"dataframe\">\n",
              "  <thead>\n",
              "    <tr style=\"text-align: right;\">\n",
              "      <th></th>\n",
              "      <th>date</th>\n",
              "      <th>type</th>\n",
              "      <th>locale</th>\n",
              "      <th>locale_name</th>\n",
              "      <th>description</th>\n",
              "      <th>transferred</th>\n",
              "      <th>is_holiday</th>\n",
              "      <th>is_event</th>\n",
              "    </tr>\n",
              "  </thead>\n",
              "  <tbody>\n",
              "    <tr>\n",
              "      <th>3</th>\n",
              "      <td>2012-04-14</td>\n",
              "      <td>Holiday</td>\n",
              "      <td>Local</td>\n",
              "      <td>Libertad</td>\n",
              "      <td>Cantonizacion de Libertad</td>\n",
              "      <td>False</td>\n",
              "      <td>1</td>\n",
              "      <td>0</td>\n",
              "    </tr>\n",
              "    <tr>\n",
              "      <th>49</th>\n",
              "      <td>2013-04-14</td>\n",
              "      <td>Holiday</td>\n",
              "      <td>Local</td>\n",
              "      <td>Libertad</td>\n",
              "      <td>Cantonizacion de Libertad</td>\n",
              "      <td>False</td>\n",
              "      <td>1</td>\n",
              "      <td>0</td>\n",
              "    </tr>\n",
              "    <tr>\n",
              "      <th>64</th>\n",
              "      <td>2013-07-24</td>\n",
              "      <td>Additional</td>\n",
              "      <td>Local</td>\n",
              "      <td>Guayaquil</td>\n",
              "      <td>Fundacion de Guayaquil-1</td>\n",
              "      <td>False</td>\n",
              "      <td>1</td>\n",
              "      <td>0</td>\n",
              "    </tr>\n",
              "    <tr>\n",
              "      <th>65</th>\n",
              "      <td>2013-07-25</td>\n",
              "      <td>Holiday</td>\n",
              "      <td>Local</td>\n",
              "      <td>Guayaquil</td>\n",
              "      <td>Fundacion de Guayaquil</td>\n",
              "      <td>False</td>\n",
              "      <td>1</td>\n",
              "      <td>0</td>\n",
              "    </tr>\n",
              "    <tr>\n",
              "      <th>98</th>\n",
              "      <td>2014-04-14</td>\n",
              "      <td>Holiday</td>\n",
              "      <td>Local</td>\n",
              "      <td>Libertad</td>\n",
              "      <td>Cantonizacion de Libertad</td>\n",
              "      <td>False</td>\n",
              "      <td>1</td>\n",
              "      <td>0</td>\n",
              "    </tr>\n",
              "    <tr>\n",
              "      <th>127</th>\n",
              "      <td>2014-07-24</td>\n",
              "      <td>Additional</td>\n",
              "      <td>Local</td>\n",
              "      <td>Guayaquil</td>\n",
              "      <td>Fundacion de Guayaquil-1</td>\n",
              "      <td>False</td>\n",
              "      <td>1</td>\n",
              "      <td>0</td>\n",
              "    </tr>\n",
              "    <tr>\n",
              "      <th>128</th>\n",
              "      <td>2014-07-25</td>\n",
              "      <td>Holiday</td>\n",
              "      <td>Local</td>\n",
              "      <td>Guayaquil</td>\n",
              "      <td>Fundacion de Guayaquil</td>\n",
              "      <td>False</td>\n",
              "      <td>1</td>\n",
              "      <td>0</td>\n",
              "    </tr>\n",
              "    <tr>\n",
              "      <th>168</th>\n",
              "      <td>2015-04-14</td>\n",
              "      <td>Holiday</td>\n",
              "      <td>Local</td>\n",
              "      <td>Libertad</td>\n",
              "      <td>Cantonizacion de Libertad</td>\n",
              "      <td>False</td>\n",
              "      <td>1</td>\n",
              "      <td>0</td>\n",
              "    </tr>\n",
              "    <tr>\n",
              "      <th>182</th>\n",
              "      <td>2015-07-24</td>\n",
              "      <td>Holiday</td>\n",
              "      <td>Local</td>\n",
              "      <td>Guayaquil</td>\n",
              "      <td>Fundacion de Guayaquil-1</td>\n",
              "      <td>False</td>\n",
              "      <td>1</td>\n",
              "      <td>0</td>\n",
              "    </tr>\n",
              "    <tr>\n",
              "      <th>183</th>\n",
              "      <td>2015-07-25</td>\n",
              "      <td>Holiday</td>\n",
              "      <td>Local</td>\n",
              "      <td>Guayaquil</td>\n",
              "      <td>Fundacion de Guayaquil</td>\n",
              "      <td>False</td>\n",
              "      <td>1</td>\n",
              "      <td>0</td>\n",
              "    </tr>\n",
              "    <tr>\n",
              "      <th>218</th>\n",
              "      <td>2016-04-14</td>\n",
              "      <td>Holiday</td>\n",
              "      <td>Local</td>\n",
              "      <td>Libertad</td>\n",
              "      <td>Cantonizacion de Libertad</td>\n",
              "      <td>False</td>\n",
              "      <td>1</td>\n",
              "      <td>0</td>\n",
              "    </tr>\n",
              "    <tr>\n",
              "      <th>264</th>\n",
              "      <td>2016-07-24</td>\n",
              "      <td>Additional</td>\n",
              "      <td>Local</td>\n",
              "      <td>Guayaquil</td>\n",
              "      <td>Fundacion de Guayaquil-1</td>\n",
              "      <td>False</td>\n",
              "      <td>1</td>\n",
              "      <td>0</td>\n",
              "    </tr>\n",
              "    <tr>\n",
              "      <th>265</th>\n",
              "      <td>2016-07-24</td>\n",
              "      <td>Transfer</td>\n",
              "      <td>Local</td>\n",
              "      <td>Guayaquil</td>\n",
              "      <td>Traslado Fundacion de Guayaquil</td>\n",
              "      <td>False</td>\n",
              "      <td>1</td>\n",
              "      <td>0</td>\n",
              "    </tr>\n",
              "    <tr>\n",
              "      <th>266</th>\n",
              "      <td>2016-07-25</td>\n",
              "      <td>Holiday</td>\n",
              "      <td>Local</td>\n",
              "      <td>Guayaquil</td>\n",
              "      <td>Fundacion de Guayaquil</td>\n",
              "      <td>True</td>\n",
              "      <td>0</td>\n",
              "      <td>0</td>\n",
              "    </tr>\n",
              "    <tr>\n",
              "      <th>305</th>\n",
              "      <td>2017-04-14</td>\n",
              "      <td>Holiday</td>\n",
              "      <td>Local</td>\n",
              "      <td>Libertad</td>\n",
              "      <td>Cantonizacion de Libertad</td>\n",
              "      <td>False</td>\n",
              "      <td>1</td>\n",
              "      <td>0</td>\n",
              "    </tr>\n",
              "    <tr>\n",
              "      <th>321</th>\n",
              "      <td>2017-07-24</td>\n",
              "      <td>Additional</td>\n",
              "      <td>Local</td>\n",
              "      <td>Guayaquil</td>\n",
              "      <td>Fundacion de Guayaquil-1</td>\n",
              "      <td>False</td>\n",
              "      <td>1</td>\n",
              "      <td>0</td>\n",
              "    </tr>\n",
              "    <tr>\n",
              "      <th>322</th>\n",
              "      <td>2017-07-25</td>\n",
              "      <td>Additional</td>\n",
              "      <td>Local</td>\n",
              "      <td>Guayaquil</td>\n",
              "      <td>Fundacion de Guayaquil</td>\n",
              "      <td>False</td>\n",
              "      <td>1</td>\n",
              "      <td>0</td>\n",
              "    </tr>\n",
              "  </tbody>\n",
              "</table>\n",
              "</div>"
            ],
            "text/plain": [
              "           date        type locale locale_name  \\\n",
              "3    2012-04-14     Holiday  Local    Libertad   \n",
              "49   2013-04-14     Holiday  Local    Libertad   \n",
              "64   2013-07-24  Additional  Local   Guayaquil   \n",
              "65   2013-07-25     Holiday  Local   Guayaquil   \n",
              "98   2014-04-14     Holiday  Local    Libertad   \n",
              "127  2014-07-24  Additional  Local   Guayaquil   \n",
              "128  2014-07-25     Holiday  Local   Guayaquil   \n",
              "168  2015-04-14     Holiday  Local    Libertad   \n",
              "182  2015-07-24     Holiday  Local   Guayaquil   \n",
              "183  2015-07-25     Holiday  Local   Guayaquil   \n",
              "218  2016-04-14     Holiday  Local    Libertad   \n",
              "264  2016-07-24  Additional  Local   Guayaquil   \n",
              "265  2016-07-24    Transfer  Local   Guayaquil   \n",
              "266  2016-07-25     Holiday  Local   Guayaquil   \n",
              "305  2017-04-14     Holiday  Local    Libertad   \n",
              "321  2017-07-24  Additional  Local   Guayaquil   \n",
              "322  2017-07-25  Additional  Local   Guayaquil   \n",
              "\n",
              "                         description  transferred  is_holiday  is_event  \n",
              "3          Cantonizacion de Libertad        False           1         0  \n",
              "49         Cantonizacion de Libertad        False           1         0  \n",
              "64          Fundacion de Guayaquil-1        False           1         0  \n",
              "65            Fundacion de Guayaquil        False           1         0  \n",
              "98         Cantonizacion de Libertad        False           1         0  \n",
              "127         Fundacion de Guayaquil-1        False           1         0  \n",
              "128           Fundacion de Guayaquil        False           1         0  \n",
              "168        Cantonizacion de Libertad        False           1         0  \n",
              "182         Fundacion de Guayaquil-1        False           1         0  \n",
              "183           Fundacion de Guayaquil        False           1         0  \n",
              "218        Cantonizacion de Libertad        False           1         0  \n",
              "264         Fundacion de Guayaquil-1        False           1         0  \n",
              "265  Traslado Fundacion de Guayaquil        False           1         0  \n",
              "266           Fundacion de Guayaquil         True           0         0  \n",
              "305        Cantonizacion de Libertad        False           1         0  \n",
              "321         Fundacion de Guayaquil-1        False           1         0  \n",
              "322           Fundacion de Guayaquil        False           1         0  "
            ]
          },
          "execution_count": 117,
          "metadata": {},
          "output_type": "execute_result"
        }
      ],
      "source": [
        "# Filter holiday data to include only relevant cities in Guayas.\n",
        "filtered_holidays_guayas = df_holidays_events[\n",
        "    df_holidays_events['locale_name'].isin(['Guayaquil', 'Daule', 'Playas', 'Libertad'])\n",
        "]\n",
        "filtered_holidays_guayas_local= filtered_holidays_guayas[filtered_holidays_guayas['locale']=='Local']\n",
        "filtered_holidays_guayas"
      ]
    },
    {
      "cell_type": "code",
      "execution_count": 118,
      "metadata": {
        "colab": {
          "base_uri": "https://localhost:8080/",
          "height": 516
        },
        "id": "q_exjhen6UKF",
        "outputId": "8f3b31aa-987c-49ce-8a09-2ea1ebbc050c"
      },
      "outputs": [
        {
          "name": "stderr",
          "output_type": "stream",
          "text": [
            "/var/folders/mh/fgvwq54x3dlg6k690k5t0qvh0000gn/T/ipykernel_4273/3428199433.py:6: FutureWarning: \n",
            "\n",
            "Passing `palette` without assigning `hue` is deprecated and will be removed in v0.14.0. Assign the `x` variable to `hue` and set `legend=False` for the same effect.\n",
            "\n",
            "  sns.barplot(data=locale_counts, x='locale', y='count', palette='pastel')\n"
          ]
        },
        {
          "data": {
            "image/png": "[encoded data removed]",
            "text/plain": [
              "<Figure size 600x400 with 1 Axes>"
            ]
          },
          "metadata": {},
          "output_type": "display_data"
        }
      ],
      "source": [
        "# Visualize the count of Local vs Regional holidays.\n",
        "locale_counts = filtered_holidays_guayas['locale'].value_counts().reset_index()\n",
        "locale_counts.columns = ['locale', 'count']\n",
        "\n",
        "plt.figure(figsize=(6, 4))\n",
        "sns.barplot(data=locale_counts, x='locale', y='count', palette='pastel')\n",
        "plt.title('Local vs Regional Holidays in Guayas')\n",
        "plt.xlabel('Holiday Locale')\n",
        "plt.ylabel('Number of Holidays')\n",
        "plt.tight_layout()\n",
        "plt.show()"
      ]
    },
    {
      "cell_type": "code",
      "execution_count": 119,
      "metadata": {
        "colab": {
          "base_uri": "https://localhost:8080/",
          "height": 621
        },
        "id": "-F9My-2D4PW3",
        "outputId": "3088e54d-ec8f-41f3-a0c0-3a1296d83d00"
      },
      "outputs": [
        {
          "name": "stderr",
          "output_type": "stream",
          "text": [
            "/var/folders/mh/fgvwq54x3dlg6k690k5t0qvh0000gn/T/ipykernel_4273/288848133.py:2: SettingWithCopyWarning: \n",
            "A value is trying to be set on a copy of a slice from a DataFrame.\n",
            "Try using .loc[row_indexer,col_indexer] = value instead\n",
            "\n",
            "See the caveats in the documentation: https://pandas.pydata.org/pandas-docs/stable/user_guide/indexing.html#returning-a-view-versus-a-copy\n",
            "  filtered_holidays_guayas['date'] = pd.to_datetime(filtered_holidays_guayas['date'])\n",
            "/var/folders/mh/fgvwq54x3dlg6k690k5t0qvh0000gn/T/ipykernel_4273/288848133.py:3: SettingWithCopyWarning: \n",
            "A value is trying to be set on a copy of a slice from a DataFrame.\n",
            "Try using .loc[row_indexer,col_indexer] = value instead\n",
            "\n",
            "See the caveats in the documentation: https://pandas.pydata.org/pandas-docs/stable/user_guide/indexing.html#returning-a-view-versus-a-copy\n",
            "  filtered_holidays_guayas['year'] = filtered_holidays_guayas['date'].dt.year\n"
          ]
        },
        {
          "data": {
            "image/png": "[encoded data removed]",
            "text/plain": [
              "<Figure size 800x400 with 1 Axes>"
            ]
          },
          "metadata": {},
          "output_type": "display_data"
        }
      ],
      "source": [
        "# Analyze the trend of holidays over years.\n",
        "filtered_holidays_guayas['date'] = pd.to_datetime(filtered_holidays_guayas['date'])\n",
        "filtered_holidays_guayas['year'] = filtered_holidays_guayas['date'].dt.year\n",
        "holiday_counts_by_year = filtered_holidays_guayas.groupby('year').size()\n",
        "\n",
        "holiday_counts_by_year.plot(kind='bar', title='Number of Holidays in Guayas by Year', figsize=(8, 4))\n",
        "plt.xlabel('Year')\n",
        "plt.ylabel('Number of Holidays')\n",
        "plt.tight_layout()\n",
        "plt.show()\n"
      ]
    },
    {
      "cell_type": "code",
      "execution_count": 120,
      "metadata": {
        "colab": {
          "base_uri": "https://localhost:8080/",
          "height": 487
        },
        "id": "idhexA_L6Xtt",
        "outputId": "e62d19e5-ef60-44d7-aff7-2d3bd0af26a9"
      },
      "outputs": [
        {
          "data": {
            "image/png": "[encoded data removed]",
            "text/plain": [
              "<Figure size 640x480 with 1 Axes>"
            ]
          },
          "metadata": {},
          "output_type": "display_data"
        }
      ],
      "source": [
        "# Visiualize the holiday types in Guayas\n",
        "\n",
        "filtered_holidays_guayas['type'].value_counts().plot(\n",
        "    kind='bar', title='Holiday Types in Guayas', color='skyblue'\n",
        ")\n",
        "plt.xlabel('Holiday Type')\n",
        "plt.ylabel('Count')\n",
        "plt.tight_layout()\n",
        "plt.show()"
      ]
    },
    {
      "cell_type": "code",
      "execution_count": 121,
      "metadata": {
        "colab": {
          "base_uri": "https://localhost:8080/",
          "height": 594
        },
        "id": "YM0beA_P6aMP",
        "outputId": "7d2b3893-f763-45b0-9e92-aeaf5c7d550a"
      },
      "outputs": [
        {
          "name": "stderr",
          "output_type": "stream",
          "text": [
            "/var/folders/mh/fgvwq54x3dlg6k690k5t0qvh0000gn/T/ipykernel_4273/692472795.py:2: SettingWithCopyWarning: \n",
            "A value is trying to be set on a copy of a slice from a DataFrame.\n",
            "Try using .loc[row_indexer,col_indexer] = value instead\n",
            "\n",
            "See the caveats in the documentation: https://pandas.pydata.org/pandas-docs/stable/user_guide/indexing.html#returning-a-view-versus-a-copy\n",
            "  filtered_holidays_guayas['month'] = filtered_holidays_guayas['date'].dt.month\n"
          ]
        },
        {
          "data": {
            "image/png": "[encoded data removed]",
            "text/plain": [
              "<Figure size 640x480 with 1 Axes>"
            ]
          },
          "metadata": {},
          "output_type": "display_data"
        }
      ],
      "source": [
        "# Explore seasonality by looking at holidays per month.\n",
        "filtered_holidays_guayas['month'] = filtered_holidays_guayas['date'].dt.month\n",
        "filtered_holidays_guayas['month'].value_counts().sort_index().plot(\n",
        "    kind='bar', title='Holidays in Guayas by Month'\n",
        ")\n",
        "plt.xlabel('Month')\n",
        "plt.ylabel('Number of Holidays')\n",
        "plt.tight_layout()\n",
        "plt.show()"
      ]
    },
    {
      "cell_type": "markdown",
      "metadata": {
        "id": "j9FvwZuajTTn"
      },
      "source": [
        "## Filtered Train"
      ]
    },
    {
      "cell_type": "markdown",
      "metadata": {
        "id": "wURHURnBAdfk"
      },
      "source": [
        "### Data Overview"
      ]
    },
    {
      "cell_type": "code",
      "execution_count": 124,
      "metadata": {
        "ExecuteTime": {
          "end_time": "2025-05-03T09:48:42.313264Z",
          "start_time": "2025-05-03T09:48:42.301173Z"
        },
        "colab": {
          "base_uri": "https://localhost:8080/",
          "height": 778
        },
        "id": "jkGhiGTbO05Y",
        "outputId": "27a56419-6b11-4006-d14c-1ef44cfc51ac"
      },
      "outputs": [
        {
          "name": "stdout",
          "output_type": "stream",
          "text": [
            "<class 'pandas.core.frame.DataFrame'>\n",
            "RangeIndex: 14745768 entries, 0 to 14745767\n",
            "Data columns (total 6 columns):\n",
            " #   Column       Dtype  \n",
            "---  ------       -----  \n",
            " 0   id           int64  \n",
            " 1   date         object \n",
            " 2   store_nbr    int64  \n",
            " 3   item_nbr     int64  \n",
            " 4   unit_sales   float64\n",
            " 5   onpromotion  object \n",
            "dtypes: float64(1), int64(3), object(2)\n",
            "memory usage: 675.0+ MB\n",
            "None\n",
            "\n",
            " Unique values \n",
            " id             14745768\n",
            "date               1680\n",
            "store_nbr            11\n",
            "item_nbr           2323\n",
            "unit_sales         4537\n",
            "onpromotion           2\n",
            "dtype: int64\n",
            "\n",
            " Null values \n",
            " id                   0\n",
            "date                 0\n",
            "store_nbr            0\n",
            "item_nbr             0\n",
            "unit_sales           0\n",
            "onpromotion    2747275\n",
            "dtype: int64\n"
          ]
        },
        {
          "data": {
            "text/html": [
              "<div>\n",
              "<style scoped>\n",
              "    .dataframe tbody tr th:only-of-type {\n",
              "        vertical-align: middle;\n",
              "    }\n",
              "\n",
              "    .dataframe tbody tr th {\n",
              "        vertical-align: top;\n",
              "    }\n",
              "\n",
              "    .dataframe thead th {\n",
              "        text-align: right;\n",
              "    }\n",
              "</style>\n",
              "<table border=\"1\" class=\"dataframe\">\n",
              "  <thead>\n",
              "    <tr style=\"text-align: right;\">\n",
              "      <th></th>\n",
              "      <th>id</th>\n",
              "      <th>date</th>\n",
              "      <th>store_nbr</th>\n",
              "      <th>item_nbr</th>\n",
              "      <th>unit_sales</th>\n",
              "      <th>onpromotion</th>\n",
              "    </tr>\n",
              "  </thead>\n",
              "  <tbody>\n",
              "    <tr>\n",
              "      <th>0</th>\n",
              "      <td>18790</td>\n",
              "      <td>2013-01-02</td>\n",
              "      <td>24</td>\n",
              "      <td>105574</td>\n",
              "      <td>12.0</td>\n",
              "      <td>NaN</td>\n",
              "    </tr>\n",
              "    <tr>\n",
              "      <th>1</th>\n",
              "      <td>18791</td>\n",
              "      <td>2013-01-02</td>\n",
              "      <td>24</td>\n",
              "      <td>105575</td>\n",
              "      <td>2.0</td>\n",
              "      <td>NaN</td>\n",
              "    </tr>\n",
              "    <tr>\n",
              "      <th>2</th>\n",
              "      <td>18792</td>\n",
              "      <td>2013-01-02</td>\n",
              "      <td>24</td>\n",
              "      <td>105577</td>\n",
              "      <td>1.0</td>\n",
              "      <td>NaN</td>\n",
              "    </tr>\n",
              "    <tr>\n",
              "      <th>3</th>\n",
              "      <td>18793</td>\n",
              "      <td>2013-01-02</td>\n",
              "      <td>24</td>\n",
              "      <td>105693</td>\n",
              "      <td>7.0</td>\n",
              "      <td>NaN</td>\n",
              "    </tr>\n",
              "    <tr>\n",
              "      <th>4</th>\n",
              "      <td>18794</td>\n",
              "      <td>2013-01-02</td>\n",
              "      <td>24</td>\n",
              "      <td>105737</td>\n",
              "      <td>17.0</td>\n",
              "      <td>NaN</td>\n",
              "    </tr>\n",
              "  </tbody>\n",
              "</table>\n",
              "</div>"
            ],
            "text/plain": [
              "      id        date  store_nbr  item_nbr  unit_sales onpromotion\n",
              "0  18790  2013-01-02         24    105574        12.0         NaN\n",
              "1  18791  2013-01-02         24    105575         2.0         NaN\n",
              "2  18792  2013-01-02         24    105577         1.0         NaN\n",
              "3  18793  2013-01-02         24    105693         7.0         NaN\n",
              "4  18794  2013-01-02         24    105737        17.0         NaN"
            ]
          },
          "execution_count": 124,
          "metadata": {},
          "output_type": "execute_result"
        }
      ],
      "source": [
        "# df_train has 14745768 rows and 6 columns\n",
        "#No null is found from the info\n",
        "print(df_train.info())\n",
        "print('\\n Unique values \\n', df_train.nunique())\n",
        "print('\\n Null values \\n',df_train.isnull().sum())\n",
        "df_train.head(5)"
      ]
    },
    {
      "cell_type": "code",
      "execution_count": 125,
      "metadata": {
        "colab": {
          "base_uri": "https://localhost:8080/",
          "height": 178
        },
        "id": "TZS_eb9ywu6e",
        "outputId": "0c7a8704-9b48-4b49-d80c-de312724a0a8"
      },
      "outputs": [
        {
          "data": {
            "text/plain": [
              "onpromotion\n",
              "False    11319196\n",
              "True       679297\n",
              "Name: count, dtype: int64"
            ]
          },
          "execution_count": 125,
          "metadata": {},
          "output_type": "execute_result"
        }
      ],
      "source": [
        "# Count of promotions\n",
        "df_train['onpromotion'].value_counts()"
      ]
    },
    {
      "cell_type": "markdown",
      "metadata": {
        "id": "FtXCMwq_AoW5"
      },
      "source": [
        "### Data exploration"
      ]
    },
    {
      "cell_type": "code",
      "execution_count": 126,
      "metadata": {
        "colab": {
          "base_uri": "https://localhost:8080/",
          "height": 505
        },
        "id": "XMeLxK1WyAta",
        "outputId": "4126cfaf-28ef-4203-9dd7-cde70d7df8a2"
      },
      "outputs": [
        {
          "data": {
            "text/plain": [
              "<Axes: title={'center': 'Total Unit Sales Over Time in Guayas'}, xlabel='date'>"
            ]
          },
          "execution_count": 126,
          "metadata": {},
          "output_type": "execute_result"
        },
        {
          "data": {
            "image/png": "[encoded data removed]",
            "text/plain": [
              "<Figure size 1200x500 with 1 Axes>"
            ]
          },
          "metadata": {},
          "output_type": "display_data"
        }
      ],
      "source": [
        "#Total unit sales per day\n",
        "\n",
        "daily_sales = df_train.groupby('date')['unit_sales'].sum()\n",
        "daily_sales.plot(title=\"Total Unit Sales Over Time in Guayas\", figsize=(12,5))"
      ]
    },
    {
      "cell_type": "code",
      "execution_count": 130,
      "metadata": {
        "colab": {
          "base_uri": "https://localhost:8080/"
        },
        "id": "EhcydqOQy5w9",
        "outputId": "8f7e41b7-2e74-47a1-fc1a-4d6c1ffe3167"
      },
      "outputs": [
        {
          "name": "stdout",
          "output_type": "stream",
          "text": [
            "Total unique dates 1680\n",
            "Total zero sales 0\n",
            "Total negative sales number 794\n"
          ]
        }
      ],
      "source": [
        "# Zero and negative sales counts\n",
        "unique_dates = df_train['date'].unique()\n",
        "print('Total unique dates',len(unique_dates))\n",
        "\n",
        "zero_sales_train=df_train[df_train['unit_sales']==0]\n",
        "print('Total zero sales',len(zero_sales_train))\n",
        "\n",
        "# Check for negative sales\n",
        "negative_sales_train=df_train[df_train['unit_sales']<0]\n",
        "print('Total negative sales number',len(negative_sales_train))"
      ]
    },
    {
      "cell_type": "markdown",
      "metadata": {
        "id": "k3pqAuTl77Ko"
      },
      "source": [
        "### Analysis of Top Selling Items in the Guayas Region\n",
        "\n",
        "This analysis identifies the top 10 selling items across all stores located in the Guayas region.\n",
        "\n"
      ]
    },
    {
      "cell_type": "code",
      "execution_count": null,
      "metadata": {
        "colab": {
          "base_uri": "https://localhost:8080/",
          "height": 424
        },
        "id": "YF6h5oTD8HcX",
        "outputId": "89d4346e-5045-4751-b3b5-bf5f7daeed1b"
      },
      "outputs": [
        {
          "data": {
            "text/html": [
              "<div>\n",
              "<style scoped>\n",
              "    .dataframe tbody tr th:only-of-type {\n",
              "        vertical-align: middle;\n",
              "    }\n",
              "\n",
              "    .dataframe tbody tr th {\n",
              "        vertical-align: top;\n",
              "    }\n",
              "\n",
              "    .dataframe thead th {\n",
              "        text-align: right;\n",
              "    }\n",
              "</style>\n",
              "<table border=\"1\" class=\"dataframe\">\n",
              "  <thead>\n",
              "    <tr style=\"text-align: right;\">\n",
              "      <th></th>\n",
              "      <th>store_nbr</th>\n",
              "      <th>item_nbr</th>\n",
              "      <th>unit_sales</th>\n",
              "    </tr>\n",
              "  </thead>\n",
              "  <tbody>\n",
              "    <tr>\n",
              "      <th>0</th>\n",
              "      <td>24</td>\n",
              "      <td>96995</td>\n",
              "      <td>424.0</td>\n",
              "    </tr>\n",
              "    <tr>\n",
              "      <th>1</th>\n",
              "      <td>24</td>\n",
              "      <td>99197</td>\n",
              "      <td>417.0</td>\n",
              "    </tr>\n",
              "    <tr>\n",
              "      <th>2</th>\n",
              "      <td>24</td>\n",
              "      <td>103520</td>\n",
              "      <td>5929.0</td>\n",
              "    </tr>\n",
              "    <tr>\n",
              "      <th>3</th>\n",
              "      <td>24</td>\n",
              "      <td>105574</td>\n",
              "      <td>16226.0</td>\n",
              "    </tr>\n",
              "    <tr>\n",
              "      <th>4</th>\n",
              "      <td>24</td>\n",
              "      <td>105575</td>\n",
              "      <td>12461.0</td>\n",
              "    </tr>\n",
              "    <tr>\n",
              "      <th>...</th>\n",
              "      <td>...</td>\n",
              "      <td>...</td>\n",
              "      <td>...</td>\n",
              "    </tr>\n",
              "    <tr>\n",
              "      <th>20783</th>\n",
              "      <td>51</td>\n",
              "      <td>2123727</td>\n",
              "      <td>6.0</td>\n",
              "    </tr>\n",
              "    <tr>\n",
              "      <th>20784</th>\n",
              "      <td>51</td>\n",
              "      <td>2123750</td>\n",
              "      <td>3.0</td>\n",
              "    </tr>\n",
              "    <tr>\n",
              "      <th>20785</th>\n",
              "      <td>51</td>\n",
              "      <td>2123775</td>\n",
              "      <td>1.0</td>\n",
              "    </tr>\n",
              "    <tr>\n",
              "      <th>20786</th>\n",
              "      <td>51</td>\n",
              "      <td>2123791</td>\n",
              "      <td>1.0</td>\n",
              "    </tr>\n",
              "    <tr>\n",
              "      <th>20787</th>\n",
              "      <td>51</td>\n",
              "      <td>2127114</td>\n",
              "      <td>45.0</td>\n",
              "    </tr>\n",
              "  </tbody>\n",
              "</table>\n",
              "<p>20788 rows × 3 columns</p>\n",
              "</div>"
            ],
            "text/plain": [
              "       store_nbr  item_nbr  unit_sales\n",
              "0             24     96995       424.0\n",
              "1             24     99197       417.0\n",
              "2             24    103520      5929.0\n",
              "3             24    105574     16226.0\n",
              "4             24    105575     12461.0\n",
              "...          ...       ...         ...\n",
              "20783         51   2123727         6.0\n",
              "20784         51   2123750         3.0\n",
              "20785         51   2123775         1.0\n",
              "20786         51   2123791         1.0\n",
              "20787         51   2127114        45.0\n",
              "\n",
              "[20788 rows x 3 columns]"
            ]
          },
          "execution_count": 131,
          "metadata": {},
          "output_type": "execute_result"
        }
      ],
      "source": [
        "# Total sales per item for each store in the Guayas region\n",
        "\n",
        "# Merging the sales data with store and Filter for Guayas state.\n",
        "guayas_data = pd.merge(df_train, df_stores, on='store_nbr')\n",
        "guayas_data = guayas_data[guayas_data['state'] == 'Guayas']\n",
        "\n",
        "# Aggregating total unit sales by item and store.\n",
        "sales_summary = guayas_data.groupby(['store_nbr', 'item_nbr'])['unit_sales'].sum().reset_index()\n",
        "sales_summary"
      ]
    },
    {
      "cell_type": "code",
      "execution_count": null,
      "metadata": {
        "colab": {
          "base_uri": "https://localhost:8080/",
          "height": 716
        },
        "id": "yg-TKTgr8Y-4",
        "outputId": "7aa25505-b274-4d03-cdf9-307061c177e5"
      },
      "outputs": [
        {
          "name": "stderr",
          "output_type": "stream",
          "text": [
            "/var/folders/mh/fgvwq54x3dlg6k690k5t0qvh0000gn/T/ipykernel_4273/3512112038.py:8: FutureWarning: \n",
            "\n",
            "Passing `palette` without assigning `hue` is deprecated and will be removed in v0.14.0. Assign the `x` variable to `hue` and set `legend=False` for the same effect.\n",
            "\n",
            "  sns.barplot(data=top_items, x='item_nbr', y='unit_sales', palette='viridis')\n"
          ]
        },
        {
          "data": {
            "image/png": "[encoded data removed]",
            "text/plain": [
              "<Figure size 1200x600 with 1 Axes>"
            ]
          },
          "metadata": {},
          "output_type": "display_data"
        }
      ],
      "source": [
        "#Summarizing and visualizing the top 10 items with the highest unit sales.\n",
        "\n",
        "# Get top 10 selling items across all Guayas stores\n",
        "top_items = sales_summary.groupby('item_nbr')['unit_sales'].sum().nlargest(10).reset_index()\n",
        "\n",
        "# Plot top 10 selling items\n",
        "plt.figure(figsize=(12, 6))\n",
        "sns.barplot(data=top_items, x='item_nbr', y='unit_sales', palette='viridis')\n",
        "plt.title('Top 10 Selling Items in Guayas Region')\n",
        "plt.xlabel('Item Number')\n",
        "plt.ylabel('Total Unit Sales')\n",
        "plt.xticks(rotation=45)\n",
        "plt.tight_layout()\n",
        "plt.show()"
      ]
    },
    {
      "cell_type": "markdown",
      "metadata": {
        "id": "fpnIzvFKtjmN"
      },
      "source": [
        "# Save processed holiday_events and download"
      ]
    },
    {
      "cell_type": "code",
      "execution_count": 133,
      "metadata": {
        "id": "3JbYJxqwtHvh"
      },
      "outputs": [],
      "source": [
        "df_holidays_events.to_csv('holidays_events_processed.csv', index= False)"
      ]
    },
    {
      "cell_type": "code",
      "execution_count": null,
      "metadata": {
        "colab": {
          "base_uri": "https://localhost:8080/",
          "height": 17
        },
        "id": "dOP6x0Uwimr4",
        "outputId": "07678068-82b6-47d8-d71c-3ceeda7a1ce0"
      },
      "outputs": [
        {
          "data": {
            "application/javascript": "\n    async function download(id, filename, size) {\n      if (!google.colab.kernel.accessAllowed) {\n        return;\n      }\n      const div = document.createElement('div');\n      const label = document.createElement('label');\n      label.textContent = `Downloading \"${filename}\": `;\n      div.appendChild(label);\n      const progress = document.createElement('progress');\n      progress.max = size;\n      div.appendChild(progress);\n      document.body.appendChild(div);\n\n      const buffers = [];\n      let downloaded = 0;\n\n      const channel = await google.colab.kernel.comms.open(id);\n      // Send a message to notify the kernel that we're ready.\n      channel.send({})\n\n      for await (const message of channel.messages) {\n        // Send a message to notify the kernel that we're ready.\n        channel.send({})\n        if (message.buffers) {\n          for (const buffer of message.buffers) {\n            buffers.push(buffer);\n            downloaded += buffer.byteLength;\n            progress.value = downloaded;\n          }\n        }\n      }\n      const blob = new Blob(buffers, {type: 'application/binary'});\n      const a = document.createElement('a');\n      a.href = window.URL.createObjectURL(blob);\n      a.download = filename;\n      div.appendChild(a);\n      a.click();\n      div.remove();\n    }\n  ",
            "text/plain": [
              "<IPython.core.display.Javascript object>"
            ]
          },
          "metadata": {},
          "output_type": "display_data"
        },
        {
          "data": {
            "application/javascript": "download(\"download_ccc51219-ee3f-43b7-8b5b-2e3f7f5c394f\", \"df_holidays_events_processed.csv\", 23729)",
            "text/plain": [
              "<IPython.core.display.Javascript object>"
            ]
          },
          "metadata": {},
          "output_type": "display_data"
        }
      ],
      "source": [
        "#from google.colab import files\n",
        "#files.download('holidays_events_processed.csv')"
      ]
    },
    {
      "cell_type": "code",
      "execution_count": 134,
      "metadata": {
        "id": "lStVQyt1iWp6"
      },
      "outputs": [],
      "source": [
        "#Save featured data\n",
        "df_holidays_events.to_csv('Data/holidays_events_processed.csv', index=False)\n",
        "#Read data automatically from drive\n",
        "df_holidays_events = pd.read_csv('Data/holidays_events_processed.csv')"
      ]
    },
    {
      "cell_type": "code",
      "execution_count": 135,
      "metadata": {
        "colab": {
          "base_uri": "https://localhost:8080/"
        },
        "id": "4odhU2wBuD1O",
        "outputId": "622cd123-40cf-43f9-e0f2-8fc741776140"
      },
      "outputs": [
        {
          "data": {
            "text/plain": [
              "(350, 8)"
            ]
          },
          "execution_count": 135,
          "metadata": {},
          "output_type": "execute_result"
        }
      ],
      "source": [
        "df_holidays_events.shape"
      ]
    }
  ],
  "metadata": {
    "accelerator": "GPU",
    "colab": {
      "collapsed_sections": [
        "tvT2PydkhJTf",
        "AxN1illEgsC7",
        "UFmrNyF8i10G"
      ],
      "gpuType": "T4",
      "provenance": []
    },
    "kernelspec": {
      "display_name": "base",
      "language": "python",
      "name": "python3"
    },
    "language_info": {
      "codemirror_mode": {
        "name": "ipython",
        "version": 3
      },
      "file_extension": ".py",
      "mimetype": "text/x-python",
      "name": "python",
      "nbconvert_exporter": "python",
      "pygments_lexer": "ipython3",
      "version": "3.12.7"
    }
  },
  "nbformat": 4,
  "nbformat_minor": 0
}
