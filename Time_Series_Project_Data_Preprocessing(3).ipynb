{
  "cells": [
    {
      "cell_type": "code",
      "execution_count": 43,
      "metadata": {
        "ExecuteTime": {
          "end_time": "2025-05-03T09:48:17.207353Z",
          "start_time": "2025-05-03T09:48:17.205536Z"
        },
        "id": "GuwPDeEkH35L"
      },
      "outputs": [],
      "source": [
        "# Import libraries\n",
        "import pandas as pd\n",
        "from matplotlib import pyplot as plt\n",
        "import seaborn as sns\n",
        "import numpy as np"
      ]
    },
    {
      "cell_type": "markdown",
      "metadata": {
        "id": "SAnM1nSKhIyX"
      },
      "source": [
        "# Load Data"
      ]
    },
    {
      "cell_type": "code",
      "execution_count": 44,
      "metadata": {
        "colab": {
          "base_uri": "https://localhost:8080/"
        },
        "id": "TwCSn6rfhHcE",
        "outputId": "757fbb47-704d-4602-e512-9ef58cac934e"
      },
      "outputs": [],
      "source": [
        "#from google.colab import drive\n",
        "#drive.mount('/content/drive')"
      ]
    },
    {
      "cell_type": "code",
      "execution_count": 45,
      "metadata": {
        "ExecuteTime": {
          "end_time": "2025-05-03T09:48:17.610412Z",
          "start_time": "2025-05-03T09:48:17.211112Z"
        },
        "colab": {
          "base_uri": "https://localhost:8080/"
        },
        "id": "pHWPOjeoh0iU",
        "outputId": "26eeea99-9c35-4a49-a050-ec20f5ca149d"
      },
      "outputs": [
        {
          "name": "stderr",
          "output_type": "stream",
          "text": [
            "/var/folders/mh/fgvwq54x3dlg6k690k5t0qvh0000gn/T/ipykernel_2501/2325352464.py:11: DtypeWarning: Columns (5) have mixed types. Specify dtype option on import or set low_memory=False.\n",
            "  df_train = pd.read_csv('Data/train_Guayas.csv')\n"
          ]
        }
      ],
      "source": [
        "# Load the CSV files into pandas DataFrames\n",
        "df_stores = pd.read_csv('Data/stores.csv')\n",
        "df_items = pd.read_csv('Data/items.csv')\n",
        "df_transactions = pd.read_csv('Data/transactions.csv')\n",
        "df_oil = pd.read_csv('Data/oil.csv')\n",
        "\n",
        "# Featured Holiday_events\n",
        "df_holidays_events = pd.read_csv('Data/holidays_events_processed.csv')\n",
        "\n",
        "# Filtered train\n",
        "df_train = pd.read_csv('Data/train_Guayas.csv')"
      ]
    },
    {
      "cell_type": "markdown",
      "metadata": {
        "id": "o_Joe_F0qllm"
      },
      "source": [
        "# Data Preprocessing\n"
      ]
    },
    {
      "cell_type": "markdown",
      "metadata": {
        "id": "FPQmX6Sez_sL"
      },
      "source": [
        "## Handling Missing Values\n",
        "\n",
        "This section addresses missing data in the training and oil price datasets."
      ]
    },
    {
      "cell_type": "code",
      "execution_count": 53,
      "metadata": {
        "ExecuteTime": {
          "end_time": "2025-05-03T09:48:44.282124Z",
          "start_time": "2025-05-03T09:48:43.635978Z"
        },
        "colab": {
          "base_uri": "https://localhost:8080/",
          "height": 272
        },
        "id": "vLZjtaW-k3G9",
        "outputId": "3cc4db76-32c1-4480-d1c6-0185890a6993"
      },
      "outputs": [
        {
          "data": {
            "text/plain": [
              "id             0\n",
              "date           0\n",
              "store_nbr      0\n",
              "item_nbr       0\n",
              "unit_sales     0\n",
              "onpromotion    0\n",
              "dtype: int64"
            ]
          },
          "execution_count": 53,
          "metadata": {},
          "output_type": "execute_result"
        }
      ],
      "source": [
        "df_train.isnull().sum()"
      ]
    },
    {
      "cell_type": "markdown",
      "metadata": {
        "id": "e_MqBFDorUX7"
      },
      "source": [
        "### The onpromotion column contains many missing values (NaN).\n",
        "\n",
        "Since promotions are rare, missing values are assumed to mean no promotion. These missing values are replaced with False, then the column is converted to a binary integer (0/1)."
      ]
    },
    {
      "cell_type": "code",
      "execution_count": 54,
      "metadata": {
        "ExecuteTime": {
          "end_time": "2025-05-03T09:48:45.302265Z",
          "start_time": "2025-05-03T09:48:44.294326Z"
        },
        "colab": {
          "base_uri": "https://localhost:8080/",
          "height": 328
        },
        "id": "QPVZVzh1k3Lr",
        "outputId": "993a90a2-6aa2-4b77-e9e5-23283a212b67"
      },
      "outputs": [
        {
          "data": {
            "text/plain": [
              "id             0\n",
              "date           0\n",
              "store_nbr      0\n",
              "item_nbr       0\n",
              "unit_sales     0\n",
              "onpromotion    0\n",
              "dtype: int64"
            ]
          },
          "execution_count": 54,
          "metadata": {},
          "output_type": "execute_result"
        }
      ],
      "source": [
        "# Focusing on missing values in the 'onpromotion' column\n",
        "df_train['onpromotion'] = df_train['onpromotion'].fillna(False).astype(bool)\n",
        "df_train['onpromotion'] = df_train['onpromotion'].astype('int64')\n",
        "df_train.isnull().sum()"
      ]
    },
    {
      "cell_type": "code",
      "execution_count": 51,
      "metadata": {
        "colab": {
          "base_uri": "https://localhost:8080/",
          "height": 178
        },
        "id": "eWCvIwPc0JRS",
        "outputId": "3ba89b60-6b12-4c74-bdee-a2ebf348e123"
      },
      "outputs": [
        {
          "data": {
            "text/plain": [
              "onpromotion\n",
              "0    14066471\n",
              "1      679297\n",
              "Name: count, dtype: int64"
            ]
          },
          "execution_count": 51,
          "metadata": {},
          "output_type": "execute_result"
        }
      ],
      "source": [
        "df_train['onpromotion'].value_counts()"
      ]
    },
    {
      "cell_type": "code",
      "execution_count": 52,
      "metadata": {
        "colab": {
          "base_uri": "https://localhost:8080/",
          "height": 147
        },
        "id": "D9JDJeKV1A_A",
        "outputId": "4cf915f7-d66f-44da-a021-812d10fbfb10"
      },
      "outputs": [
        {
          "data": {
            "text/plain": [
              "date          0\n",
              "dcoilwtico    0\n",
              "dtype: int64"
            ]
          },
          "execution_count": 52,
          "metadata": {},
          "output_type": "execute_result"
        }
      ],
      "source": [
        "df_oil.isnull().sum()"
      ]
    },
    {
      "cell_type": "markdown",
      "metadata": {},
      "source": [
        "#### Visualize the oil prices with missing values"
      ]
    },
    {
      "cell_type": "code",
      "execution_count": 55,
      "metadata": {},
      "outputs": [
        {
          "data": {
            "image/png": "[encoded data removed]",
            "text/plain": [
              "<Figure size 800x500 with 1 Axes>"
            ]
          },
          "metadata": {},
          "output_type": "display_data"
        }
      ],
      "source": [
        "plt.figure(figsize=(8,5))\n",
        "plt.plot(df_oil['date'], df_oil['dcoilwtico'])\n",
        "plt.title('Oil Prices Over time with Missing Values')\n",
        "plt.xlabel('Date')\n",
        "plt.ylabel('Oil Price (USD)')\n",
        "plt.grid(True)\n",
        "plt.show()"
      ]
    },
    {
      "cell_type": "markdown",
      "metadata": {
        "id": "rj05OSnn1dUO"
      },
      "source": [
        "### The dcoilwtico column has missing values which are filled using linear interpolation.\n",
        "\n",
        "This method is suitable because oil prices typically change smoothly over time. Interpolation ensures no gaps remain without introducing bias from forward or backward filling alone."
      ]
    },
    {
      "cell_type": "code",
      "execution_count": 50,
      "metadata": {
        "colab": {
          "base_uri": "https://localhost:8080/",
          "height": 147
        },
        "id": "6l6NwKOZ1Ukv",
        "outputId": "90652fbe-276f-4685-98e0-39f93e29539d"
      },
      "outputs": [
        {
          "data": {
            "text/plain": [
              "date          0\n",
              "dcoilwtico    0\n",
              "dtype: int64"
            ]
          },
          "execution_count": 50,
          "metadata": {},
          "output_type": "execute_result"
        }
      ],
      "source": [
        "# Filling null value using linear interpolation  method for oil price in oil dataset\n",
        "df_oil['dcoilwtico'] = df_oil['dcoilwtico'].interpolate(method='linear', limit_direction='both')\n",
        "df_oil.isnull().sum()"
      ]
    },
    {
      "cell_type": "markdown",
      "metadata": {
        "id": "Y1JxdsAqIKMZ"
      },
      "source": [
        "### Visualize the oil prices after missing value imputation are plotted to verify the effectiveness of the interpolation."
      ]
    },
    {
      "cell_type": "code",
      "execution_count": null,
      "metadata": {
        "ExecuteTime": {
          "end_time": "2025-05-03T09:48:48.689769Z",
          "start_time": "2025-05-03T09:48:45.422996Z"
        },
        "colab": {
          "base_uri": "https://localhost:8080/"
        },
        "id": "bBcvmSmFov0D",
        "outputId": "714017cd-4a36-43af-8026-f3c1510b579c"
      },
      "outputs": [
        {
          "data": {
            "image/png": "[encoded data removed]",
            "text/plain": [
              "<Figure size 800x500 with 1 Axes>"
            ]
          },
          "metadata": {},
          "output_type": "display_data"
        }
      ],
      "source": [
        "plt.figure(figsize=(8,5))\n",
        "plt.plot(df_oil['date'], df_oil['dcoilwtico'])\n",
        "plt.title('Oil Prices Over time with Missing Values')\n",
        "plt.xlabel('Date')\n",
        "plt.ylabel('Oil Price (USD)')\n",
        "plt.grid(True)\n",
        "plt.show()"
      ]
    },
    {
      "cell_type": "markdown",
      "metadata": {
        "id": "j4W4P2Hcoa2j"
      },
      "source": [
        "Now we can see how oil price changes over time after we handle missing values."
      ]
    },
    {
      "cell_type": "markdown",
      "metadata": {
        "id": "N-YxdTGQ14wn"
      },
      "source": [
        "## Handling Negative Sales and Outliers"
      ]
    },
    {
      "cell_type": "markdown",
      "metadata": {
        "id": "DkuqLWi3JEBY"
      },
      "source": [
        "#### Negative Sales Handling\n",
        "\n",
        "Negative sales values in unit_sales likely represent product returns. These are replaced with zero to reflect no sales rather than negative quantities."
      ]
    },
    {
      "cell_type": "code",
      "execution_count": 56,
      "metadata": {
        "colab": {
          "base_uri": "https://localhost:8080/",
          "height": 224
        },
        "id": "WXIS4ve918vP",
        "outputId": "f252ec56-c8a6-4b87-ce4a-0d90626c586a"
      },
      "outputs": [
        {
          "name": "stdout",
          "output_type": "stream",
          "text": [
            "Total negative sale 794\n"
          ]
        },
        {
          "data": {
            "text/html": [
              "<div>\n",
              "<style scoped>\n",
              "    .dataframe tbody tr th:only-of-type {\n",
              "        vertical-align: middle;\n",
              "    }\n",
              "\n",
              "    .dataframe tbody tr th {\n",
              "        vertical-align: top;\n",
              "    }\n",
              "\n",
              "    .dataframe thead th {\n",
              "        text-align: right;\n",
              "    }\n",
              "</style>\n",
              "<table border=\"1\" class=\"dataframe\">\n",
              "  <thead>\n",
              "    <tr style=\"text-align: right;\">\n",
              "      <th></th>\n",
              "      <th>id</th>\n",
              "      <th>date</th>\n",
              "      <th>store_nbr</th>\n",
              "      <th>item_nbr</th>\n",
              "      <th>unit_sales</th>\n",
              "      <th>onpromotion</th>\n",
              "    </tr>\n",
              "  </thead>\n",
              "  <tbody>\n",
              "    <tr>\n",
              "      <th>13289</th>\n",
              "      <td>106658</td>\n",
              "      <td>2013-01-04</td>\n",
              "      <td>34</td>\n",
              "      <td>586824</td>\n",
              "      <td>-2.0</td>\n",
              "      <td>0</td>\n",
              "    </tr>\n",
              "    <tr>\n",
              "      <th>38690</th>\n",
              "      <td>309805</td>\n",
              "      <td>2013-01-09</td>\n",
              "      <td>35</td>\n",
              "      <td>1079215</td>\n",
              "      <td>-8.0</td>\n",
              "      <td>0</td>\n",
              "    </tr>\n",
              "    <tr>\n",
              "      <th>45715</th>\n",
              "      <td>382905</td>\n",
              "      <td>2013-01-11</td>\n",
              "      <td>27</td>\n",
              "      <td>1097187</td>\n",
              "      <td>-20.0</td>\n",
              "      <td>0</td>\n",
              "    </tr>\n",
              "    <tr>\n",
              "      <th>68451</th>\n",
              "      <td>564108</td>\n",
              "      <td>2013-01-15</td>\n",
              "      <td>51</td>\n",
              "      <td>627885</td>\n",
              "      <td>-36.0</td>\n",
              "      <td>0</td>\n",
              "    </tr>\n",
              "    <tr>\n",
              "      <th>94237</th>\n",
              "      <td>787522</td>\n",
              "      <td>2013-01-21</td>\n",
              "      <td>24</td>\n",
              "      <td>211205</td>\n",
              "      <td>-5.0</td>\n",
              "      <td>0</td>\n",
              "    </tr>\n",
              "  </tbody>\n",
              "</table>\n",
              "</div>"
            ],
            "text/plain": [
              "           id        date  store_nbr  item_nbr  unit_sales  onpromotion\n",
              "13289  106658  2013-01-04         34    586824        -2.0            0\n",
              "38690  309805  2013-01-09         35   1079215        -8.0            0\n",
              "45715  382905  2013-01-11         27   1097187       -20.0            0\n",
              "68451  564108  2013-01-15         51    627885       -36.0            0\n",
              "94237  787522  2013-01-21         24    211205        -5.0            0"
            ]
          },
          "execution_count": 56,
          "metadata": {},
          "output_type": "execute_result"
        }
      ],
      "source": [
        "# Check negative sales from store\n",
        "negative_sales = df_train[df_train['unit_sales'] < 0]\n",
        "print('Total negative sale',len(negative_sales))\n",
        "negative_sales.head()"
      ]
    },
    {
      "cell_type": "code",
      "execution_count": 57,
      "metadata": {
        "colab": {
          "base_uri": "https://localhost:8080/",
          "height": 53
        },
        "id": "Xg0S-nlp2Rck",
        "outputId": "8f3f2b6e-88a2-4f89-8484-c9890e9511bc"
      },
      "outputs": [
        {
          "data": {
            "text/html": [
              "<div>\n",
              "<style scoped>\n",
              "    .dataframe tbody tr th:only-of-type {\n",
              "        vertical-align: middle;\n",
              "    }\n",
              "\n",
              "    .dataframe tbody tr th {\n",
              "        vertical-align: top;\n",
              "    }\n",
              "\n",
              "    .dataframe thead th {\n",
              "        text-align: right;\n",
              "    }\n",
              "</style>\n",
              "<table border=\"1\" class=\"dataframe\">\n",
              "  <thead>\n",
              "    <tr style=\"text-align: right;\">\n",
              "      <th></th>\n",
              "      <th>id</th>\n",
              "      <th>date</th>\n",
              "      <th>store_nbr</th>\n",
              "      <th>item_nbr</th>\n",
              "      <th>unit_sales</th>\n",
              "      <th>onpromotion</th>\n",
              "    </tr>\n",
              "  </thead>\n",
              "  <tbody>\n",
              "  </tbody>\n",
              "</table>\n",
              "</div>"
            ],
            "text/plain": [
              "Empty DataFrame\n",
              "Columns: [id, date, store_nbr, item_nbr, unit_sales, onpromotion]\n",
              "Index: []"
            ]
          },
          "execution_count": 57,
          "metadata": {},
          "output_type": "execute_result"
        }
      ],
      "source": [
        "# Replacing negative sales with 0 to reflect returns as non-sales\n",
        "df_train['unit_sales'] = df_train['unit_sales'].apply(lambda x: 0 if x < 0 else x)\n",
        "df_train[df_train['unit_sales'] < 0]"
      ]
    },
    {
      "cell_type": "code",
      "execution_count": 58,
      "metadata": {
        "colab": {
          "base_uri": "https://localhost:8080/"
        },
        "id": "ImleDUNrT5G8",
        "outputId": "7094a49b-38b9-40af-f26d-55af3ecad980"
      },
      "outputs": [
        {
          "name": "stdout",
          "output_type": "stream",
          "text": [
            "Unique store number 11\n",
            "Uniques items number 2323\n"
          ]
        }
      ],
      "source": [
        "print('Unique store number',df_train['store_nbr'].nunique())\n",
        "print('Uniques items number',df_train['item_nbr'].nunique())"
      ]
    },
    {
      "cell_type": "markdown",
      "metadata": {
        "id": "lVI2cmMiJeaf"
      },
      "source": [
        "#### Visualize total unit sales across all years\n",
        "\n",
        "Aggregate total unit sales by date and plot the trend to visualize sales over time."
      ]
    },
    {
      "cell_type": "code",
      "execution_count": 59,
      "metadata": {
        "colab": {
          "base_uri": "https://localhost:8080/",
          "height": 607
        },
        "id": "sPWCwrOiUDXb",
        "outputId": "da2e87b5-ffa4-429b-b573-12c6004eb094"
      },
      "outputs": [
        {
          "data": {
            "image/png": "[encoded data removed]",
            "text/plain": [
              "<Figure size 1200x600 with 1 Axes>"
            ]
          },
          "metadata": {},
          "output_type": "display_data"
        }
      ],
      "source": [
        "# Total unit_sales by date\n",
        "df_train_= df_train.copy()\n",
        "df_train_['date'] = pd.to_datetime(df_train_['date'])\n",
        "sales_by_date = df_train_.groupby('date')['unit_sales'].sum()\n",
        "\n",
        "# Plotting the time-series\n",
        "plt.figure(figsize=(12, 6))\n",
        "plt.plot(sales_by_date.index, sales_by_date.values, label='Unit Sales', color='blue')\n",
        "plt.title('Total Unit Sales Over Time', fontsize=20)\n",
        "plt.xlabel('Date', fontsize=16)\n",
        "plt.ylabel('Unit Sales', fontsize=16)\n",
        "plt.xticks(fontsize=14, rotation=45)\n",
        "plt.yticks(fontsize=14)\n",
        "plt.grid(True)\n",
        "plt.legend(fontsize=14)\n",
        "plt.tight_layout()\n",
        "plt.show()"
      ]
    },
    {
      "cell_type": "markdown",
      "metadata": {
        "id": "_i1PLSlTUVtb"
      },
      "source": [
        "### Outlier Detection\n"
      ]
    },
    {
      "cell_type": "markdown",
      "metadata": {
        "id": "suZ10AXqGgtV"
      },
      "source": [
        "Extreme sales values can skew analysis. Here, we calculate the Z-score of unit_sales for each store-item combination to identify outliers (Z-score > 5)"
      ]
    },
    {
      "cell_type": "code",
      "execution_count": null,
      "metadata": {
        "id": "MQJpTcZaOz0F"
      },
      "outputs": [
        {
          "name": "stderr",
          "output_type": "stream",
          "text": [
            "/var/folders/mh/fgvwq54x3dlg6k690k5t0qvh0000gn/T/ipykernel_2501/2732742574.py:13: DeprecationWarning: DataFrameGroupBy.apply operated on the grouping columns. This behavior is deprecated, and in a future version of pandas the grouping columns will be excluded from the operation. Either pass `include_groups=False` to exclude the groupings or explicitly select the grouping columns after groupby to silence this warning.\n",
            "  df_train_grouped = df_train.groupby(['store_nbr', 'item_nbr']).apply(calculate_zscore).reset_index(drop=True)\n"
          ]
        },
        {
          "name": "stdout",
          "output_type": "stream",
          "text": [
            "40.233445178271495\n",
            "-3.326945477937883\n",
            "-2.6562803709245293e-19\n",
            "0.9992736931843065\n",
            " Number of outliers: 14745768\n"
          ]
        }
      ],
      "source": [
        "# Function to calculate Z-score\n",
        "# Group by store and item to calculate sales mean and standard deviation for each store-item group\n",
        "\n",
        "def calculate_zscore(group):\n",
        "  mean_sales = group['unit_sales'].mean()\n",
        "  std_sales = group['unit_sales'].std()\n",
        "\n",
        "  # Calculate Z-score (avoiding division by zero for standard deviation)\n",
        "  group['z_score'] = (group['unit_sales'] - mean_sales) / (std_sales if std_sales != 0 else 1)\n",
        "  return group\n",
        "\n",
        "# Apply the Z-score calculation for each store-item group\n",
        "df_train_grouped = df_train.groupby(['store_nbr', 'item_nbr']).apply(calculate_zscore).reset_index(drop=True)\n",
        "\n",
        "print(df_train_grouped['z_score'].max())\n",
        "print(df_train_grouped['z_score'].min())\n",
        "print(df_train_grouped['z_score'].mean())\n",
        "print(df_train_grouped['z_score'].std())\n",
        "\n",
        "df_train['outlier'] = (df_train_grouped['z_score'] > 5).astype(int)\n",
        "print(f\"Number of outliers: {len(df_train['outlier'])}\")\n",
        "\n",
        "\n"
      ]
    },
    {
      "cell_type": "code",
      "execution_count": 68,
      "metadata": {
        "colab": {
          "base_uri": "https://localhost:8080/"
        },
        "id": "HQE4keyHW8i7",
        "outputId": "35f13a6d-25ca-43db-f55e-cd4e09b7bb3e"
      },
      "outputs": [
        {
          "name": "stdout",
          "output_type": "stream",
          "text": [
            "\n",
            " Duplicates values\n",
            " 0\n",
            "\n",
            " Unique values\n",
            " id             14745768\n",
            "date               1680\n",
            "store_nbr            11\n",
            "item_nbr           2323\n",
            "unit_sales         4467\n",
            "onpromotion           2\n",
            "outlier               2\n",
            "z_score          461906\n",
            "dtype: int64\n",
            "\n",
            " Zero sales count \n",
            " 794\n"
          ]
        }
      ],
      "source": [
        "#print('Check null value\\n', df_train_grouped.isnull().sum())\n",
        "\n",
        "# Check for duplicates\n",
        "duplicates = df_train_grouped.duplicated().sum()\n",
        "print('\\n Duplicates values\\n', duplicates)\n",
        "print('\\n Unique values\\n', df_train_grouped.nunique())\n",
        "print('\\n Zero sales count \\n',len(df_train_grouped[df_train_grouped['unit_sales']==0]))"
      ]
    },
    {
      "cell_type": "markdown",
      "metadata": {
        "id": "pqdVyaacwhOb"
      },
      "source": [
        "There are many outliers but they don't look like errors. These are just big sales.\n"
      ]
    },
    {
      "cell_type": "markdown",
      "metadata": {
        "id": "vNCa8hdsQQHi"
      },
      "source": [
        "### Filling Missing Dates and Analyse Zero Sales"
      ]
    },
    {
      "cell_type": "markdown",
      "metadata": {
        "id": "YCt-IkYiSFq2"
      },
      "source": [
        "To ensure uniform time-series data, we generate all possible store-item-date combinations. Missing unit sales are filled with 0."
      ]
    },
    {
      "cell_type": "code",
      "execution_count": 69,
      "metadata": {
        "colab": {
          "base_uri": "https://localhost:8080/",
          "height": 459
        },
        "id": "Cmu9x9nEQi8c",
        "outputId": "1ce8972d-1966-4922-d41e-380809434d20"
      },
      "outputs": [
        {
          "name": "stdout",
          "output_type": "stream",
          "text": [
            "Minimum Date 2013-01-02 00:00:00\n",
            "Maximum Date 2017-08-15 00:00:00\n"
          ]
        },
        {
          "data": {
            "text/html": [
              "<div>\n",
              "<style scoped>\n",
              "    .dataframe tbody tr th:only-of-type {\n",
              "        vertical-align: middle;\n",
              "    }\n",
              "\n",
              "    .dataframe tbody tr th {\n",
              "        vertical-align: top;\n",
              "    }\n",
              "\n",
              "    .dataframe thead th {\n",
              "        text-align: right;\n",
              "    }\n",
              "</style>\n",
              "<table border=\"1\" class=\"dataframe\">\n",
              "  <thead>\n",
              "    <tr style=\"text-align: right;\">\n",
              "      <th></th>\n",
              "      <th>date</th>\n",
              "    </tr>\n",
              "  </thead>\n",
              "  <tbody>\n",
              "    <tr>\n",
              "      <th>0</th>\n",
              "      <td>2013-01-02</td>\n",
              "    </tr>\n",
              "    <tr>\n",
              "      <th>1</th>\n",
              "      <td>2013-01-03</td>\n",
              "    </tr>\n",
              "    <tr>\n",
              "      <th>2</th>\n",
              "      <td>2013-01-04</td>\n",
              "    </tr>\n",
              "    <tr>\n",
              "      <th>3</th>\n",
              "      <td>2013-01-05</td>\n",
              "    </tr>\n",
              "    <tr>\n",
              "      <th>4</th>\n",
              "      <td>2013-01-06</td>\n",
              "    </tr>\n",
              "    <tr>\n",
              "      <th>...</th>\n",
              "      <td>...</td>\n",
              "    </tr>\n",
              "    <tr>\n",
              "      <th>1682</th>\n",
              "      <td>2017-08-11</td>\n",
              "    </tr>\n",
              "    <tr>\n",
              "      <th>1683</th>\n",
              "      <td>2017-08-12</td>\n",
              "    </tr>\n",
              "    <tr>\n",
              "      <th>1684</th>\n",
              "      <td>2017-08-13</td>\n",
              "    </tr>\n",
              "    <tr>\n",
              "      <th>1685</th>\n",
              "      <td>2017-08-14</td>\n",
              "    </tr>\n",
              "    <tr>\n",
              "      <th>1686</th>\n",
              "      <td>2017-08-15</td>\n",
              "    </tr>\n",
              "  </tbody>\n",
              "</table>\n",
              "<p>1687 rows × 1 columns</p>\n",
              "</div>"
            ],
            "text/plain": [
              "           date\n",
              "0    2013-01-02\n",
              "1    2013-01-03\n",
              "2    2013-01-04\n",
              "3    2013-01-05\n",
              "4    2013-01-06\n",
              "...         ...\n",
              "1682 2017-08-11\n",
              "1683 2017-08-12\n",
              "1684 2017-08-13\n",
              "1685 2017-08-14\n",
              "1686 2017-08-15\n",
              "\n",
              "[1687 rows x 1 columns]"
            ]
          },
          "execution_count": 69,
          "metadata": {},
          "output_type": "execute_result"
        }
      ],
      "source": [
        "#Fill Missing Dates: ensures every store-item has sales values for every date.\n",
        "\n",
        "df_train['date'] = pd.to_datetime(df_train['date'])\n",
        "\n",
        "# Get the minimum and maximum dates to create full date\n",
        "min_date = df_train['date'].min()\n",
        "max_date = df_train['date'].max()\n",
        "print('Minimum Date',min_date)\n",
        "print('Maximum Date',max_date)\n",
        "\n",
        "full_range = pd.date_range(start=min_date, end=max_date, freq='D')\n",
        "full_range_df= pd.DataFrame({'date': full_range})\n",
        "full_range_df"
      ]
    },
    {
      "cell_type": "code",
      "execution_count": 74,
      "metadata": {
        "colab": {
          "base_uri": "https://localhost:8080/",
          "height": 331
        },
        "id": "MSnonl3-RH2X",
        "outputId": "3e8209dd-887d-46d7-f63d-9482b5557881"
      },
      "outputs": [
        {
          "name": "stdout",
          "output_type": "stream",
          "text": [
            "The duplicates shape is Empty DataFrame\n",
            "Columns: [store_nbr, item_nbr]\n",
            "Index: []\n",
            "store_nbr    0\n",
            "item_nbr     0\n",
            "date         0\n",
            "dtype: int64\n"
          ]
        },
        {
          "data": {
            "text/html": [
              "<div>\n",
              "<style scoped>\n",
              "    .dataframe tbody tr th:only-of-type {\n",
              "        vertical-align: middle;\n",
              "    }\n",
              "\n",
              "    .dataframe tbody tr th {\n",
              "        vertical-align: top;\n",
              "    }\n",
              "\n",
              "    .dataframe thead th {\n",
              "        text-align: right;\n",
              "    }\n",
              "</style>\n",
              "<table border=\"1\" class=\"dataframe\">\n",
              "  <thead>\n",
              "    <tr style=\"text-align: right;\">\n",
              "      <th></th>\n",
              "      <th>store_nbr</th>\n",
              "      <th>item_nbr</th>\n",
              "      <th>date</th>\n",
              "    </tr>\n",
              "  </thead>\n",
              "  <tbody>\n",
              "    <tr>\n",
              "      <th>0</th>\n",
              "      <td>24</td>\n",
              "      <td>105574</td>\n",
              "      <td>2013-01-02</td>\n",
              "    </tr>\n",
              "    <tr>\n",
              "      <th>1</th>\n",
              "      <td>24</td>\n",
              "      <td>105574</td>\n",
              "      <td>2013-01-03</td>\n",
              "    </tr>\n",
              "    <tr>\n",
              "      <th>2</th>\n",
              "      <td>24</td>\n",
              "      <td>105574</td>\n",
              "      <td>2013-01-04</td>\n",
              "    </tr>\n",
              "    <tr>\n",
              "      <th>3</th>\n",
              "      <td>24</td>\n",
              "      <td>105574</td>\n",
              "      <td>2013-01-05</td>\n",
              "    </tr>\n",
              "    <tr>\n",
              "      <th>4</th>\n",
              "      <td>24</td>\n",
              "      <td>105574</td>\n",
              "      <td>2013-01-06</td>\n",
              "    </tr>\n",
              "  </tbody>\n",
              "</table>\n",
              "</div>"
            ],
            "text/plain": [
              "   store_nbr  item_nbr       date\n",
              "0         24    105574 2013-01-02\n",
              "1         24    105574 2013-01-03\n",
              "2         24    105574 2013-01-04\n",
              "3         24    105574 2013-01-05\n",
              "4         24    105574 2013-01-06"
            ]
          },
          "execution_count": 74,
          "metadata": {},
          "output_type": "execute_result"
        }
      ],
      "source": [
        "# Create Full (Store, Item, Date) Grid and Fill Missing Sales with 0\n",
        "\n",
        "store_item_combos=df_train[['store_nbr','item_nbr']].drop_duplicates()\n",
        "duplicates = store_item_combos[store_item_combos.duplicated()]\n",
        "print('The duplicates shape is',duplicates)\n",
        "\n",
        "full_combinations = store_item_combos.merge(full_range_df, how='cross')\n",
        "print(full_combinations.isnull().sum())\n",
        "full_combinations.head(5)"
      ]
    },
    {
      "cell_type": "code",
      "execution_count": 76,
      "metadata": {
        "colab": {
          "base_uri": "https://localhost:8080/",
          "height": 796
        },
        "id": "49oJOlVFR9rM",
        "outputId": "06f6ef62-9e82-43e3-87be-53a32f4bd34c"
      },
      "outputs": [],
      "source": [
        "# Merge with original data to fill missing dates\n",
        "df_full = full_combinations.merge(df_train, on=['store_nbr', 'item_nbr', 'date'], how='left')\n",
        "\n",
        "# Fill missing sales values with 0\n",
        "df_full['unit_sales'] = df_full['unit_sales'].fillna(0)\n",
        "df_full['onpromotion'] = df_full['onpromotion'].fillna(0).astype(int)\n",
        "df_full['outlier'] = df_full['outlier'].fillna(0).astype(int)"
      ]
    },
    {
      "cell_type": "code",
      "execution_count": null,
      "metadata": {},
      "outputs": [
        {
          "data": {
            "image/png": "[encoded data removed]",
            "text/plain": [
              "<Figure size 1200x600 with 1 Axes>"
            ]
          },
          "metadata": {},
          "output_type": "display_data"
        },
        {
          "data": {
            "text/html": [
              "<div>\n",
              "<style scoped>\n",
              "    .dataframe tbody tr th:only-of-type {\n",
              "        vertical-align: middle;\n",
              "    }\n",
              "\n",
              "    .dataframe tbody tr th {\n",
              "        vertical-align: top;\n",
              "    }\n",
              "\n",
              "    .dataframe thead th {\n",
              "        text-align: right;\n",
              "    }\n",
              "</style>\n",
              "<table border=\"1\" class=\"dataframe\">\n",
              "  <thead>\n",
              "    <tr style=\"text-align: right;\">\n",
              "      <th></th>\n",
              "      <th>store_nbr</th>\n",
              "      <th>item_nbr</th>\n",
              "      <th>date</th>\n",
              "      <th>id</th>\n",
              "      <th>unit_sales</th>\n",
              "      <th>onpromotion</th>\n",
              "      <th>outlier</th>\n",
              "    </tr>\n",
              "  </thead>\n",
              "  <tbody>\n",
              "    <tr>\n",
              "      <th>0</th>\n",
              "      <td>24</td>\n",
              "      <td>105574</td>\n",
              "      <td>2013-01-02</td>\n",
              "      <td>18790.0</td>\n",
              "      <td>12.0</td>\n",
              "      <td>0</td>\n",
              "      <td>0</td>\n",
              "    </tr>\n",
              "    <tr>\n",
              "      <th>1</th>\n",
              "      <td>24</td>\n",
              "      <td>105574</td>\n",
              "      <td>2013-01-03</td>\n",
              "      <td>59692.0</td>\n",
              "      <td>1.0</td>\n",
              "      <td>0</td>\n",
              "      <td>0</td>\n",
              "    </tr>\n",
              "    <tr>\n",
              "      <th>2</th>\n",
              "      <td>24</td>\n",
              "      <td>105574</td>\n",
              "      <td>2013-01-04</td>\n",
              "      <td>99664.0</td>\n",
              "      <td>3.0</td>\n",
              "      <td>0</td>\n",
              "      <td>0</td>\n",
              "    </tr>\n",
              "    <tr>\n",
              "      <th>3</th>\n",
              "      <td>24</td>\n",
              "      <td>105574</td>\n",
              "      <td>2013-01-05</td>\n",
              "      <td>140805.0</td>\n",
              "      <td>4.0</td>\n",
              "      <td>0</td>\n",
              "      <td>0</td>\n",
              "    </tr>\n",
              "    <tr>\n",
              "      <th>4</th>\n",
              "      <td>24</td>\n",
              "      <td>105574</td>\n",
              "      <td>2013-01-06</td>\n",
              "      <td>182800.0</td>\n",
              "      <td>7.0</td>\n",
              "      <td>0</td>\n",
              "      <td>0</td>\n",
              "    </tr>\n",
              "  </tbody>\n",
              "</table>\n",
              "</div>"
            ],
            "text/plain": [
              "   store_nbr  item_nbr       date        id  unit_sales  onpromotion  outlier\n",
              "0         24    105574 2013-01-02   18790.0        12.0            0        0\n",
              "1         24    105574 2013-01-03   59692.0         1.0            0        0\n",
              "2         24    105574 2013-01-04   99664.0         3.0            0        0\n",
              "3         24    105574 2013-01-05  140805.0         4.0            0        0\n",
              "4         24    105574 2013-01-06  182800.0         7.0            0        0"
            ]
          },
          "execution_count": 77,
          "metadata": {},
          "output_type": "execute_result"
        }
      ],
      "source": [
        "# Visualize total unit_sales vs date\n",
        "\n",
        "plt.figure(figsize=(12, 6))\n",
        "plt.plot(df_full['date'], df_full['unit_sales'], alpha=0.6)\n",
        "plt.xlabel('Date', fontsize=14)\n",
        "plt.ylabel('Unit Sales', fontsize=14)\n",
        "plt.title('Unit Sales vs Date', fontsize=16)\n",
        "plt.grid(True)\n",
        "plt.tight_layout()\n",
        "plt.show()\n",
        "df_full.head(5)"
      ]
    },
    {
      "cell_type": "markdown",
      "metadata": {
        "id": "gd3GVRDmTDIW"
      },
      "source": [
        "## Adding External Features\n",
        "\n",
        "Oil Prices (dcoilwtico): Fetched from an external dataset, missing values filled using linear interpolation.\n",
        "\n",
        "Transactions (transactions): Represents customer traffic, missing values filled with 0.\n",
        "\n",
        "Holiday & Event Flags (is_holiday, is_event): Regional indicators merged based on date, duplicates resolved."
      ]
    },
    {
      "cell_type": "code",
      "execution_count": 23,
      "metadata": {
        "colab": {
          "base_uri": "https://localhost:8080/",
          "height": 206
        },
        "id": "h2XaGg5UUkNk",
        "outputId": "cd29d421-a43f-4ebb-9c40-0d10196d5a9d"
      },
      "outputs": [
        {
          "data": {
            "text/html": [
              "<div>\n",
              "<style scoped>\n",
              "    .dataframe tbody tr th:only-of-type {\n",
              "        vertical-align: middle;\n",
              "    }\n",
              "\n",
              "    .dataframe tbody tr th {\n",
              "        vertical-align: top;\n",
              "    }\n",
              "\n",
              "    .dataframe thead th {\n",
              "        text-align: right;\n",
              "    }\n",
              "</style>\n",
              "<table border=\"1\" class=\"dataframe\">\n",
              "  <thead>\n",
              "    <tr style=\"text-align: right;\">\n",
              "      <th></th>\n",
              "      <th>store_nbr</th>\n",
              "      <th>item_nbr</th>\n",
              "      <th>date</th>\n",
              "      <th>id</th>\n",
              "      <th>unit_sales</th>\n",
              "      <th>onpromotion</th>\n",
              "      <th>outlier</th>\n",
              "      <th>dcoilwtico</th>\n",
              "    </tr>\n",
              "  </thead>\n",
              "  <tbody>\n",
              "    <tr>\n",
              "      <th>0</th>\n",
              "      <td>24</td>\n",
              "      <td>105574</td>\n",
              "      <td>2013-01-02</td>\n",
              "      <td>18790.0</td>\n",
              "      <td>12.0</td>\n",
              "      <td>0</td>\n",
              "      <td>0</td>\n",
              "      <td>93.14</td>\n",
              "    </tr>\n",
              "    <tr>\n",
              "      <th>1</th>\n",
              "      <td>24</td>\n",
              "      <td>105574</td>\n",
              "      <td>2013-01-03</td>\n",
              "      <td>59692.0</td>\n",
              "      <td>1.0</td>\n",
              "      <td>0</td>\n",
              "      <td>0</td>\n",
              "      <td>92.97</td>\n",
              "    </tr>\n",
              "    <tr>\n",
              "      <th>2</th>\n",
              "      <td>24</td>\n",
              "      <td>105574</td>\n",
              "      <td>2013-01-04</td>\n",
              "      <td>99664.0</td>\n",
              "      <td>3.0</td>\n",
              "      <td>0</td>\n",
              "      <td>0</td>\n",
              "      <td>93.12</td>\n",
              "    </tr>\n",
              "    <tr>\n",
              "      <th>3</th>\n",
              "      <td>24</td>\n",
              "      <td>105574</td>\n",
              "      <td>2013-01-05</td>\n",
              "      <td>140805.0</td>\n",
              "      <td>4.0</td>\n",
              "      <td>0</td>\n",
              "      <td>0</td>\n",
              "      <td>NaN</td>\n",
              "    </tr>\n",
              "    <tr>\n",
              "      <th>4</th>\n",
              "      <td>24</td>\n",
              "      <td>105574</td>\n",
              "      <td>2013-01-06</td>\n",
              "      <td>182800.0</td>\n",
              "      <td>7.0</td>\n",
              "      <td>0</td>\n",
              "      <td>0</td>\n",
              "      <td>NaN</td>\n",
              "    </tr>\n",
              "  </tbody>\n",
              "</table>\n",
              "</div>"
            ],
            "text/plain": [
              "   store_nbr  item_nbr       date        id  unit_sales  onpromotion  outlier  \\\n",
              "0         24    105574 2013-01-02   18790.0        12.0            0        0   \n",
              "1         24    105574 2013-01-03   59692.0         1.0            0        0   \n",
              "2         24    105574 2013-01-04   99664.0         3.0            0        0   \n",
              "3         24    105574 2013-01-05  140805.0         4.0            0        0   \n",
              "4         24    105574 2013-01-06  182800.0         7.0            0        0   \n",
              "\n",
              "   dcoilwtico  \n",
              "0       93.14  \n",
              "1       92.97  \n",
              "2       93.12  \n",
              "3         NaN  \n",
              "4         NaN  "
            ]
          },
          "execution_count": 23,
          "metadata": {},
          "output_type": "execute_result"
        }
      ],
      "source": [
        "#Add Oil Prices (Feature Engineering)\n",
        "df_oil['date'] = pd.to_datetime(df_oil['date'])\n",
        "df_full['date'] = pd.to_datetime(df_full['date'])\n",
        "\n",
        "#df_oil['dcoilwtico'] = df_oil['dcoilwtico'].interpolate(method='linear', limit_direction='both')\n",
        "df_full = df_full.merge(df_oil, on='date', how='left')\n",
        "df_full.head()"
      ]
    },
    {
      "cell_type": "code",
      "execution_count": 78,
      "metadata": {
        "colab": {
          "base_uri": "https://localhost:8080/",
          "height": 474
        },
        "id": "Iwe-e1L6Ungp",
        "outputId": "051d621d-55b2-46d5-e822-743f0f2eb2e3"
      },
      "outputs": [
        {
          "name": "stdout",
          "output_type": "stream",
          "text": [
            "Store shape is  (11, 5)\n",
            "store number in Guayas\n",
            " [24, 26, 27, 28, 29, 30, 32, 34, 35, 36, 51]\n"
          ]
        },
        {
          "name": "stderr",
          "output_type": "stream",
          "text": [
            "/var/folders/mh/fgvwq54x3dlg6k690k5t0qvh0000gn/T/ipykernel_2501/2250081479.py:14: SettingWithCopyWarning: \n",
            "A value is trying to be set on a copy of a slice from a DataFrame.\n",
            "Try using .loc[row_indexer,col_indexer] = value instead\n",
            "\n",
            "See the caveats in the documentation: https://pandas.pydata.org/pandas-docs/stable/user_guide/indexing.html#returning-a-view-versus-a-copy\n",
            "  df_transactions_guayas['date'] = pd.to_datetime(df_transactions_guayas['date'])\n",
            "/var/folders/mh/fgvwq54x3dlg6k690k5t0qvh0000gn/T/ipykernel_2501/2250081479.py:18: SettingWithCopyWarning: \n",
            "A value is trying to be set on a copy of a slice from a DataFrame.\n",
            "Try using .loc[row_indexer,col_indexer] = value instead\n",
            "\n",
            "See the caveats in the documentation: https://pandas.pydata.org/pandas-docs/stable/user_guide/indexing.html#returning-a-view-versus-a-copy\n",
            "  df_transactions_guayas['date'] = pd.to_datetime(df_transactions_guayas['date'])\n"
          ]
        },
        {
          "data": {
            "text/html": [
              "<div>\n",
              "<style scoped>\n",
              "    .dataframe tbody tr th:only-of-type {\n",
              "        vertical-align: middle;\n",
              "    }\n",
              "\n",
              "    .dataframe tbody tr th {\n",
              "        vertical-align: top;\n",
              "    }\n",
              "\n",
              "    .dataframe thead th {\n",
              "        text-align: right;\n",
              "    }\n",
              "</style>\n",
              "<table border=\"1\" class=\"dataframe\">\n",
              "  <thead>\n",
              "    <tr style=\"text-align: right;\">\n",
              "      <th></th>\n",
              "      <th>store_nbr</th>\n",
              "      <th>item_nbr</th>\n",
              "      <th>date</th>\n",
              "      <th>id</th>\n",
              "      <th>unit_sales</th>\n",
              "      <th>onpromotion</th>\n",
              "      <th>outlier</th>\n",
              "      <th>transactions</th>\n",
              "    </tr>\n",
              "  </thead>\n",
              "  <tbody>\n",
              "    <tr>\n",
              "      <th>0</th>\n",
              "      <td>24</td>\n",
              "      <td>105574</td>\n",
              "      <td>2013-01-02</td>\n",
              "      <td>18790.0</td>\n",
              "      <td>12.0</td>\n",
              "      <td>0</td>\n",
              "      <td>0</td>\n",
              "      <td>2605</td>\n",
              "    </tr>\n",
              "    <tr>\n",
              "      <th>1</th>\n",
              "      <td>24</td>\n",
              "      <td>105574</td>\n",
              "      <td>2013-01-03</td>\n",
              "      <td>59692.0</td>\n",
              "      <td>1.0</td>\n",
              "      <td>0</td>\n",
              "      <td>0</td>\n",
              "      <td>2462</td>\n",
              "    </tr>\n",
              "    <tr>\n",
              "      <th>2</th>\n",
              "      <td>24</td>\n",
              "      <td>105574</td>\n",
              "      <td>2013-01-04</td>\n",
              "      <td>99664.0</td>\n",
              "      <td>3.0</td>\n",
              "      <td>0</td>\n",
              "      <td>0</td>\n",
              "      <td>2607</td>\n",
              "    </tr>\n",
              "    <tr>\n",
              "      <th>3</th>\n",
              "      <td>24</td>\n",
              "      <td>105574</td>\n",
              "      <td>2013-01-05</td>\n",
              "      <td>140805.0</td>\n",
              "      <td>4.0</td>\n",
              "      <td>0</td>\n",
              "      <td>0</td>\n",
              "      <td>2578</td>\n",
              "    </tr>\n",
              "    <tr>\n",
              "      <th>4</th>\n",
              "      <td>24</td>\n",
              "      <td>105574</td>\n",
              "      <td>2013-01-06</td>\n",
              "      <td>182800.0</td>\n",
              "      <td>7.0</td>\n",
              "      <td>0</td>\n",
              "      <td>0</td>\n",
              "      <td>2061</td>\n",
              "    </tr>\n",
              "  </tbody>\n",
              "</table>\n",
              "</div>"
            ],
            "text/plain": [
              "   store_nbr  item_nbr       date        id  unit_sales  onpromotion  outlier  \\\n",
              "0         24    105574 2013-01-02   18790.0        12.0            0        0   \n",
              "1         24    105574 2013-01-03   59692.0         1.0            0        0   \n",
              "2         24    105574 2013-01-04   99664.0         3.0            0        0   \n",
              "3         24    105574 2013-01-05  140805.0         4.0            0        0   \n",
              "4         24    105574 2013-01-06  182800.0         7.0            0        0   \n",
              "\n",
              "   transactions  \n",
              "0          2605  \n",
              "1          2462  \n",
              "2          2607  \n",
              "3          2578  \n",
              "4          2061  "
            ]
          },
          "execution_count": 78,
          "metadata": {},
          "output_type": "execute_result"
        }
      ],
      "source": [
        "#Add Store Transactions (Feature Engineering)\n",
        "\n",
        "#Filtered stores located in the Guayas state\n",
        "df_store_Guayas= df_stores[df_stores['state']=='Guayas']\n",
        "print('Store shape is ', df_store_Guayas.shape)\n",
        "\n",
        "#Extracted store numbers (store_nbr) for use in downstream tasks like sales or location-based filtering\n",
        "store_nbr_list_guayas = df_store_Guayas['store_nbr'].tolist()\n",
        "print('store number in Guayas\\n',store_nbr_list_guayas)\n",
        "store_nbr_list_guayas\n",
        "\n",
        "#Filter transactions for stores in Guayas\n",
        "df_transactions_guayas = df_transactions[df_transactions['store_nbr'].isin(store_nbr_list_guayas)]\n",
        "df_transactions_guayas['date'] = pd.to_datetime(df_transactions_guayas['date'])\n",
        "df_transactions_guayas\n",
        "\n",
        "\n",
        "df_transactions_guayas['date'] = pd.to_datetime(df_transactions_guayas['date'])\n",
        "df_full = df_full.merge(df_transactions_guayas, on=['store_nbr', 'date'], how='left')\n",
        "\n",
        "df_full['transactions'] = df_full['transactions'].fillna(0).astype(int)\n",
        "df_full.head()"
      ]
    },
    {
      "cell_type": "code",
      "execution_count": 84,
      "metadata": {
        "colab": {
          "base_uri": "https://localhost:8080/",
          "height": 694
        },
        "id": "nFQiqArXWY3-",
        "outputId": "ff61db9a-b04a-4d80-a4c1-cb4f5a004e3d"
      },
      "outputs": [
        {
          "name": "stdout",
          "output_type": "stream",
          "text": [
            "The filtered_holidays_guayas shape is (17, 8)\n",
            "the unique dates are 16\n"
          ]
        },
        {
          "name": "stderr",
          "output_type": "stream",
          "text": [
            "/var/folders/mh/fgvwq54x3dlg6k690k5t0qvh0000gn/T/ipykernel_2501/547115798.py:7: SettingWithCopyWarning: \n",
            "A value is trying to be set on a copy of a slice from a DataFrame.\n",
            "Try using .loc[row_indexer,col_indexer] = value instead\n",
            "\n",
            "See the caveats in the documentation: https://pandas.pydata.org/pandas-docs/stable/user_guide/indexing.html#returning-a-view-versus-a-copy\n",
            "  filtered_holidays_guayas['date'] = pd.to_datetime(filtered_holidays_guayas['date'])\n"
          ]
        },
        {
          "data": {
            "text/html": [
              "<div>\n",
              "<style scoped>\n",
              "    .dataframe tbody tr th:only-of-type {\n",
              "        vertical-align: middle;\n",
              "    }\n",
              "\n",
              "    .dataframe tbody tr th {\n",
              "        vertical-align: top;\n",
              "    }\n",
              "\n",
              "    .dataframe thead th {\n",
              "        text-align: right;\n",
              "    }\n",
              "</style>\n",
              "<table border=\"1\" class=\"dataframe\">\n",
              "  <thead>\n",
              "    <tr style=\"text-align: right;\">\n",
              "      <th></th>\n",
              "      <th>date</th>\n",
              "      <th>type</th>\n",
              "      <th>locale</th>\n",
              "      <th>locale_name</th>\n",
              "      <th>description</th>\n",
              "      <th>transferred</th>\n",
              "      <th>is_holiday</th>\n",
              "      <th>is_event</th>\n",
              "    </tr>\n",
              "  </thead>\n",
              "  <tbody>\n",
              "    <tr>\n",
              "      <th>264</th>\n",
              "      <td>2016-07-24</td>\n",
              "      <td>Additional</td>\n",
              "      <td>Local</td>\n",
              "      <td>Guayaquil</td>\n",
              "      <td>Fundacion de Guayaquil-1</td>\n",
              "      <td>False</td>\n",
              "      <td>1</td>\n",
              "      <td>0</td>\n",
              "    </tr>\n",
              "    <tr>\n",
              "      <th>265</th>\n",
              "      <td>2016-07-24</td>\n",
              "      <td>Transfer</td>\n",
              "      <td>Local</td>\n",
              "      <td>Guayaquil</td>\n",
              "      <td>Traslado Fundacion de Guayaquil</td>\n",
              "      <td>False</td>\n",
              "      <td>1</td>\n",
              "      <td>0</td>\n",
              "    </tr>\n",
              "  </tbody>\n",
              "</table>\n",
              "</div>"
            ],
            "text/plain": [
              "          date        type locale locale_name  \\\n",
              "264 2016-07-24  Additional  Local   Guayaquil   \n",
              "265 2016-07-24    Transfer  Local   Guayaquil   \n",
              "\n",
              "                         description  transferred  is_holiday  is_event  \n",
              "264         Fundacion de Guayaquil-1        False           1         0  \n",
              "265  Traslado Fundacion de Guayaquil        False           1         0  "
            ]
          },
          "execution_count": 84,
          "metadata": {},
          "output_type": "execute_result"
        }
      ],
      "source": [
        "# Filter holiday data to include only relevant cities in Guayas.\n",
        "filtered_holidays_guayas = df_holidays_events[\n",
        "    df_holidays_events['locale_name'].isin(['Guayaquil', 'Daule', 'Playas', 'Libertad'])\n",
        "]\n",
        "\n",
        "#Add Holiday and Event Flags (Feature Engineering)\n",
        "filtered_holidays_guayas['date'] = pd.to_datetime(filtered_holidays_guayas['date'])\n",
        "\n",
        "print('The filtered_holidays_guayas shape is',filtered_holidays_guayas.shape)\n",
        "print('the unique dates are',len(filtered_holidays_guayas['date'].unique()))\n",
        "\n",
        "# Find dates that appear more than once\n",
        "duplicate_dates = filtered_holidays_guayas['date'].value_counts()\n",
        "duplicate_dates = duplicate_dates[duplicate_dates > 1].index\n",
        "duplicate_dates\n",
        "\n",
        "# Filter the dataset for those dates\n",
        "filtered_holidays_guayas_duplicates = filtered_holidays_guayas[filtered_holidays_guayas['date'].isin(duplicate_dates)]\n",
        "filtered_holidays_guayas_duplicates\n"
      ]
    },
    {
      "cell_type": "markdown",
      "metadata": {},
      "source": [
        "We are working with a holiday dataset where some dates might have duplicate rows or conflicting data. The goal is to clean it so there's only one row per date, and if there's any disagreement (e.g. one row says it's a holiday and another says it's not), you treat it as a holiday."
      ]
    },
    {
      "cell_type": "code",
      "execution_count": null,
      "metadata": {
        "colab": {
          "base_uri": "https://localhost:8080/",
          "height": 224
        },
        "id": "3drA_ikEYnNj",
        "outputId": "9bea4684-9033-48dc-ee6d-73a01f61dda9"
      },
      "outputs": [
        {
          "name": "stdout",
          "output_type": "stream",
          "text": [
            "Unique dates  16\n"
          ]
        },
        {
          "data": {
            "text/html": [
              "<div>\n",
              "<style scoped>\n",
              "    .dataframe tbody tr th:only-of-type {\n",
              "        vertical-align: middle;\n",
              "    }\n",
              "\n",
              "    .dataframe tbody tr th {\n",
              "        vertical-align: top;\n",
              "    }\n",
              "\n",
              "    .dataframe thead th {\n",
              "        text-align: right;\n",
              "    }\n",
              "</style>\n",
              "<table border=\"1\" class=\"dataframe\">\n",
              "  <thead>\n",
              "    <tr style=\"text-align: right;\">\n",
              "      <th></th>\n",
              "      <th>date</th>\n",
              "      <th>type</th>\n",
              "      <th>locale</th>\n",
              "      <th>locale_name</th>\n",
              "      <th>description</th>\n",
              "      <th>transferred</th>\n",
              "      <th>is_holiday</th>\n",
              "      <th>is_event</th>\n",
              "    </tr>\n",
              "  </thead>\n",
              "  <tbody>\n",
              "    <tr>\n",
              "      <th>3</th>\n",
              "      <td>2012-04-14</td>\n",
              "      <td>Holiday</td>\n",
              "      <td>Local</td>\n",
              "      <td>Libertad</td>\n",
              "      <td>Cantonizacion de Libertad</td>\n",
              "      <td>False</td>\n",
              "      <td>1</td>\n",
              "      <td>0</td>\n",
              "    </tr>\n",
              "    <tr>\n",
              "      <th>49</th>\n",
              "      <td>2013-04-14</td>\n",
              "      <td>Holiday</td>\n",
              "      <td>Local</td>\n",
              "      <td>Libertad</td>\n",
              "      <td>Cantonizacion de Libertad</td>\n",
              "      <td>False</td>\n",
              "      <td>1</td>\n",
              "      <td>0</td>\n",
              "    </tr>\n",
              "    <tr>\n",
              "      <th>64</th>\n",
              "      <td>2013-07-24</td>\n",
              "      <td>Additional</td>\n",
              "      <td>Local</td>\n",
              "      <td>Guayaquil</td>\n",
              "      <td>Fundacion de Guayaquil-1</td>\n",
              "      <td>False</td>\n",
              "      <td>1</td>\n",
              "      <td>0</td>\n",
              "    </tr>\n",
              "    <tr>\n",
              "      <th>65</th>\n",
              "      <td>2013-07-25</td>\n",
              "      <td>Holiday</td>\n",
              "      <td>Local</td>\n",
              "      <td>Guayaquil</td>\n",
              "      <td>Fundacion de Guayaquil</td>\n",
              "      <td>False</td>\n",
              "      <td>1</td>\n",
              "      <td>0</td>\n",
              "    </tr>\n",
              "    <tr>\n",
              "      <th>98</th>\n",
              "      <td>2014-04-14</td>\n",
              "      <td>Holiday</td>\n",
              "      <td>Local</td>\n",
              "      <td>Libertad</td>\n",
              "      <td>Cantonizacion de Libertad</td>\n",
              "      <td>False</td>\n",
              "      <td>1</td>\n",
              "      <td>0</td>\n",
              "    </tr>\n",
              "  </tbody>\n",
              "</table>\n",
              "</div>"
            ],
            "text/plain": [
              "         date        type locale locale_name                description  \\\n",
              "3  2012-04-14     Holiday  Local    Libertad  Cantonizacion de Libertad   \n",
              "49 2013-04-14     Holiday  Local    Libertad  Cantonizacion de Libertad   \n",
              "64 2013-07-24  Additional  Local   Guayaquil   Fundacion de Guayaquil-1   \n",
              "65 2013-07-25     Holiday  Local   Guayaquil     Fundacion de Guayaquil   \n",
              "98 2014-04-14     Holiday  Local    Libertad  Cantonizacion de Libertad   \n",
              "\n",
              "    transferred  is_holiday  is_event  \n",
              "3         False           1         0  \n",
              "49        False           1         0  \n",
              "64        False           1         0  \n",
              "65        False           1         0  \n",
              "98        False           1         0  "
            ]
          },
          "execution_count": 85,
          "metadata": {},
          "output_type": "execute_result"
        }
      ],
      "source": [
        "# Resolve duplicates in holiday dataset\n",
        "\n",
        "# Create an empty list to store cleaned rows\n",
        "cleaned_rows = []\n",
        "\n",
        "# Groups the dataset so that all rows with the same date are in the same grou.\n",
        "grouped = filtered_holidays_guayas.groupby('date')\n",
        "\n",
        "# Loop through each group of rows for the same date\n",
        "for date, group in grouped:\n",
        "    row = group.iloc[0].copy()\n",
        "\n",
        "    if group['is_holiday'].nunique() > 1:\n",
        "        # If there are different values for 'is_holiday', set both to 1\n",
        "        row['is_holiday'] = 1\n",
        "        row['is_event'] = 1\n",
        "\n",
        "    cleaned_rows.append(row)\n",
        "\n",
        "# Create a new DataFrame from the cleaned rows\n",
        "filtered_holidays_guayas_corrected = pd.DataFrame(cleaned_rows)\n",
        "print('Unique dates ',filtered_holidays_guayas_corrected['date'].nunique())\n",
        "filtered_holidays_guayas_corrected.head()"
      ]
    },
    {
      "cell_type": "code",
      "execution_count": 86,
      "metadata": {
        "colab": {
          "base_uri": "https://localhost:8080/",
          "height": 424
        },
        "id": "lQsXTAvaZQK5",
        "outputId": "20910b8f-374c-48a8-864d-a53fb88d7ed1"
      },
      "outputs": [
        {
          "data": {
            "text/html": [
              "<div>\n",
              "<style scoped>\n",
              "    .dataframe tbody tr th:only-of-type {\n",
              "        vertical-align: middle;\n",
              "    }\n",
              "\n",
              "    .dataframe tbody tr th {\n",
              "        vertical-align: top;\n",
              "    }\n",
              "\n",
              "    .dataframe thead th {\n",
              "        text-align: right;\n",
              "    }\n",
              "</style>\n",
              "<table border=\"1\" class=\"dataframe\">\n",
              "  <thead>\n",
              "    <tr style=\"text-align: right;\">\n",
              "      <th></th>\n",
              "      <th>date</th>\n",
              "      <th>is_holiday</th>\n",
              "      <th>is_event</th>\n",
              "    </tr>\n",
              "  </thead>\n",
              "  <tbody>\n",
              "    <tr>\n",
              "      <th>3</th>\n",
              "      <td>2012-04-14</td>\n",
              "      <td>1</td>\n",
              "      <td>0</td>\n",
              "    </tr>\n",
              "    <tr>\n",
              "      <th>49</th>\n",
              "      <td>2013-04-14</td>\n",
              "      <td>1</td>\n",
              "      <td>0</td>\n",
              "    </tr>\n",
              "    <tr>\n",
              "      <th>64</th>\n",
              "      <td>2013-07-24</td>\n",
              "      <td>1</td>\n",
              "      <td>0</td>\n",
              "    </tr>\n",
              "    <tr>\n",
              "      <th>65</th>\n",
              "      <td>2013-07-25</td>\n",
              "      <td>1</td>\n",
              "      <td>0</td>\n",
              "    </tr>\n",
              "    <tr>\n",
              "      <th>98</th>\n",
              "      <td>2014-04-14</td>\n",
              "      <td>1</td>\n",
              "      <td>0</td>\n",
              "    </tr>\n",
              "    <tr>\n",
              "      <th>127</th>\n",
              "      <td>2014-07-24</td>\n",
              "      <td>1</td>\n",
              "      <td>0</td>\n",
              "    </tr>\n",
              "    <tr>\n",
              "      <th>128</th>\n",
              "      <td>2014-07-25</td>\n",
              "      <td>1</td>\n",
              "      <td>0</td>\n",
              "    </tr>\n",
              "    <tr>\n",
              "      <th>168</th>\n",
              "      <td>2015-04-14</td>\n",
              "      <td>1</td>\n",
              "      <td>0</td>\n",
              "    </tr>\n",
              "    <tr>\n",
              "      <th>182</th>\n",
              "      <td>2015-07-24</td>\n",
              "      <td>1</td>\n",
              "      <td>0</td>\n",
              "    </tr>\n",
              "    <tr>\n",
              "      <th>183</th>\n",
              "      <td>2015-07-25</td>\n",
              "      <td>1</td>\n",
              "      <td>0</td>\n",
              "    </tr>\n",
              "    <tr>\n",
              "      <th>218</th>\n",
              "      <td>2016-04-14</td>\n",
              "      <td>1</td>\n",
              "      <td>0</td>\n",
              "    </tr>\n",
              "    <tr>\n",
              "      <th>264</th>\n",
              "      <td>2016-07-24</td>\n",
              "      <td>1</td>\n",
              "      <td>0</td>\n",
              "    </tr>\n",
              "    <tr>\n",
              "      <th>266</th>\n",
              "      <td>2016-07-25</td>\n",
              "      <td>0</td>\n",
              "      <td>0</td>\n",
              "    </tr>\n",
              "    <tr>\n",
              "      <th>305</th>\n",
              "      <td>2017-04-14</td>\n",
              "      <td>1</td>\n",
              "      <td>0</td>\n",
              "    </tr>\n",
              "    <tr>\n",
              "      <th>321</th>\n",
              "      <td>2017-07-24</td>\n",
              "      <td>1</td>\n",
              "      <td>0</td>\n",
              "    </tr>\n",
              "    <tr>\n",
              "      <th>322</th>\n",
              "      <td>2017-07-25</td>\n",
              "      <td>1</td>\n",
              "      <td>0</td>\n",
              "    </tr>\n",
              "  </tbody>\n",
              "</table>\n",
              "</div>"
            ],
            "text/plain": [
              "          date  is_holiday  is_event\n",
              "3   2012-04-14           1         0\n",
              "49  2013-04-14           1         0\n",
              "64  2013-07-24           1         0\n",
              "65  2013-07-25           1         0\n",
              "98  2014-04-14           1         0\n",
              "127 2014-07-24           1         0\n",
              "128 2014-07-25           1         0\n",
              "168 2015-04-14           1         0\n",
              "182 2015-07-24           1         0\n",
              "183 2015-07-25           1         0\n",
              "218 2016-04-14           1         0\n",
              "264 2016-07-24           1         0\n",
              "266 2016-07-25           0         0\n",
              "305 2017-04-14           1         0\n",
              "321 2017-07-24           1         0\n",
              "322 2017-07-25           1         0"
            ]
          },
          "execution_count": 86,
          "metadata": {},
          "output_type": "execute_result"
        }
      ],
      "source": [
        "holidays_guayas=filtered_holidays_guayas_corrected[['date', 'is_holiday', 'is_event']]\n",
        "holidays_guayas"
      ]
    },
    {
      "cell_type": "markdown",
      "metadata": {},
      "source": [
        "### Merge with main data"
      ]
    },
    {
      "cell_type": "code",
      "execution_count": 87,
      "metadata": {
        "id": "ZP8cM4UjNdDd"
      },
      "outputs": [],
      "source": [
        "# Merge with main data\n",
        "df_full = df_full.merge(holidays_guayas, on='date', how='left')\n",
        "\n",
        "# Fill NaN values in 'is_holiday' and 'is_event' columns with 0\n",
        "df_full['is_holiday'] = df_full['is_holiday'].fillna(0).astype(int)\n",
        "df_full['is_event'] = df_full['is_event'].fillna(0).astype(int)"
      ]
    },
    {
      "cell_type": "code",
      "execution_count": 30,
      "metadata": {
        "id": "HHtrDLka5JlJ"
      },
      "outputs": [],
      "source": [
        "# Now we have all dates and corresponding sales for them. Let's replace the original dataframe.\n",
        "df_train = df_full\n",
        "del df_full"
      ]
    },
    {
      "cell_type": "markdown",
      "metadata": {
        "id": "fpnIzvFKtjmN"
      },
      "source": [
        "# Save combined data for further feature engineering"
      ]
    },
    {
      "cell_type": "code",
      "execution_count": null,
      "metadata": {
        "colab": {
          "base_uri": "https://localhost:8080/",
          "height": 34
        },
        "id": "EwIlG7R1trX2",
        "outputId": "c8f00e34-9f51-43cd-d677-823d20458d62"
      },
      "outputs": [
        {
          "data": {
            "application/javascript": "\n    async function download(id, filename, size) {\n      if (!google.colab.kernel.accessAllowed) {\n        return;\n      }\n      const div = document.createElement('div');\n      const label = document.createElement('label');\n      label.textContent = `Downloading \"${filename}\": `;\n      div.appendChild(label);\n      const progress = document.createElement('progress');\n      progress.max = size;\n      div.appendChild(progress);\n      document.body.appendChild(div);\n\n      const buffers = [];\n      let downloaded = 0;\n\n      const channel = await google.colab.kernel.comms.open(id);\n      // Send a message to notify the kernel that we're ready.\n      channel.send({})\n\n      for await (const message of channel.messages) {\n        // Send a message to notify the kernel that we're ready.\n        channel.send({})\n        if (message.buffers) {\n          for (const buffer of message.buffers) {\n            buffers.push(buffer);\n            downloaded += buffer.byteLength;\n            progress.value = downloaded;\n          }\n        }\n      }\n      const blob = new Blob(buffers, {type: 'application/binary'});\n      const a = document.createElement('a');\n      a.href = window.URL.createObjectURL(blob);\n      a.download = filename;\n      div.appendChild(a);\n      a.click();\n      div.remove();\n    }\n  ",
            "text/plain": [
              "<IPython.core.display.Javascript object>"
            ]
          },
          "metadata": {},
          "output_type": "display_data"
        },
        {
          "data": {
            "application/javascript": "download(\"download_cbb2ae96-e0ff-4126-ac30-37d482d9b6b8\", \"full_merged_data.csv\", 1224346336)",
            "text/plain": [
              "<IPython.core.display.Javascript object>"
            ]
          },
          "metadata": {},
          "output_type": "display_data"
        }
      ],
      "source": [
        "#df_tain.to_csv('full_merged_data.csv', index= False\n",
        "#from google.colab import files\n",
        "#files.download('full_merged_data.csv')"
      ]
    },
    {
      "cell_type": "code",
      "execution_count": 33,
      "metadata": {
        "id": "bV1YOVnIaE9g"
      },
      "outputs": [],
      "source": [
        "#Save the CSV\n",
        "df_train.to_csv('Data/train_Guayas_processed.csv', index=False)\n",
        "#Read data automatically from drive\n",
        "df_train = pd.read_csv('Data/train_Guayas_processed.csv')\n"
      ]
    },
    {
      "cell_type": "code",
      "execution_count": 34,
      "metadata": {},
      "outputs": [
        {
          "data": {
            "text/html": [
              "<div>\n",
              "<style scoped>\n",
              "    .dataframe tbody tr th:only-of-type {\n",
              "        vertical-align: middle;\n",
              "    }\n",
              "\n",
              "    .dataframe tbody tr th {\n",
              "        vertical-align: top;\n",
              "    }\n",
              "\n",
              "    .dataframe thead th {\n",
              "        text-align: right;\n",
              "    }\n",
              "</style>\n",
              "<table border=\"1\" class=\"dataframe\">\n",
              "  <thead>\n",
              "    <tr style=\"text-align: right;\">\n",
              "      <th></th>\n",
              "      <th>store_nbr</th>\n",
              "      <th>item_nbr</th>\n",
              "      <th>date</th>\n",
              "      <th>id</th>\n",
              "      <th>unit_sales</th>\n",
              "      <th>onpromotion</th>\n",
              "      <th>outlier</th>\n",
              "      <th>dcoilwtico</th>\n",
              "      <th>transactions</th>\n",
              "      <th>is_holiday</th>\n",
              "      <th>is_event</th>\n",
              "    </tr>\n",
              "  </thead>\n",
              "  <tbody>\n",
              "    <tr>\n",
              "      <th>0</th>\n",
              "      <td>24</td>\n",
              "      <td>105574</td>\n",
              "      <td>2013-01-02</td>\n",
              "      <td>18790.0</td>\n",
              "      <td>12.0</td>\n",
              "      <td>0</td>\n",
              "      <td>0</td>\n",
              "      <td>93.14</td>\n",
              "      <td>2605</td>\n",
              "      <td>0</td>\n",
              "      <td>0</td>\n",
              "    </tr>\n",
              "    <tr>\n",
              "      <th>1</th>\n",
              "      <td>24</td>\n",
              "      <td>105574</td>\n",
              "      <td>2013-01-03</td>\n",
              "      <td>59692.0</td>\n",
              "      <td>1.0</td>\n",
              "      <td>0</td>\n",
              "      <td>0</td>\n",
              "      <td>92.97</td>\n",
              "      <td>2462</td>\n",
              "      <td>0</td>\n",
              "      <td>0</td>\n",
              "    </tr>\n",
              "    <tr>\n",
              "      <th>2</th>\n",
              "      <td>24</td>\n",
              "      <td>105574</td>\n",
              "      <td>2013-01-04</td>\n",
              "      <td>99664.0</td>\n",
              "      <td>3.0</td>\n",
              "      <td>0</td>\n",
              "      <td>0</td>\n",
              "      <td>93.12</td>\n",
              "      <td>2607</td>\n",
              "      <td>0</td>\n",
              "      <td>0</td>\n",
              "    </tr>\n",
              "    <tr>\n",
              "      <th>3</th>\n",
              "      <td>24</td>\n",
              "      <td>105574</td>\n",
              "      <td>2013-01-05</td>\n",
              "      <td>140805.0</td>\n",
              "      <td>4.0</td>\n",
              "      <td>0</td>\n",
              "      <td>0</td>\n",
              "      <td>NaN</td>\n",
              "      <td>2578</td>\n",
              "      <td>0</td>\n",
              "      <td>0</td>\n",
              "    </tr>\n",
              "    <tr>\n",
              "      <th>4</th>\n",
              "      <td>24</td>\n",
              "      <td>105574</td>\n",
              "      <td>2013-01-06</td>\n",
              "      <td>182800.0</td>\n",
              "      <td>7.0</td>\n",
              "      <td>0</td>\n",
              "      <td>0</td>\n",
              "      <td>NaN</td>\n",
              "      <td>2061</td>\n",
              "      <td>0</td>\n",
              "      <td>0</td>\n",
              "    </tr>\n",
              "  </tbody>\n",
              "</table>\n",
              "</div>"
            ],
            "text/plain": [
              "   store_nbr  item_nbr        date        id  unit_sales  onpromotion  \\\n",
              "0         24    105574  2013-01-02   18790.0        12.0            0   \n",
              "1         24    105574  2013-01-03   59692.0         1.0            0   \n",
              "2         24    105574  2013-01-04   99664.0         3.0            0   \n",
              "3         24    105574  2013-01-05  140805.0         4.0            0   \n",
              "4         24    105574  2013-01-06  182800.0         7.0            0   \n",
              "\n",
              "   outlier  dcoilwtico  transactions  is_holiday  is_event  \n",
              "0        0       93.14          2605           0         0  \n",
              "1        0       92.97          2462           0         0  \n",
              "2        0       93.12          2607           0         0  \n",
              "3        0         NaN          2578           0         0  \n",
              "4        0         NaN          2061           0         0  "
            ]
          },
          "execution_count": 34,
          "metadata": {},
          "output_type": "execute_result"
        }
      ],
      "source": [
        "df_train.head()"
      ]
    },
    {
      "cell_type": "markdown",
      "metadata": {},
      "source": [
        "Summary of Columns Get in Final Data:\n",
        "\n",
        "- store_nbr, item_nbr, date, unit_sales(zero-filled), onpromotion (binary flag), outlier (binary flag for high sales (1 if sales are extreme)), dcoilwtico (oil price), transactions (store traffic), is_holiday, is_event"
      ]
    },
    {
      "cell_type": "code",
      "execution_count": 35,
      "metadata": {
        "id": "4odhU2wBuD1O"
      },
      "outputs": [
        {
          "data": {
            "text/plain": [
              "(35069356, 11)"
            ]
          },
          "execution_count": 35,
          "metadata": {},
          "output_type": "execute_result"
        }
      ],
      "source": [
        "df_train.shape"
      ]
    }
  ],
  "metadata": {
    "colab": {
      "collapsed_sections": [
        "Y1JxdsAqIKMZ"
      ],
      "provenance": []
    },
    "kernelspec": {
      "display_name": "base",
      "language": "python",
      "name": "python3"
    },
    "language_info": {
      "codemirror_mode": {
        "name": "ipython",
        "version": 3
      },
      "file_extension": ".py",
      "mimetype": "text/x-python",
      "name": "python",
      "nbconvert_exporter": "python",
      "pygments_lexer": "ipython3",
      "version": "3.12.7"
    }
  },
  "nbformat": 4,
  "nbformat_minor": 0
}
